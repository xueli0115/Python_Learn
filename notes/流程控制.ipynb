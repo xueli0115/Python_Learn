{
 "cells": [
  {
   "cell_type": "code",
   "execution_count": 2,
   "id": "01b342d8",
   "metadata": {
    "pycharm": {
     "is_executing": false
    }
   },
   "outputs": [
    {
     "name": "stdout",
     "text": [
      "哈哈哈哈\n"
     ],
     "output_type": "stream"
    }
   ],
   "source": [
    "print (\"哈哈哈哈\")"
   ]
  },
  {
   "cell_type": "code",
   "execution_count": 3,
   "id": "e155b36d",
   "metadata": {
    "pycharm": {
     "is_executing": false
    }
   },
   "outputs": [],
   "source": [
    "# @Time: 2021/4/8 19:50\n",
    "# @Author: xueli\n",
    "# @File: demo07.py\n",
    "import random"
   ]
  },
  {
   "cell_type": "code",
   "execution_count": 4,
   "id": "f0d39a61",
   "metadata": {
    "pycharm": {
     "is_executing": false
    }
   },
   "outputs": [
    {
     "name": "stdout",
     "text": [
      "5 大于0\n"
     ],
     "output_type": "stream"
    }
   ],
   "source": [
    "num = int(input('请输入一个数字：'))\n",
    "if num > 0:\n",
    "    print(num, '大于0')\n",
    "elif num == 0:\n",
    "    print(num, '等于0')\n",
    "else:\n",
    "    print(num, '小于0')"
   ]
  },
  {
   "cell_type": "code",
   "execution_count": 5,
   "id": "798d5e19",
   "metadata": {
    "pycharm": {
     "is_executing": false
    }
   },
   "outputs": [
    {
     "name": "stdout",
     "text": [
      "0.8414709848078965\n"
     ],
     "output_type": "stream"
    }
   ],
   "source": [
    "import math\n",
    "print (math.sin(1))"
   ]
  },
  {
   "cell_type": "code",
   "execution_count": 5,
   "id": "67b77be7",
   "metadata": {
    "pycharm": {
     "is_executing": false
    }
   },
   "outputs": [],
   "source": []
  }
 ],
 "metadata": {
  "kernelspec": {
   "display_name": "Python 3",
   "language": "python",
   "name": "python3"
  },
  "language_info": {
   "codemirror_mode": {
    "name": "ipython",
    "version": 3
   },
   "file_extension": ".py",
   "mimetype": "text/x-python",
   "name": "python",
   "nbconvert_exporter": "python",
   "pygments_lexer": "ipython3",
   "version": "3.8.8"
  },
  "pycharm": {
   "stem_cell": {
    "cell_type": "raw",
    "source": [],
    "metadata": {
     "collapsed": false
    }
   }
  }
 },
 "nbformat": 4,
 "nbformat_minor": 5
}