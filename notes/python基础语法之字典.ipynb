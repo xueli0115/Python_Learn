{
 "cells": [
  {
   "cell_type": "markdown",
   "id": "ae96fb74",
   "metadata": {},
   "source": [
    "#### 字典(dict)\n",
    "\n",
    "一、字典的特性\n",
    "\n",
    "1. 通过键值对来表示\n",
    "2. key不能重复且不可以修改，如果重复认为是同一个元素\n",
    "3. 后进先出\n",
    "\n",
    "二、字典的创建\n",
    "\n",
    "1. 方法一："
   ]
  },
  {
   "cell_type": "code",
   "execution_count": 1,
   "id": "71d297f1",
   "metadata": {},
   "outputs": [],
   "source": [
    "dict_01={'key1':'vlue1','key2':'value2'}"
   ]
  },
  {
   "cell_type": "markdown",
   "id": "0609ff3a",
   "metadata": {},
   "source": [
    "2. 方法二："
   ]
  },
  {
   "cell_type": "code",
   "execution_count": 2,
   "id": "be1d6305",
   "metadata": {},
   "outputs": [],
   "source": [
    "dict_01=dict(a=1,b=2)"
   ]
  },
  {
   "cell_type": "markdown",
   "id": "4ee01492",
   "metadata": {},
   "source": [
    "3. 方法三："
   ]
  },
  {
   "cell_type": "code",
   "execution_count": 3,
   "id": "40b70875",
   "metadata": {},
   "outputs": [
    {
     "name": "stdout",
     "output_type": "stream",
     "text": [
      "{'a': ['a', 'b', 'c'], 'b': ['a', 'b', 'c'], 'c': ['a', 'b', 'c']}\n"
     ]
    }
   ],
   "source": [
    "list_01=['a','b','c']#key\n",
    "list_02=[1,2,3]#value\n",
    "res=dict.fromkeys(list_01,list_01)\n",
    "print(res)\n",
    "#输出：{'a': ['a', 'b', 'c'], 'b': ['a', 'b', 'c'], 'c': ['a', 'b', 'c']}"
   ]
  },
  {
   "cell_type": "markdown",
   "id": "4829a4c1",
   "metadata": {},
   "source": [
    "三、字典的操作\n",
    "\n",
    "（一）查询/value的获取\n",
    "\n",
    "1. 方法一："
   ]
  },
  {
   "cell_type": "code",
   "execution_count": 6,
   "id": "ba4cfa47",
   "metadata": {},
   "outputs": [
    {
     "name": "stdout",
     "output_type": "stream",
     "text": [
      "vlue1\n"
     ]
    }
   ],
   "source": [
    "dict_01={'key1':'vlue1','key2':'value2'}\n",
    "res=dict_01['key1']\n",
    "print(res)"
   ]
  },
  {
   "cell_type": "markdown",
   "id": "73b10195",
   "metadata": {},
   "source": [
    "2. 方法二："
   ]
  },
  {
   "cell_type": "code",
   "execution_count": 7,
   "id": "2af4dc5f",
   "metadata": {},
   "outputs": [
    {
     "name": "stdout",
     "output_type": "stream",
     "text": [
      "vlue1\n",
      "value3\n"
     ]
    }
   ],
   "source": [
    "dict_01={'key1':'vlue1','key2':'value2'}\n",
    "res_01=dict_01.get('key1')\n",
    "print(res_01)\n",
    "\n",
    "#当没有对应的key值时，可以赋予key一个value,并没有修改字典\n",
    "dict_02={'key1':'vlue1','key2':'value2'}\n",
    "res_02=dict_02.get('key3',\"value3\")\n",
    "print(res_02)"
   ]
  },
  {
   "cell_type": "markdown",
   "id": "4e437e94",
   "metadata": {},
   "source": [
    "3. 获取所有的key或value"
   ]
  },
  {
   "cell_type": "code",
   "execution_count": 8,
   "id": "487dce7b",
   "metadata": {},
   "outputs": [
    {
     "name": "stdout",
     "output_type": "stream",
     "text": [
      "dict_keys(['key1', 'key2'])\n",
      "<class 'dict_keys'>\n",
      "['key1', 'key2'] ['vlue1', 'value2']\n"
     ]
    }
   ],
   "source": [
    "dict_01={'key1':'vlue1','key2':'value2'}\n",
    "dict_01.keys()\n",
    "dict_01.values()\n",
    "print(dict_01.keys())\n",
    "print(type(dict_01.keys()))\n",
    "print(list(dict_01.keys()),list(dict_01.values()))"
   ]
  },
  {
   "cell_type": "markdown",
   "id": "abfaba7b",
   "metadata": {},
   "source": [
    "4. 获取所有的key和value"
   ]
  },
  {
   "cell_type": "code",
   "execution_count": 9,
   "id": "6a85ad8b",
   "metadata": {},
   "outputs": [
    {
     "name": "stdout",
     "output_type": "stream",
     "text": [
      "dict_items([('key1', 'vlue1'), ('key2', 'value2')])\n",
      "[('key1', 'vlue1'), ('key2', 'value2')]\n"
     ]
    }
   ],
   "source": [
    "dict_01={'key1':'vlue1','key2':'value2'}\n",
    "print(dict_01.items())\n",
    "print(list(dict_01.items()))"
   ]
  },
  {
   "cell_type": "markdown",
   "id": "c3965615",
   "metadata": {},
   "source": [
    "（二）修改\n",
    "\n",
    "1. 通过key，修改对应的value值,如果修改的key不存在，则会自动新增一个键值对"
   ]
  },
  {
   "cell_type": "code",
   "execution_count": 10,
   "id": "c45349f2",
   "metadata": {},
   "outputs": [
    {
     "name": "stdout",
     "output_type": "stream",
     "text": [
      "{'key1': '8888', 'key2': 'value2'}\n",
      "{'key1': 'vlue1', 'key2': 'value2', 'key3': 'new value3'}\n"
     ]
    }
   ],
   "source": [
    "dict_01={'key1':'vlue1','key2':'value2'}\n",
    "dict_01['key1']='8888'\n",
    "print(dict_01)\n",
    "\n",
    "#如果修改的key不存在，则会自动新增一个键值对\n",
    "dict_01={'key1':'vlue1','key2':'value2'}\n",
    "dict_01['key3']='new value3'\n",
    "print(dict_01)"
   ]
  },
  {
   "cell_type": "markdown",
   "id": "07bfa0e9",
   "metadata": {},
   "source": [
    "2. setdefault()：当key存在时，不会修改对应的value；如果key不存在，则会自动新增一个键值对"
   ]
  },
  {
   "cell_type": "code",
   "execution_count": 11,
   "id": "064983e2",
   "metadata": {},
   "outputs": [
    {
     "name": "stdout",
     "output_type": "stream",
     "text": [
      "{'key1': 'vlue1', 'key2': 'value2'}\n",
      "{'key1': 'vlue1', 'key2': 'value2', 'key3': 'new value3'}\n"
     ]
    }
   ],
   "source": [
    "#当key存在时，不会修改对应的value\n",
    "dict_02={'key1':'vlue1','key2':'value2'}\n",
    "dict_02.setdefault('key1','999')\n",
    "print(dict_02)\n",
    "\n",
    "#如果key不存在，则会自动新增一个键值对\n",
    "dict_02={'key1':'vlue1','key2':'value2'}\n",
    "dict_02.setdefault('key3','new value3')\n",
    "print(dict_02)"
   ]
  },
  {
   "cell_type": "markdown",
   "id": "9502475e",
   "metadata": {},
   "source": [
    "3. update()：追加"
   ]
  },
  {
   "cell_type": "code",
   "execution_count": 12,
   "id": "8aba456a",
   "metadata": {},
   "outputs": [
    {
     "name": "stdout",
     "output_type": "stream",
     "text": [
      "{'key1': 'vlue1', 'key2': 'value2', 'key3': 'vlue3', 'key4': 'value4'}\n",
      "{'key1': 'vlue3', 'key2': 'value2', 'key4': 'value4'}\n"
     ]
    }
   ],
   "source": [
    "dict_01={'key1':'vlue1','key2':'value2'}\n",
    "dict_02={'key3':'vlue3','key4':'value4'}\n",
    "dict_01.update(dict_02)\n",
    "print(dict_01)\n",
    "\n",
    "#当追加的字典中的key值和原来的key值相同，则原来的value被覆盖\n",
    "dict_01={'key1':'vlue1','key2':'value2'}\n",
    "dict_02={'key1':'vlue3','key4':'value4'}\n",
    "dict_01.update(dict_02)\n",
    "print(dict_01)"
   ]
  },
  {
   "cell_type": "markdown",
   "id": "1f9fb7b9",
   "metadata": {},
   "source": [
    "（三）删除\n",
    "\n",
    "1. del:基于key删除value值"
   ]
  },
  {
   "cell_type": "code",
   "execution_count": 13,
   "id": "d2f80b21",
   "metadata": {},
   "outputs": [
    {
     "name": "stdout",
     "output_type": "stream",
     "text": [
      "{'key2': 'value2'}\n"
     ]
    }
   ],
   "source": [
    "dict_01={'key1':'vlue1','key2':'value2'}\n",
    "del dict_01['key1']\n",
    "print(dict_01)"
   ]
  },
  {
   "cell_type": "markdown",
   "id": "e431ed36",
   "metadata": {},
   "source": [
    "2. pop:基于key删除value值"
   ]
  },
  {
   "cell_type": "code",
   "execution_count": 14,
   "id": "e48cad93",
   "metadata": {},
   "outputs": [
    {
     "name": "stdout",
     "output_type": "stream",
     "text": [
      "{'key2': 'value2'}\n"
     ]
    }
   ],
   "source": [
    "dict_01={'key1':'vlue1','key2':'value2'}\n",
    "dict_01.pop('key1')\n",
    "print(dict_01)"
   ]
  },
  {
   "cell_type": "markdown",
   "id": "5747e6cc",
   "metadata": {},
   "source": [
    "3. popitem:删除最后一个键值对，返回的是被删除的键值对"
   ]
  },
  {
   "cell_type": "code",
   "execution_count": 15,
   "id": "03b250a8",
   "metadata": {},
   "outputs": [
    {
     "name": "stdout",
     "output_type": "stream",
     "text": [
      "('key4', 'value4')\n",
      "{'key1': 'vlue1', 'key2': 'value2', 'key3': 'vlue3'}\n"
     ]
    }
   ],
   "source": [
    "dict_01={'key1':'vlue1','key2':'value2','key3':'vlue3','key4':'value4'}\n",
    "res=dict_01.popitem()\n",
    "print(res)\n",
    "print(dict_01)"
   ]
  },
  {
   "cell_type": "markdown",
   "id": "872b40e7",
   "metadata": {},
   "source": [
    "4. clear：清空所有键值对"
   ]
  },
  {
   "cell_type": "code",
   "execution_count": 16,
   "id": "0849ac86",
   "metadata": {},
   "outputs": [
    {
     "name": "stdout",
     "output_type": "stream",
     "text": [
      "{}\n"
     ]
    }
   ],
   "source": [
    "dict_01={'key1':'vlue1','key2':'value2','key3':'vlue3','key4':'value4'}\n",
    "dict_01.clear()\n",
    "print(dict_01)"
   ]
  },
  {
   "cell_type": "markdown",
   "id": "4804c4a8",
   "metadata": {},
   "source": [
    "四、深浅拷贝\n",
    "\n",
    "1. 浅拷贝：只拷贝第一层目录"
   ]
  },
  {
   "cell_type": "code",
   "execution_count": 17,
   "id": "d6f0250f",
   "metadata": {},
   "outputs": [
    {
     "name": "stdout",
     "output_type": "stream",
     "text": [
      "老字典: {'key1': 'value1', 'key2': 'value2', 'key3': [1, 2, 3, 4]} 2115869754048\n",
      "新字典: {'key1': 'value1', 'key2': 'value2', 'key3': [1, 2, 3, 4]} 2115869753984\n",
      "老字典: {'key1': 'value1', 'key2': 'value2', 'key3': [1, 2, 3, 4, 'test']} 2115869754048\n",
      "新字典: {'key1': 'value1', 'key2': 'value2', 'key3': [1, 2, 3, 4, 'test']} 2115869753984\n"
     ]
    }
   ],
   "source": [
    "dict_01={'key1':'value1',\"key2\":'value2','key3':[1,2,3,4]}\n",
    "new_dict=dict_01.copy()\n",
    "#获取内存地址：id\n",
    "print('老字典:',dict_01,id(dict_01))\n",
    "print('新字典:',new_dict,id(new_dict))\n",
    "\n",
    "#在key3对应的value列表中新增一个数据\n",
    "key3_value=dict_01['key3']\n",
    "key3_value.append('test')\n",
    "print('老字典:',dict_01,id(dict_01))\n",
    "print('新字典:',new_dict,id(new_dict))"
   ]
  },
  {
   "cell_type": "markdown",
   "id": "5073b9db",
   "metadata": {},
   "source": [
    "2. 深拷贝：拷贝第一层目录和第二层目录"
   ]
  },
  {
   "cell_type": "code",
   "execution_count": 18,
   "id": "e84d5149",
   "metadata": {},
   "outputs": [
    {
     "name": "stdout",
     "output_type": "stream",
     "text": [
      "老字典: {'key1': 'value1', 'key2': 'value2', 'key3': [1, 2, 3, 4]} 2115869711424\n",
      "新字典: {'key1': 'value1', 'key2': 'value2', 'key3': [1, 2, 3, 4]} 2115869710912\n",
      "老字典: {'key1': 'value1', 'key2': 'value2', 'key3': [1, 2, 3, 4, 'test']} 2115869711424\n",
      "新字典: {'key1': 'value1', 'key2': 'value2', 'key3': [1, 2, 3, 4]} 2115869710912\n"
     ]
    }
   ],
   "source": [
    "import copy\n",
    "dict_02={'key1':'value1',\"key2\":'value2','key3':[1,2,3,4]}\n",
    "new_dict2=copy.deepcopy(dict_02)\n",
    "#获取内存地址：id\n",
    "print('老字典:',dict_02,id(dict_02))\n",
    "print('新字典:',new_dict2,id(new_dict2))\n",
    "\n",
    "#在key3对应的value列表中新增一个数据\n",
    "key3_value=dict_02['key3']\n",
    "key3_value.append('test')\n",
    "print('老字典:',dict_02,id(dict_02))\n",
    "print('新字典:',new_dict2,id(new_dict2))"
   ]
  }
 ],
 "metadata": {
  "kernelspec": {
   "display_name": "Python 3",
   "language": "python",
   "name": "python3"
  },
  "language_info": {
   "codemirror_mode": {
    "name": "ipython",
    "version": 3
   },
   "file_extension": ".py",
   "mimetype": "text/x-python",
   "name": "python",
   "nbconvert_exporter": "python",
   "pygments_lexer": "ipython3",
   "version": "3.8.0"
  }
 },
 "nbformat": 4,
 "nbformat_minor": 5
}
