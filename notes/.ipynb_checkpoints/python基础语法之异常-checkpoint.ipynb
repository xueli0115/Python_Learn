{
 "cells": [
  {
   "cell_type": "markdown",
   "id": "preceding-ordering",
   "metadata": {},
   "source": [
    "#### 异常\n",
    "一、异常处理\n",
    "1. 写法一：  \n",
    "```\n",
    "try:\n",
    "    print(num)\n",
    "    print(\"不报错执行\")\n",
    "except:\n",
    "    print(\"报错时执行\")\n",
    "```\n",
    "2. 写法二：\n",
    "```\n",
    "try:\n",
    "    #执行代码\n",
    "    print(num)\n",
    "    print(\"不报错执行1\")\n",
    "except:\n",
    "    #异常时执行\n",
    "    print(\"报错时执行\")\n",
    "else:\n",
    "    #不报错时执行\n",
    "    print(\"不报错执行2\")\n",
    "```\n",
    "3. 写法三：\n",
    "```\n",
    "try:\n",
    "    #执行代码\n",
    "    print(num)\n",
    "    print(\"不报错执行1\")\n",
    "except:\n",
    "    #异常时执行\n",
    "    print(\"报错时执行\")\n",
    "else:\n",
    "    #不报错时执行\n",
    "    print(\"不报错执行2\")\n",
    "finally:\n",
    "    #无论是否报错都会执行\n",
    "    print(\"一定会执行\")\n",
    "```\n",
    "\n",
    "\n",
    "二、异常捕获  \n",
    "1.\n",
    "```\n",
    "try:\n",
    "    print(num)\n",
    "    print(\"不报错执行\")\n",
    "except Exception as e:\n",
    "    print(e)\n",
    "    print(\"报错时执行\")\n",
    "```\n",
    "2.自定义异常：\n",
    "```\n",
    "if 2>1:\n",
    "    raise Exception(\"自定义异常\")\n",
    "```"
   ]
  },
  {
   "cell_type": "code",
   "execution_count": 2,
   "id": "surprising-papua",
   "metadata": {},
   "outputs": [
    {
     "name": "stdout",
     "output_type": "stream",
     "text": [
      "自定义异常 None\n"
     ]
    },
    {
     "name": "stderr",
     "output_type": "stream",
     "text": [
      "Traceback (most recent call last):\n",
      "  File \"<ipython-input-2-a7bea6c88d38>\", line 4, in <module>\n",
      "    raise Exception(\"自定义异常\")\n",
      "Exception: 自定义异常\n"
     ]
    }
   ],
   "source": [
    "import traceback\n",
    "try:\n",
    "    if 2>1:\n",
    "        raise Exception(\"自定义异常\")\n",
    "except Exception as e:\n",
    "    print(e,traceback.print_exc())\n",
    "        "
   ]
  },
  {
   "cell_type": "code",
   "execution_count": null,
   "id": "handmade-theta",
   "metadata": {},
   "outputs": [],
   "source": [
    "三、断点调试（debug）\n",
    "1. step into：进入函数体内部，去到其他函数里面\n",
    "2. step over：进入下一步\n",
    "3. run to cursor: 断点直接到鼠标聚焦的行\n",
    "4. Resume Program:继续执行，直到遇到下一个断点处停住"
   ]
  }
 ],
 "metadata": {
  "kernelspec": {
   "display_name": "Python 3",
   "language": "python",
   "name": "python3"
  },
  "language_info": {
   "codemirror_mode": {
    "name": "ipython",
    "version": 3
   },
   "file_extension": ".py",
   "mimetype": "text/x-python",
   "name": "python",
   "nbconvert_exporter": "python",
   "pygments_lexer": "ipython3",
   "version": "3.8.0"
  }
 },
 "nbformat": 4,
 "nbformat_minor": 5
}
