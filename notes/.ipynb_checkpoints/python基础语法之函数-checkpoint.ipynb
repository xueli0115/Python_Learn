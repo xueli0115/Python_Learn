{
 "cells": [
  {
   "cell_type": "markdown",
   "id": "4ef99af3",
   "metadata": {},
   "source": [
    "#### 函数\n",
    "一、 定义  \n",
    "     一段可以被另一段代码执行的程序  \n",
    "二、语法  \n",
    "```\n",
    "def 函数名（参数）：\n",
    "    函数体\n",
    "```\n",
    "三、调用  \n",
    "    函数名（参数）"
   ]
  },
  {
   "cell_type": "code",
   "execution_count": 2,
   "id": "82358ef3",
   "metadata": {},
   "outputs": [
    {
     "name": "stdout",
     "output_type": "stream",
     "text": [
      "这是一个函数\n"
     ]
    }
   ],
   "source": [
    "def test_function():\n",
    "    print('这是一个函数')\n",
    "\n",
    "\n",
    "if __name__ ==\"__main__\":\n",
    "    test_function()"
   ]
  },
  {
   "cell_type": "markdown",
   "id": "bfbde624",
   "metadata": {},
   "source": [
    "四、参数\n",
    "1. 必传参数（不传会报错）   \n",
    "    必须要传入对应个数的参数  \n",
    "    参数传递必须以正确的顺序传入，参数的传递位置要与实际期望传值一一对应"
   ]
  },
  {
   "cell_type": "code",
   "execution_count": 21,
   "id": "15793671",
   "metadata": {},
   "outputs": [
    {
     "name": "stdout",
     "output_type": "stream",
     "text": [
      "这是一个函数\n",
      "老王 20\n"
     ]
    }
   ],
   "source": [
    "def test_function(name,age):\n",
    "    print('这是一个函数')\n",
    "    print(name,age)\n",
    "\n",
    "\n",
    "if __name__ ==\"__main__\":\n",
    "    test_function('老王',20)"
   ]
  },
  {
   "cell_type": "markdown",
   "id": "07c1f387",
   "metadata": {},
   "source": [
    "2. 关键字参数"
   ]
  },
  {
   "cell_type": "code",
   "execution_count": 22,
   "id": "90696a37",
   "metadata": {},
   "outputs": [
    {
     "name": "stdout",
     "output_type": "stream",
     "text": [
      "这是一个函数\n",
      "老王 20\n"
     ]
    }
   ],
   "source": [
    "def test_function(name,age):\n",
    "    print('这是一个函数')\n",
    "    print(name,age)\n",
    "\n",
    "\n",
    "if __name__ ==\"__main__\":\n",
    "    test_function(age=20,name='老王')"
   ]
  },
  {
   "cell_type": "markdown",
   "id": "223e8e2d",
   "metadata": {},
   "source": [
    "3. 不定长参数  \n",
    "    * *arg:你可以传递任意多个参数进来,通过tuple接收  【可以不传参】\n",
    "    * **kwargs:不确定需要传递多少个参数时候，使用关键字参数的形式传递 【可以不传参】\n",
    "    * *args和**kwargs同时存在时，**kwargs在*args后面 【可以不传参】\n"
   ]
  },
  {
   "cell_type": "code",
   "execution_count": 23,
   "id": "f61cee47",
   "metadata": {},
   "outputs": [
    {
     "name": "stdout",
     "output_type": "stream",
     "text": [
      "这是一个函数\n",
      "('wo', 'shi', 'lao', 'wang')\n"
     ]
    }
   ],
   "source": [
    "def test_function(*args):\n",
    "    print('这是一个函数')\n",
    "    print(args)\n",
    "\n",
    "if __name__ ==\"__main__\":\n",
    "    test_function('wo','shi','lao','wang')"
   ]
  },
  {
   "cell_type": "markdown",
   "id": "72fff315",
   "metadata": {},
   "source": [
    "4. 默认参数\n",
    "    + 函数定义的时候给了一个默认值\n",
    "    + 如果函数调用的时候传了参数，就用用户传递的参数，如果未传参数，那就用默认参数\n",
    "    + 默认参数可以不传递"
   ]
  },
  {
   "cell_type": "code",
   "execution_count": 24,
   "id": "69bf3a2e",
   "metadata": {},
   "outputs": [
    {
     "name": "stdout",
     "output_type": "stream",
     "text": [
      "lao\n"
     ]
    }
   ],
   "source": [
    "def test_function(name='lao'):\n",
    "    print(name)\n",
    "\n",
    "if __name__ ==\"__main__\":\n",
    "    test_function()"
   ]
  },
  {
   "cell_type": "markdown",
   "id": "814dda19",
   "metadata": {},
   "source": [
    "五、函数的返回值  \n",
    "    return  \n",
    "    * 如果需要返回值，就写return，返回内容  \n",
    "    * 如果不需要返回值，就不用写，默认返回None  \n",
    "    * return 是函数执行结束的标志,函数执行遇到return语句就会结束执行  "
   ]
  },
  {
   "cell_type": "code",
   "execution_count": 25,
   "id": "6a25372a",
   "metadata": {},
   "outputs": [
    {
     "name": "stdout",
     "output_type": "stream",
     "text": [
      "lao\n"
     ]
    }
   ],
   "source": [
    "def test_function(name):\n",
    "    return name\n",
    "\n",
    "if __name__ ==\"__main__\":\n",
    "    result=test_function('lao')\n",
    "    print(result)\n",
    "    \n"
   ]
  },
  {
   "cell_type": "code",
   "execution_count": 26,
   "id": "0c55b052",
   "metadata": {},
   "outputs": [
    {
     "name": "stdout",
     "output_type": "stream",
     "text": [
      "test\n"
     ]
    }
   ],
   "source": [
    "list_01=[1,2,3,4,5]\n",
    "def test_01():\n",
    "    for i in list_01:\n",
    "        if i==3:\n",
    "            return \"test\"\n",
    "        elif i==4:\n",
    "            print('test')\n",
    "    print(\"for循环外面\")\n",
    "    \n",
    "if __name__==\"__main__\":\n",
    "    restlt=test_01()\n",
    "    print(restlt)"
   ]
  },
  {
   "cell_type": "markdown",
   "id": "00db954c",
   "metadata": {},
   "source": [
    "六、拆包  \n",
    "    1. *    \n",
    "    2. **  "
   ]
  },
  {
   "cell_type": "code",
   "execution_count": 27,
   "id": "c0eedc83",
   "metadata": {},
   "outputs": [
    {
     "name": "stdout",
     "output_type": "stream",
     "text": [
      "(1, 2, 3, 4)\n",
      "(1, 2, 3, 4)\n"
     ]
    }
   ],
   "source": [
    "def test(*args):\n",
    "    print(args)\n",
    " \n",
    "if __name__=='__main__':\n",
    "    list_01=[1,2,3,4]\n",
    "    test(*list_01)\n",
    "    test(1,2,3,4)"
   ]
  },
  {
   "cell_type": "code",
   "execution_count": 28,
   "id": "d0f904b1",
   "metadata": {},
   "outputs": [
    {
     "name": "stdout",
     "output_type": "stream",
     "text": [
      "{'key1': 'val1', 'key2': 'val2'}\n",
      "{'key1': 'val1', 'key2': 'val2'}\n"
     ]
    }
   ],
   "source": [
    "def test(**args):\n",
    "    print(args)\n",
    " \n",
    "if __name__=='__main__':\n",
    "    dict_01={'key1':'val1','key2':'val2'}\n",
    "    test(**dict_01)\n",
    "    test(key1='val1',key2='val2')"
   ]
  },
  {
   "cell_type": "markdown",
   "id": "fb168494",
   "metadata": {},
   "source": [
    "七、变量的作用域  \n",
    "1. 局部变量：定义在函数里面  \n",
    "2. 全局变量：定义在函数外面  \n",
    "3. global  将局部变量设置成全局变量\n",
    "    + global 基本语法：global test_str（只能定义，不能赋值）"
   ]
  },
  {
   "cell_type": "code",
   "execution_count": 1,
   "id": "9b5bbc33",
   "metadata": {},
   "outputs": [],
   "source": [
    "# 局部变量\n",
    "def test_01():\n",
    "    name='laowang'\n",
    "    print(name)\n",
    "    \n",
    "def test_02():\n",
    "    pritn(name)\n",
    "    \n",
    "    \n",
    "#全局变量\n",
    "name='laowang'\n",
    "def test_03():\n",
    "    print(name)\n",
    "    \n",
    "def test_04():\n",
    "    print(name)\n",
    "    \n",
    "#global\n",
    "def test_01():\n",
    "    global test_str\n",
    "    test_str='test'\n",
    "    print(test_str)\n",
    "    \n",
    "def test_02():\n",
    "    test_01()\n",
    "    print(test_str)"
   ]
  },
  {
   "cell_type": "markdown",
   "id": "591da315",
   "metadata": {},
   "source": [
    "八、函数分类  \n",
    "1. 内置函数  \n",
    "2. 自定义函数  \n",
    "3. 匿名函数（lambda)\n",
    "\n",
    "九、高阶函数  \n",
    "1. lambda：不需要起名字、简单，一行代码就行  \n",
    "2. enumerate:获取函数以及函数的索引值（也可以自定义设置）\n",
    "3. map  \n",
    "4. zip   \n",
    "5. filter  \n",
    "6. reduce"
   ]
  },
  {
   "cell_type": "code",
   "execution_count": 3,
   "id": "07c57930",
   "metadata": {},
   "outputs": [
    {
     "name": "stdout",
     "output_type": "stream",
     "text": [
      "5\n",
      "<enumerate object at 0x000001A5FE4ABC40>\n",
      "[(2, 'a'), (3, 'b'), (4, 'c'), (5, 'd')]\n"
     ]
    }
   ],
   "source": [
    "#lambda\n",
    "res=lambda x,y:x+y\n",
    "print(res(2,3))\n",
    "\n",
    "\n",
    "def test_01(x,y):\n",
    "    return x+y\n",
    "\n",
    "#enumerate\n",
    "test_list=['a','b','c','d']\n",
    "res=enumerate(test_list)\n",
    "print(res)\n",
    "\n",
    "res=list(enumerate(test_list,2))\n",
    "print(res)\n",
    "\n"
   ]
  },
  {
   "cell_type": "code",
   "execution_count": null,
   "id": "c99bc691",
   "metadata": {},
   "outputs": [],
   "source": []
  }
 ],
 "metadata": {
  "kernelspec": {
   "display_name": "Python 3",
   "language": "python",
   "name": "python3"
  },
  "language_info": {
   "codemirror_mode": {
    "name": "ipython",
    "version": 3
   },
   "file_extension": ".py",
   "mimetype": "text/x-python",
   "name": "python",
   "nbconvert_exporter": "python",
   "pygments_lexer": "ipython3",
   "version": "3.8.0"
  }
 },
 "nbformat": 4,
 "nbformat_minor": 5
}
