{
 "cells": [
  {
   "cell_type": "markdown",
   "id": "3c06083b",
   "metadata": {},
   "source": [
    "#### 元组（tuple）\n",
    "\n",
    "一、元组的写法\n",
    "\n",
    "tuple_01=(1,2,4)\n",
    "\n",
    "二、元组的特点\n",
    "\n",
    "1. 元组不可修改\n",
    "2. 元组内容可以重复\n",
    "3. 如果元组中只用一个元素，必须加都好，否则类型就不是元组了\n",
    "\n",
    "三、元组的操作\n",
    "\n",
    "1. 获取（通过索引）"
   ]
  },
  {
   "cell_type": "code",
   "execution_count": 1,
   "id": "133fed55",
   "metadata": {},
   "outputs": [
    {
     "name": "stdout",
     "output_type": "stream",
     "text": [
      "1\n"
     ]
    }
   ],
   "source": [
    "tuple_01=(1,2,4)\n",
    "print(tuple_01[0])"
   ]
  },
  {
   "cell_type": "markdown",
   "id": "9247aa2b",
   "metadata": {},
   "source": [
    "2. 切片"
   ]
  },
  {
   "cell_type": "code",
   "execution_count": 2,
   "id": "1c37c268",
   "metadata": {},
   "outputs": [
    {
     "name": "stdout",
     "output_type": "stream",
     "text": [
      "(1, 2, 4)\n",
      "(4, 2)\n"
     ]
    }
   ],
   "source": [
    "tuple_01=(1,2,4)\n",
    "print(tuple_01[0:3])\n",
    "print(tuple_01[-1:-3:-1])"
   ]
  },
  {
   "cell_type": "markdown",
   "id": "8bd9966e",
   "metadata": {},
   "source": [
    "3. 合并"
   ]
  },
  {
   "cell_type": "code",
   "execution_count": 3,
   "id": "863e402e",
   "metadata": {},
   "outputs": [
    {
     "name": "stdout",
     "output_type": "stream",
     "text": [
      "(1, 2, 4, 3, 5, 2, 4)\n"
     ]
    }
   ],
   "source": [
    "tuple_01=(1,2,4)\n",
    "tuple_02=(3,5,2,4)\n",
    "print(tuple_01+tuple_02)"
   ]
  },
  {
   "cell_type": "markdown",
   "id": "b8909653",
   "metadata": {},
   "source": [
    "四、元组的分类\n",
    "\n",
    "1. 可变元组\n",
    "\n",
    "   元素包含了可变类型\n",
    "\n",
    "2. 不可变元组\n",
    "\n",
    "   元素为不可变类型"
   ]
  },
  {
   "cell_type": "code",
   "execution_count": 4,
   "id": "55feabea",
   "metadata": {},
   "outputs": [
    {
     "ename": "AttributeError",
     "evalue": "'tuple' object has no attribute 'append'",
     "output_type": "error",
     "traceback": [
      "\u001b[1;31m---------------------------------------------------------------------------\u001b[0m",
      "\u001b[1;31mAttributeError\u001b[0m                            Traceback (most recent call last)",
      "\u001b[1;32m<ipython-input-4-7ae0acf88f7a>\u001b[0m in \u001b[0;36m<module>\u001b[1;34m\u001b[0m\n\u001b[0;32m      1\u001b[0m \u001b[0mtuple_01\u001b[0m\u001b[1;33m=\u001b[0m\u001b[1;33m(\u001b[0m\u001b[1;36m1\u001b[0m\u001b[1;33m,\u001b[0m\u001b[1;36m4\u001b[0m\u001b[1;33m,\u001b[0m\u001b[1;36m25\u001b[0m\u001b[1;33m,\u001b[0m\u001b[1;36m55\u001b[0m\u001b[1;33m,\u001b[0m\u001b[1;33m[\u001b[0m\u001b[1;34m'a'\u001b[0m\u001b[1;33m,\u001b[0m\u001b[1;34m'2'\u001b[0m\u001b[1;33m]\u001b[0m\u001b[1;33m)\u001b[0m\u001b[1;33m\u001b[0m\u001b[1;33m\u001b[0m\u001b[0m\n\u001b[1;32m----> 2\u001b[1;33m \u001b[0mtuple_01\u001b[0m\u001b[1;33m.\u001b[0m\u001b[0mappend\u001b[0m\u001b[1;33m(\u001b[0m\u001b[1;34m'e'\u001b[0m\u001b[1;33m)\u001b[0m\u001b[1;33m\u001b[0m\u001b[1;33m\u001b[0m\u001b[0m\n\u001b[0m\u001b[0;32m      3\u001b[0m \u001b[0mprint\u001b[0m\u001b[1;33m(\u001b[0m\u001b[0mtuple_01\u001b[0m\u001b[1;33m)\u001b[0m\u001b[1;33m\u001b[0m\u001b[1;33m\u001b[0m\u001b[0m\n",
      "\u001b[1;31mAttributeError\u001b[0m: 'tuple' object has no attribute 'append'"
     ]
    }
   ],
   "source": [
    "tuple_01=(1,4,25,55,['a','2'])\n",
    "tuple_01.append('e')\n",
    "print(tuple_01)"
   ]
  },
  {
   "cell_type": "markdown",
   "id": "47f3e1cc",
   "metadata": {},
   "source": [
    "五、元组的常用方法\n",
    "\n",
    "1. max()\n",
    "\n",
    "2. min()\n",
    "\n",
    "3. len()\n",
    "\n",
    "4. set():去重"
   ]
  },
  {
   "cell_type": "code",
   "execution_count": 5,
   "id": "67998281",
   "metadata": {},
   "outputs": [
    {
     "name": "stdout",
     "output_type": "stream",
     "text": [
      "[1, 2, 4, 5, 6]\n",
      "(1, 2, 4, 5, 6)\n"
     ]
    }
   ],
   "source": [
    "#去重元组、列表，返回的是集合，需要强制类型转换\n",
    "list_01=[1,1,2,4,4,5,5,6]\n",
    "res_01=set(list_01)\n",
    "print(list(res_01))\n",
    "\n",
    "tuple_01=(1,1,2,4,4,5,6,6)\n",
    "res_02=set(tuple_01)\n",
    "print(tuple(res_02))"
   ]
  }
 ],
 "metadata": {
  "kernelspec": {
   "display_name": "Python 3",
   "language": "python",
   "name": "python3"
  },
  "language_info": {
   "codemirror_mode": {
    "name": "ipython",
    "version": 3
   },
   "file_extension": ".py",
   "mimetype": "text/x-python",
   "name": "python",
   "nbconvert_exporter": "python",
   "pygments_lexer": "ipython3",
   "version": "3.8.0"
  }
 },
 "nbformat": 4,
 "nbformat_minor": 5
}
