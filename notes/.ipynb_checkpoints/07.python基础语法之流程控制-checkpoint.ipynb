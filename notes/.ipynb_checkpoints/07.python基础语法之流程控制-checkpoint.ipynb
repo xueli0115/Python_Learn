{
 "cells": [
  {
   "cell_type": "markdown",
   "id": "fa32779a",
   "metadata": {},
   "source": [
    "#### 流程\n",
    "\n",
    "一、含义\n",
    "\n",
    "事务进行的次序或者顺序，叫做流程\n",
    "\n",
    "二、分类\n",
    "\n",
    "- 顺序：代码从上往下执行\n",
    "- 选择结构：根据条件执行\n",
    "- 循环：根据条件循环执行\n",
    "\n",
    "三、if语句\n",
    "\n",
    "1. 单if语句"
   ]
  },
  {
   "cell_type": "code",
   "execution_count": 1,
   "id": "82ebb700",
   "metadata": {},
   "outputs": [
    {
     "name": "stdout",
     "output_type": "stream",
     "text": [
      "num1大于1\n"
     ]
    }
   ],
   "source": [
    "num = 10\n",
    "if num>1:\n",
    "\tprint('num1大于1')"
   ]
  },
  {
   "cell_type": "markdown",
   "id": "f700a59c",
   "metadata": {},
   "source": [
    "   2.标准的if else语句"
   ]
  },
  {
   "cell_type": "code",
   "execution_count": 2,
   "id": "fbe110c0",
   "metadata": {},
   "outputs": [
    {
     "name": "stdout",
     "output_type": "stream",
     "text": [
      "请输入数字：1\n",
      "num1小于等于11\n"
     ]
    }
   ],
   "source": [
    "num=int(input('请输入数字：'))\n",
    "if num>11:\n",
    "\tprint('num1大于11')\n",
    "else:\n",
    "\tprint('num1小于等于11')"
   ]
  },
  {
   "cell_type": "markdown",
   "id": "2458557c",
   "metadata": {},
   "source": [
    "3.复合if else语句"
   ]
  },
  {
   "cell_type": "code",
   "execution_count": 3,
   "id": "a0ad2212",
   "metadata": {},
   "outputs": [
    {
     "name": "stdout",
     "output_type": "stream",
     "text": [
      "请输入一个数字：0\n",
      "0 等于0\n"
     ]
    }
   ],
   "source": [
    "num = int(input('请输入一个数字：'))\n",
    "if num>0:\n",
    "    print(num,'大于0')\n",
    "elif num == 0:\n",
    "    print(num,'等于0')\n",
    "else:\n",
    "    print(num,'小于0')"
   ]
  },
  {
   "cell_type": "markdown",
   "id": "d3da81a8",
   "metadata": {},
   "source": [
    "四、debug技能\n",
    "1. step over(F8) :执行下一步\n",
    "2. rerun（ctrl+F5）：重新执行当前.py文件\n",
    "3. stop（ctrl+F2）：停止执行\n",
    "\n",
    "五、循环结构\n",
    "\n",
    "（一）循环概念：重复做一件事\n",
    "\n",
    "（二）循环分类：\n",
    "\n",
    "1. for循环\n",
    "\n",
    "   迭代对象：字符串、列表、元组、字典\n",
    "\n",
    "   循环次数：迭代对象、元素的个数"
   ]
  },
  {
   "cell_type": "code",
   "execution_count": 4,
   "id": "cdee20e1",
   "metadata": {},
   "outputs": [
    {
     "name": "stdout",
     "output_type": "stream",
     "text": [
      "a\n",
      "b\n",
      "c\n",
      "c\n",
      "a\n",
      "b\n",
      "c\n",
      "c\n",
      "a\n",
      "b\n",
      "c\n",
      "c\n",
      "0\n",
      "1\n",
      "2\n",
      "3\n",
      "4\n",
      "5\n",
      "6\n",
      "7\n",
      "8\n",
      "9\n",
      "10\n"
     ]
    }
   ],
   "source": [
    "list_01=['a','b','c','c']\n",
    "print(list_01[0])\n",
    "print(list_01[1])\n",
    "print(list_01[2])\n",
    "print(list_01[3])\n",
    "\n",
    "#i相当于代词：迭代对象中的元素轮流赋值给i\n",
    "for i in list_01:\n",
    "    print(i)#相当于i=list_01[0]\n",
    "    \n",
    "    \n",
    "for k in range(len(list_01)):\n",
    "    print(list_01[k])\n",
    "    \n",
    "\n",
    "for p in range(11):\n",
    "    print(p)"
   ]
  },
  {
   "cell_type": "markdown",
   "id": "26eaa060",
   "metadata": {},
   "source": [
    "    1. 补充：range函数\n",
    "\n",
    "      range（start，end，step）\n",
    "\n",
    "2. while循环\n",
    "\n",
    "   使用场景：你不明确需要循环的次数"
   ]
  },
  {
   "cell_type": "code",
   "execution_count": 7,
   "id": "8467fb1e",
   "metadata": {},
   "outputs": [
    {
     "name": "stdout",
     "output_type": "stream",
     "text": [
      "num=  0\n",
      "num=  1\n",
      "num=  2\n",
      "num=  3\n",
      "num=  4\n",
      "num=  5\n",
      "num=  6\n",
      "num=  7\n",
      "num=  8\n",
      "num=  9\n",
      "num=  10\n",
      "num1= 1\n",
      "随机数为 6\n",
      "num1= 7\n",
      "随机数为 7\n"
     ]
    }
   ],
   "source": [
    "import random\n",
    "num=0\n",
    "while num<=10:\n",
    "    print('num= ', num)\n",
    "    num+=1\n",
    "    \n",
    "num1= 1\n",
    "while num1<=10:\n",
    "    print('num1=',num1)\n",
    "    num2=random.randint(1,10)#随机生成一个1-10中的数字\n",
    "    print('随机数为',num2)\n",
    "    num1+=num2"
   ]
  },
  {
   "cell_type": "markdown",
   "id": "b091a316",
   "metadata": {},
   "source": [
    "循环的应用\n",
    "for循环常用（基本上不会超过2层循环），while循环基本不用"
   ]
  },
  {
   "cell_type": "code",
   "execution_count": 10,
   "id": "fdbde9c4",
   "metadata": {},
   "outputs": [
    {
     "name": "stdout",
     "output_type": "stream",
     "text": [
      "name\n",
      "age\n",
      "sex\n",
      "==========\n",
      "jack\n",
      "20\n",
      "man\n",
      "==========\n",
      "('name', 'jack')\n",
      "('age', '20')\n",
      "('sex', 'man')\n"
     ]
    }
   ],
   "source": [
    "dict_01={'name':'jack','age':'20','sex':'man'}\n",
    "for i in dict_01.keys():\n",
    "    print(i)\n",
    "\n",
    "    \n",
    "print('=='*5)\n",
    "for i in dict_01.values():\n",
    "    print(i)\n",
    "    \n",
    "print('=='*5)\n",
    "for i in dict_01.items():\n",
    "    print(i)"
   ]
  },
  {
   "cell_type": "markdown",
   "id": "9d7fb633",
   "metadata": {},
   "source": [
    "循环的控制\n",
    " 1. continue:遇到continue关键字，本次循环结束，开始执行下一次循环  \n",
    " 2. break：遇到break关键字，整个循环语句结束"
   ]
  },
  {
   "cell_type": "code",
   "execution_count": 12,
   "id": "c371d3e7",
   "metadata": {},
   "outputs": [
    {
     "name": "stdout",
     "output_type": "stream",
     "text": [
      "a\n",
      "b\n"
     ]
    }
   ],
   "source": [
    "list_01=['a','b','c','d','e']\n",
    "for i in list_01:\n",
    "    if i=='c':\n",
    "        break\n",
    "    print(i)"
   ]
  },
  {
   "cell_type": "code",
   "execution_count": 13,
   "id": "bc515b19",
   "metadata": {},
   "outputs": [
    {
     "name": "stdout",
     "output_type": "stream",
     "text": [
      "a\n",
      "b\n",
      "d\n",
      "e\n"
     ]
    }
   ],
   "source": [
    "list_01=['a','b','c','d','e']\n",
    "for i in list_01:\n",
    "    if i=='c':\n",
    "        continue\n",
    "    print(i)"
   ]
  },
  {
   "cell_type": "markdown",
   "id": "de00ae81",
   "metadata": {},
   "source": [
    "嵌套循环:循环里的循环  \n",
    "for for 循环"
   ]
  },
  {
   "cell_type": "code",
   "execution_count": 15,
   "id": "a22e963e",
   "metadata": {},
   "outputs": [
    {
     "name": "stdout",
     "output_type": "stream",
     "text": [
      "====================\n",
      "这是第二层循环中的 0\n",
      "这是第二层循环中的 1\n",
      "这是第二层循环中的 2\n",
      "这是第二层循环中的 3\n",
      "====================\n",
      "这是第二层循环中的 0\n",
      "这是第二层循环中的 1\n",
      "这是第二层循环中的 2\n",
      "这是第二层循环中的 3\n"
     ]
    }
   ],
   "source": [
    "for i in range(2):\n",
    "    print('=='*10)\n",
    "    for k in range(4):\n",
    "        print('这是第二层循环中的',k)"
   ]
  },
  {
   "cell_type": "markdown",
   "id": "85774ea3",
   "metadata": {},
   "source": [
    "__while - for 循环"
   ]
  },
  {
   "cell_type": "code",
   "execution_count": 1,
   "id": "89eb1ce6",
   "metadata": {},
   "outputs": [
    {
     "name": "stdout",
     "output_type": "stream",
     "text": [
      "10\n",
      "20\n",
      "30\n",
      "40\n",
      "50\n",
      "60\n",
      "70\n",
      "80\n",
      "90\n",
      "100\n"
     ]
    }
   ],
   "source": [
    "import random\n",
    "num = 0\n",
    "while num <= 10:\n",
    "    num2=random.randint(1,10)\n",
    "    for i in range(num2):\n",
    "        num += num2\n",
    "        print(num)"
   ]
  },
  {
   "cell_type": "markdown",
   "id": "1392004d",
   "metadata": {},
   "source": []
  },
  {
   "cell_type": "code",
   "execution_count": null,
   "id": "08347c97",
   "metadata": {},
   "outputs": [],
   "source": []
  }
 ],
 "metadata": {
  "kernelspec": {
   "display_name": "Python 3",
   "language": "python",
   "name": "python3"
  },
  "language_info": {
   "codemirror_mode": {
    "name": "ipython",
    "version": 3
   },
   "file_extension": ".py",
   "mimetype": "text/x-python",
   "name": "python",
   "nbconvert_exporter": "python",
   "pygments_lexer": "ipython3",
   "version": "3.8.0"
  }
 },
 "nbformat": 4,
 "nbformat_minor": 5
}
