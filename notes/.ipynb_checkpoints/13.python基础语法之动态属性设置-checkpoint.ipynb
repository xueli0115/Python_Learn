{
 "cells": [
  {
   "cell_type": "markdown",
   "id": "educational-departure",
   "metadata": {},
   "source": [
    "#### 动态设置属性\n",
    "一、 获取对象的属性  \n",
    "    可以通过模式方法获取类和类实例的属性：类/类实例.__dict__"
   ]
  },
  {
   "cell_type": "code",
   "execution_count": 11,
   "id": "authorized-collection",
   "metadata": {},
   "outputs": [
    {
     "name": "stdout",
     "output_type": "stream",
     "text": [
      "老王 20\n",
      "{'name': '老王', 'age': 20}\n",
      "{'__module__': '__main__', 'color': '黑色', '__init__': <function Test01.__init__ at 0x000001B7B6CE70D0>, '__dict__': <attribute '__dict__' of 'Test01' objects>, '__weakref__': <attribute '__weakref__' of 'Test01' objects>, '__doc__': None}\n"
     ]
    }
   ],
   "source": [
    "class Test01:\n",
    "    color = '黑色'\n",
    "    \n",
    "    def __init__(self,name,age):\n",
    "        self.name=name\n",
    "        self.age=age\n",
    "        print(self.name,self.age)\n",
    "        \n",
    "if __name__=='__main__':\n",
    "    cl=Test01('老王',20)\n",
    "    #类实例属性\n",
    "    result=cl.__dict__\n",
    "    print(result)\n",
    "    \n",
    "    \n",
    "    #获取类属性\n",
    "    result_02=Test01.__dict__\n",
    "    print(result_02)"
   ]
  },
  {
   "cell_type": "markdown",
   "id": "champion-fiber",
   "metadata": {},
   "source": [
    "二、设置属性   \n",
    "setattr(cl,'属性名称','属性值')  \n",
    "第一个参数：对象（类、类实例）    \n",
    "第二个参数：属性名称  \n",
    "第三个参数：属性的值  \n",
    "\n",
    "如果属性已经存在，则表示修改属性值  \n",
    "如果属性不存在，则表示添加属性"
   ]
  },
  {
   "cell_type": "code",
   "execution_count": 14,
   "id": "seventh-working",
   "metadata": {},
   "outputs": [
    {
     "name": "stdout",
     "output_type": "stream",
     "text": [
      "老王 20\n",
      "{'name': '老王', 'age': 20, 'sex': '男'}\n"
     ]
    }
   ],
   "source": [
    "class Test01:\n",
    "    color = '黑色'\n",
    "    \n",
    "    def __init__(self,name,age):\n",
    "        self.name=name\n",
    "        self.age=age\n",
    "        print(self.name,self.age)\n",
    "        \n",
    "if __name__=='__main__':\n",
    "    cl=Test01('老王',20)\n",
    "    \n",
    "    #给实例cl设置sex的属性，属性值为‘男’\n",
    "    setattr(cl,'sex','男')\n",
    "    result=cl.__dict__\n",
    "    print(result)"
   ]
  },
  {
   "cell_type": "code",
   "execution_count": 15,
   "id": "disturbed-electron",
   "metadata": {},
   "outputs": [
    {
     "name": "stdout",
     "output_type": "stream",
     "text": [
      "{'__module__': '__main__', 'color': '黑色', '__init__': <function Test01.__init__ at 0x000001B7B6C319D0>, '__dict__': <attribute '__dict__' of 'Test01' objects>, '__weakref__': <attribute '__weakref__' of 'Test01' objects>, '__doc__': None}\n",
      "{'__module__': '__main__', 'color': '黑色', '__init__': <function Test01.__init__ at 0x000001B7B6C319D0>, '__dict__': <attribute '__dict__' of 'Test01' objects>, '__weakref__': <attribute '__weakref__' of 'Test01' objects>, '__doc__': None, 'sex': 'boy'}\n"
     ]
    }
   ],
   "source": [
    "class Test01:\n",
    "    color = '黑色'\n",
    "    \n",
    "    def __init__(self,name,age):\n",
    "        self.name=name\n",
    "        self.age=age\n",
    "        print(self.name,self.age)\n",
    "        \n",
    "if __name__=='__main__':\n",
    "    print(Test01.__dict__)\n",
    "    \n",
    "    #给类Test01添加属性sex,并将属性值设为‘boy’\n",
    "    setattr(Test01,'sex','boy')\n",
    "    print(Test01.__dict__)"
   ]
  },
  {
   "cell_type": "markdown",
   "id": "soviet-performer",
   "metadata": {},
   "source": [
    "三、属性获取  \n",
    "getattr(cl,'属性名','属性值')  \n",
    "第一个参数：对象（类、类实例）  \n",
    "第二个参数：属性名称  \n",
    "第三个参数：默认值（当属性不存在的时候，会返回这个默认值）"
   ]
  },
  {
   "cell_type": "code",
   "execution_count": 17,
   "id": "reserved-harvard",
   "metadata": {
    "scrolled": true
   },
   "outputs": [
    {
     "name": "stdout",
     "output_type": "stream",
     "text": [
      "老王 20\n",
      "老王\n",
      "no attribute\n"
     ]
    }
   ],
   "source": [
    "class Test01:\n",
    "    color = '黑色'\n",
    "    \n",
    "    def __init__(self,name,age):\n",
    "        self.name=name\n",
    "        self.age=age\n",
    "        print(self.name,self.age)\n",
    "        \n",
    "if __name__=='__main__':\n",
    "    cl=Test01('老王',20)\n",
    "    print(getattr(cl,'name'))\n",
    "    print(getattr(cl,'name123','no attribute'))"
   ]
  },
  {
   "cell_type": "markdown",
   "id": "blind-hygiene",
   "metadata": {},
   "source": [
    "四、属性判断    \n",
    "hasattr(object,'属性')  \n",
    "第一个参数：对象（类、类实例）  \n",
    "第二个参数：属性名称  \n",
    "返回：属性存在则返回true，属性不存在则返回false   "
   ]
  },
  {
   "cell_type": "code",
   "execution_count": 18,
   "id": "laden-passion",
   "metadata": {},
   "outputs": [
    {
     "name": "stdout",
     "output_type": "stream",
     "text": [
      "老王 20\n",
      "True\n"
     ]
    }
   ],
   "source": [
    "class Test01:\n",
    "    color = '黑色'\n",
    "    \n",
    "    def __init__(self,name,age):\n",
    "        self.name=name\n",
    "        self.age=age\n",
    "        print(self.name,self.age)\n",
    "        \n",
    "if __name__=='__main__':\n",
    "    cl=Test01('老王',20)\n",
    "    print(hasattr(cl,'name'))"
   ]
  },
  {
   "cell_type": "markdown",
   "id": "trained-mining",
   "metadata": {},
   "source": [
    "五、删除  \n",
    "delattr(object,'属性名')"
   ]
  },
  {
   "cell_type": "code",
   "execution_count": 20,
   "id": "literary-inquiry",
   "metadata": {},
   "outputs": [
    {
     "name": "stdout",
     "output_type": "stream",
     "text": [
      "老王 20\n",
      "老王\n",
      "{'name': '老王', 'age': 20, 'name123': 'no attribute'}\n",
      "{'name': '老王', 'age': 20}\n"
     ]
    }
   ],
   "source": [
    "class Test01:\n",
    "    color = '黑色'\n",
    "    \n",
    "    def __init__(self,name,age):\n",
    "        self.name=name\n",
    "        self.age=age\n",
    "        print(self.name,self.age)\n",
    "        \n",
    "if __name__=='__main__':\n",
    "    cl=Test01('老王',20)\n",
    "    print(getattr(cl,'name'))\n",
    "    setattr(cl,'name123','no attribute')\n",
    "    print(cl.__dict__)\n",
    "    delattr(cl,'name123')\n",
    "    print(cl.__dict__)"
   ]
  },
  {
   "cell_type": "code",
   "execution_count": 21,
   "id": "economic-camel",
   "metadata": {},
   "outputs": [
    {
     "name": "stdout",
     "output_type": "stream",
     "text": [
      "恰饭\n",
      "睡觉\n"
     ]
    }
   ],
   "source": [
    "#补充：同名方法在不同类中，实现的功能不一样\n",
    "class A:\n",
    "    def test01(self):\n",
    "        print('恰饭')\n",
    "        \n",
    "class B:\n",
    "    def test01(self):\n",
    "        print('睡觉')\n",
    "        \n",
    "def C(obj):\n",
    "    obj().test01()\n",
    "    \n",
    "    \n",
    "if __name__==\"__main__\":\n",
    "    C(A)\n",
    "    C(B)"
   ]
  },
  {
   "cell_type": "code",
   "execution_count": null,
   "id": "composite-philadelphia",
   "metadata": {},
   "outputs": [],
   "source": []
  }
 ],
 "metadata": {
  "kernelspec": {
   "display_name": "Python 3",
   "language": "python",
   "name": "python3"
  },
  "language_info": {
   "codemirror_mode": {
    "name": "ipython",
    "version": 3
   },
   "file_extension": ".py",
   "mimetype": "text/x-python",
   "name": "python",
   "nbconvert_exporter": "python",
   "pygments_lexer": "ipython3",
   "version": "3.8.0"
  }
 },
 "nbformat": 4,
 "nbformat_minor": 5
}
