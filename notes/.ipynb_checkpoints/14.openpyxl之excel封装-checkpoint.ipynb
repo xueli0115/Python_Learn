{
 "cells": [
  {
   "cell_type": "markdown",
   "id": "brutal-surgery",
   "metadata": {},
   "source": [
    "#### excel封装\n",
    "一、 excel操作\n",
    "\n",
    "日常人工操作excel：\n",
    "1. 打开excel表  work_book\n",
    "2. 选择sheet   sheet\n",
    "3. 选择单元格  cell\n",
    "\n",
    "二、第三方库openpyxl\n",
    "1. 安装openpyxl:pip install -i https://pypi.tuna.tsinghua.edu.cn/simple openpyxl\n",
    "2. 读取load_workbook()  \n",
    "    源码：def load_workbook(filename, read_only=False, keep_vba=KEEP_VBA,data_only=False, keep_links=True)  \n",
    "    1. filename:excel文件名（路径）\n",
    "    2. read_only=False：是否只读，flase:可以读可以写  true：只可以读\n",
    "    3. keep_vba=KEEP_VBA: 是否保留VBA源码\n",
    "    4. data_only=False【不用管】：true：读取公式计算结算后的结果  false：默认值，不会读取\n",
    "    5. keep_links=True【不用管】：是否保留外部链接"
   ]
  },
  {
   "cell_type": "code",
   "execution_count": 4,
   "id": "unnecessary-repository",
   "metadata": {},
   "outputs": [
    {
     "ename": "FileNotFoundError",
     "evalue": "[Errno 2] No such file or directory: 'D:\\\\lemon\\\\Python_Learn\\\\notes\\\\testCase.xlsx'",
     "output_type": "error",
     "traceback": [
      "\u001b[1;31m---------------------------------------------------------------------------\u001b[0m",
      "\u001b[1;31mFileNotFoundError\u001b[0m                         Traceback (most recent call last)",
      "\u001b[1;32m<ipython-input-4-fc33d3655535>\u001b[0m in \u001b[0;36m<module>\u001b[1;34m\u001b[0m\n\u001b[0;32m      5\u001b[0m \u001b[1;31m#filename中的路径是同目录下的，如果不是同目录下的使用os方法，且支持xlsx格式文件\u001b[0m\u001b[1;33m\u001b[0m\u001b[1;33m\u001b[0m\u001b[1;33m\u001b[0m\u001b[0m\n\u001b[0;32m      6\u001b[0m \u001b[0mres_path\u001b[0m\u001b[1;33m=\u001b[0m\u001b[0mos\u001b[0m\u001b[1;33m.\u001b[0m\u001b[0mpath\u001b[0m\u001b[1;33m.\u001b[0m\u001b[0mabspath\u001b[0m\u001b[1;33m(\u001b[0m\u001b[1;34m'testCase.xlsx'\u001b[0m\u001b[1;33m)\u001b[0m\u001b[1;33m\u001b[0m\u001b[1;33m\u001b[0m\u001b[0m\n\u001b[1;32m----> 7\u001b[1;33m \u001b[0mwork_book\u001b[0m\u001b[1;33m=\u001b[0m\u001b[0mload_workbook\u001b[0m\u001b[1;33m(\u001b[0m\u001b[0mfilename\u001b[0m\u001b[1;33m=\u001b[0m\u001b[0mres_path\u001b[0m\u001b[1;33m)\u001b[0m\u001b[1;33m\u001b[0m\u001b[1;33m\u001b[0m\u001b[0m\n\u001b[0m\u001b[0;32m      8\u001b[0m \u001b[0msheet\u001b[0m\u001b[1;33m=\u001b[0m\u001b[0mwork_book\u001b[0m\u001b[1;33m[\u001b[0m\u001b[1;34m'Sheet1'\u001b[0m\u001b[1;33m]\u001b[0m\u001b[1;33m\u001b[0m\u001b[1;33m\u001b[0m\u001b[0m\n\u001b[0;32m      9\u001b[0m \u001b[0mval\u001b[0m\u001b[1;33m=\u001b[0m\u001b[0msheet\u001b[0m\u001b[1;33m.\u001b[0m\u001b[0mcell\u001b[0m\u001b[1;33m(\u001b[0m\u001b[1;36m1\u001b[0m\u001b[1;33m,\u001b[0m\u001b[1;36m2\u001b[0m\u001b[1;33m)\u001b[0m\u001b[1;33m.\u001b[0m\u001b[0mvalue\u001b[0m\u001b[1;33m\u001b[0m\u001b[1;33m\u001b[0m\u001b[0m\n",
      "\u001b[1;32mc:\\users\\xueli\\appdata\\local\\programs\\python\\python38\\lib\\site-packages\\openpyxl\\reader\\excel.py\u001b[0m in \u001b[0;36mload_workbook\u001b[1;34m(filename, read_only, keep_vba, data_only, keep_links)\u001b[0m\n\u001b[0;32m    313\u001b[0m \u001b[1;33m\u001b[0m\u001b[0m\n\u001b[0;32m    314\u001b[0m     \"\"\"\n\u001b[1;32m--> 315\u001b[1;33m     reader = ExcelReader(filename, read_only, keep_vba,\n\u001b[0m\u001b[0;32m    316\u001b[0m                         data_only, keep_links)\n\u001b[0;32m    317\u001b[0m     \u001b[0mreader\u001b[0m\u001b[1;33m.\u001b[0m\u001b[0mread\u001b[0m\u001b[1;33m(\u001b[0m\u001b[1;33m)\u001b[0m\u001b[1;33m\u001b[0m\u001b[1;33m\u001b[0m\u001b[0m\n",
      "\u001b[1;32mc:\\users\\xueli\\appdata\\local\\programs\\python\\python38\\lib\\site-packages\\openpyxl\\reader\\excel.py\u001b[0m in \u001b[0;36m__init__\u001b[1;34m(self, fn, read_only, keep_vba, data_only, keep_links)\u001b[0m\n\u001b[0;32m    122\u001b[0m     def __init__(self,  fn, read_only=False, keep_vba=KEEP_VBA,\n\u001b[0;32m    123\u001b[0m                   data_only=False, keep_links=True):\n\u001b[1;32m--> 124\u001b[1;33m         \u001b[0mself\u001b[0m\u001b[1;33m.\u001b[0m\u001b[0marchive\u001b[0m \u001b[1;33m=\u001b[0m \u001b[0m_validate_archive\u001b[0m\u001b[1;33m(\u001b[0m\u001b[0mfn\u001b[0m\u001b[1;33m)\u001b[0m\u001b[1;33m\u001b[0m\u001b[1;33m\u001b[0m\u001b[0m\n\u001b[0m\u001b[0;32m    125\u001b[0m         \u001b[0mself\u001b[0m\u001b[1;33m.\u001b[0m\u001b[0mvalid_files\u001b[0m \u001b[1;33m=\u001b[0m \u001b[0mself\u001b[0m\u001b[1;33m.\u001b[0m\u001b[0marchive\u001b[0m\u001b[1;33m.\u001b[0m\u001b[0mnamelist\u001b[0m\u001b[1;33m(\u001b[0m\u001b[1;33m)\u001b[0m\u001b[1;33m\u001b[0m\u001b[1;33m\u001b[0m\u001b[0m\n\u001b[0;32m    126\u001b[0m         \u001b[0mself\u001b[0m\u001b[1;33m.\u001b[0m\u001b[0mread_only\u001b[0m \u001b[1;33m=\u001b[0m \u001b[0mread_only\u001b[0m\u001b[1;33m\u001b[0m\u001b[1;33m\u001b[0m\u001b[0m\n",
      "\u001b[1;32mc:\\users\\xueli\\appdata\\local\\programs\\python\\python38\\lib\\site-packages\\openpyxl\\reader\\excel.py\u001b[0m in \u001b[0;36m_validate_archive\u001b[1;34m(filename)\u001b[0m\n\u001b[0;32m     94\u001b[0m             \u001b[1;32mraise\u001b[0m \u001b[0mInvalidFileException\u001b[0m\u001b[1;33m(\u001b[0m\u001b[0mmsg\u001b[0m\u001b[1;33m)\u001b[0m\u001b[1;33m\u001b[0m\u001b[1;33m\u001b[0m\u001b[0m\n\u001b[0;32m     95\u001b[0m \u001b[1;33m\u001b[0m\u001b[0m\n\u001b[1;32m---> 96\u001b[1;33m     \u001b[0marchive\u001b[0m \u001b[1;33m=\u001b[0m \u001b[0mZipFile\u001b[0m\u001b[1;33m(\u001b[0m\u001b[0mfilename\u001b[0m\u001b[1;33m,\u001b[0m \u001b[1;34m'r'\u001b[0m\u001b[1;33m)\u001b[0m\u001b[1;33m\u001b[0m\u001b[1;33m\u001b[0m\u001b[0m\n\u001b[0m\u001b[0;32m     97\u001b[0m     \u001b[1;32mreturn\u001b[0m \u001b[0marchive\u001b[0m\u001b[1;33m\u001b[0m\u001b[1;33m\u001b[0m\u001b[0m\n\u001b[0;32m     98\u001b[0m \u001b[1;33m\u001b[0m\u001b[0m\n",
      "\u001b[1;32mc:\\users\\xueli\\appdata\\local\\programs\\python\\python38\\lib\\zipfile.py\u001b[0m in \u001b[0;36m__init__\u001b[1;34m(self, file, mode, compression, allowZip64, compresslevel, strict_timestamps)\u001b[0m\n\u001b[0;32m   1214\u001b[0m             \u001b[1;32mwhile\u001b[0m \u001b[1;32mTrue\u001b[0m\u001b[1;33m:\u001b[0m\u001b[1;33m\u001b[0m\u001b[1;33m\u001b[0m\u001b[0m\n\u001b[0;32m   1215\u001b[0m                 \u001b[1;32mtry\u001b[0m\u001b[1;33m:\u001b[0m\u001b[1;33m\u001b[0m\u001b[1;33m\u001b[0m\u001b[0m\n\u001b[1;32m-> 1216\u001b[1;33m                     \u001b[0mself\u001b[0m\u001b[1;33m.\u001b[0m\u001b[0mfp\u001b[0m \u001b[1;33m=\u001b[0m \u001b[0mio\u001b[0m\u001b[1;33m.\u001b[0m\u001b[0mopen\u001b[0m\u001b[1;33m(\u001b[0m\u001b[0mfile\u001b[0m\u001b[1;33m,\u001b[0m \u001b[0mfilemode\u001b[0m\u001b[1;33m)\u001b[0m\u001b[1;33m\u001b[0m\u001b[1;33m\u001b[0m\u001b[0m\n\u001b[0m\u001b[0;32m   1217\u001b[0m                 \u001b[1;32mexcept\u001b[0m \u001b[0mOSError\u001b[0m\u001b[1;33m:\u001b[0m\u001b[1;33m\u001b[0m\u001b[1;33m\u001b[0m\u001b[0m\n\u001b[0;32m   1218\u001b[0m                     \u001b[1;32mif\u001b[0m \u001b[0mfilemode\u001b[0m \u001b[1;32min\u001b[0m \u001b[0mmodeDict\u001b[0m\u001b[1;33m:\u001b[0m\u001b[1;33m\u001b[0m\u001b[1;33m\u001b[0m\u001b[0m\n",
      "\u001b[1;31mFileNotFoundError\u001b[0m: [Errno 2] No such file or directory: 'D:\\\\lemon\\\\Python_Learn\\\\notes\\\\testCase.xlsx'"
     ]
    }
   ],
   "source": [
    "import os\n",
    "from openpyxl import load_workbook\n",
    "\n",
    "#openpyxl 行和列索引从1开始\n",
    "#filename中的路径是同目录下的，如果不是同目录下的使用os方法，且支持xlsx格式文件\n",
    "res_path=os.path.abspath('testCase.xlsx')\n",
    "work_book=load_workbook(filename=res_path)\n",
    "#获取sheet对象\n",
    "sheet=work_book['Sheet1']\n",
    "#获取单元格数据\n",
    "val=sheet.cell(1,2).value\n",
    "print(val)"
   ]
  },
  {
   "cell_type": "markdown",
   "id": "robust-cable",
   "metadata": {},
   "source": [
    "3. 获取最大的行，最大的列  \n",
    "max_rows=sheet.max_row  \n",
    "max_cols=sheet.max_column  \n",
    "4. 写表  \n"
   ]
  },
  {
   "cell_type": "code",
   "execution_count": null,
   "id": "incoming-shanghai",
   "metadata": {},
   "outputs": [],
   "source": [
    "from openpyxl import load_workbook\n",
    "\n",
    "work_book=load_work('testCase.xlsx')\n",
    "sheet=work_book['Sheet1']\n",
    "#写表\n",
    "sheet.cell(6,1).value=\"005\"\n",
    "\n",
    "#保存\n",
    "work_book.save(filename=res_path)"
   ]
  },
  {
   "cell_type": "markdown",
   "id": "opposite-knife",
   "metadata": {},
   "source": [
    "补充：接口测试流程\n",
    "1. 编写测试用例\n",
    "2. 读取测试用例\n",
    "3. 发请求\n",
    "4. 获取响应结果\n",
    "5. 和预期结果进行比对（断言）\n",
    "6. 保存测试结果"
   ]
  },
  {
   "cell_type": "markdown",
   "id": "directed-drive",
   "metadata": {},
   "source": [
    "获取单元数据  \n",
    "sheet.iter_rows()  \n",
    "min_row=None：起始行，默认为1    \n",
    "max_row=None：结束行，默认是最大的行  \n",
    "min_col=None：起始列  \n",
    "max_col=None：结束列  \n",
    "values_only：默认是false，返回单元格的对象，true：返回单元格内容· "
   ]
  },
  {
   "cell_type": "code",
   "execution_count": null,
   "id": "injured-grocery",
   "metadata": {},
   "outputs": [],
   "source": [
    "from openpyxl import load_workbook\n",
    "work_book=load_workbook(filename='testCase.xlsx')\n",
    "sheet=work_book['sheet1']\n",
    "\n",
    "#获取单元数据\n",
    "dates=sheet.iter_rows(values_only=True)\n",
    "#每一行是一个元组\n",
    "print(list(dates))"
   ]
  },
  {
   "cell_type": "markdown",
   "id": "generous-privacy",
   "metadata": {},
   "source": [
    "封装excel表格  \n",
    "1. 初始化表格对象\n",
    "2. 初始化sheet对象\n",
    "3. 获取表格数据"
   ]
  },
  {
   "cell_type": "markdown",
   "id": "fatal-restaurant",
   "metadata": {},
   "source": [
    "1. 获取测试用例\n",
    "2. 测试用例传入接口测试\n",
    "3. 保存测试结果"
   ]
  },
  {
   "cell_type": "code",
   "execution_count": null,
   "id": "numerical-officer",
   "metadata": {},
   "outputs": [],
   "source": [
    "# -*- coding: utf-8 -*-\n",
    "# @Time: 2021/5/21 10:46\n",
    "# @Author: xueli\n",
    "# @File: Demo1602.py\n",
    "import pprint\n",
    "\n",
    "import requests\n",
    "from openpyxl import load_workbook\n",
    "\n",
    "class LoginCase:\n",
    "    def __init__(self):\n",
    "        self.headers={\"X-Lemonban-Media-Type\":\"lemonban.v1\",\"Content-Type\":\"application/json\"}\n",
    "\n",
    "    #用户登录\n",
    "    def user_login(self,url,data):\n",
    "        '''\n",
    "        :param url: 接口地址\n",
    "        :param data: 接口参数\n",
    "        :return:\n",
    "        '''\n",
    "        #url='http://api.lemonban.com/futureloan/member/login'\n",
    "        #data={'mobile_phone':'18820992515','pwd':'Aa123456'}\n",
    "        res=requests.post(url=url,json=data,headers=self.headers)\n",
    "        # print(res.json)\n",
    "        return res.json()\n",
    "\n",
    "class HandleExcel:\n",
    "    def __init__(self, file_path, sheet_name):\n",
    "        # 初始化表格对象\n",
    "        self.work_book = load_workbook(filename=file_path)\n",
    "        # 初始化sheet对象\n",
    "        self.sheet = self.work_book[sheet_name]\n",
    "\n",
    "    # 获取表头和所有测试用例数据\n",
    "    def get_all_data(self):\n",
    "        all_datas = list(self.sheet.iter_rows(values_only=True))\n",
    "        # print(list(all_datas))\n",
    "        title = all_datas[0]  # 获取表头\n",
    "        case_dates = all_datas[1:]  # 获取测试用例数据，list切片\n",
    "        return title, case_dates\n",
    "\n",
    "    # 数据拼接（dict）\n",
    "    def get_case_data_dict(self):\n",
    "        case_list = []\n",
    "        title, case_datas = self.get_all_data()\n",
    "        for i in case_datas:\n",
    "            res = dict(zip(title, i))\n",
    "            # print(res)\n",
    "            case_list.append(res)\n",
    "        return case_list\n",
    "    # zip函数使用\n",
    "    # def test(self):\n",
    "    #     list1 = ['key1','key2','key3']\n",
    "    #     list2 = ['val1','val2','val3']\n",
    "    #     result = zip(list1,list2)\n",
    "    #     print(dict(result))\n",
    "\n",
    "if __name__ == \"__main__\":\n",
    "    cl = HandleExcel(file_path='testCase.xlsx', sheet_name='sheet1')\n",
    "    # cl.get_case_data_dict()\n",
    "    case_list = cl.get_case_data_dict()\n",
    "    #print(case_list)\n",
    "    pprint.pprint(case_list)\n"
   ]
  },
  {
   "cell_type": "code",
   "execution_count": 3,
   "id": "trained-soldier",
   "metadata": {},
   "outputs": [
    {
     "name": "stdout",
     "output_type": "stream",
     "text": [
      "{'key1': 'val1', 'key2': 'val2', 'key3': 'val3'}\n"
     ]
    }
   ],
   "source": [
    "#zip函数使用\n",
    "     \n",
    "list1 = ['key1','key2','key3']\n",
    "list2 = ['val1','val2','val3']\n",
    "result = zip(list1,list2)\n",
    "print(dict(result))"
   ]
  },
  {
   "cell_type": "code",
   "execution_count": null,
   "id": "illegal-commissioner",
   "metadata": {},
   "outputs": [],
   "source": [
    "import ast\n",
    "\n",
    "from Day16.Demo1602 import HandleExcel\n",
    "from Day16.Demo1602 import LoginCase\n",
    "\n",
    "handle_excel= HandleExcel(file_path='testCase.xlsx', sheet_name='sheet1')\n",
    "login_test=LoginCase()\n",
    "\n",
    "#获取excel测试用例\n",
    "excel_data=handle_excel.get_case_data_dict()\n",
    "\n",
    "#发送post请求\n",
    "for case in excel_data:\n",
    "    \n",
    "    #ast方法将字符串变为json数据\n",
    "    res=login_test.user_login(url=case['url'],data=ast.literal_eval(case['data']))\n",
    "    print(res)"
   ]
  },
  {
   "cell_type": "markdown",
   "id": "brown-study",
   "metadata": {},
   "source": [
    "需求：从excel中读取出测试用例，格式必须是字典，方便维护  \n",
    "会什么：\n",
    "1. 会读取excel\n",
    "2. for循环\n",
    "3. 类、函数、类属性、实例属性、私有方法、私有属性、列表、字典相关操作\n",
    "\n",
    "思考：  \n",
    "1. 从excel获取数据、表头是key,表体是测试用例数据\n",
    "    1. 导入from openpyxl import load_workbook\n",
    "    2. 实例化表对象work_book\n",
    "    3. 初始化sheet对象\n",
    "    4. 拿表头（key）、拿表体（value）\n",
    "    面向对象原则：一个方法做一件事\n",
    "2. 拼接表头和表体，做成dict格式\n",
    "    1. 使用zip函数进行数据拼接\n",
    "3. 将测试数据放到业务逻辑里面去执行\n",
    "    1. 执行测试用例"
   ]
  },
  {
   "cell_type": "code",
   "execution_count": null,
   "id": "allied-platinum",
   "metadata": {},
   "outputs": [],
   "source": []
  }
 ],
 "metadata": {
  "kernelspec": {
   "display_name": "Python 3",
   "language": "python",
   "name": "python3"
  },
  "language_info": {
   "codemirror_mode": {
    "name": "ipython",
    "version": 3
   },
   "file_extension": ".py",
   "mimetype": "text/x-python",
   "name": "python",
   "nbconvert_exporter": "python",
   "pygments_lexer": "ipython3",
   "version": "3.8.0"
  }
 },
 "nbformat": 4,
 "nbformat_minor": 5
}
