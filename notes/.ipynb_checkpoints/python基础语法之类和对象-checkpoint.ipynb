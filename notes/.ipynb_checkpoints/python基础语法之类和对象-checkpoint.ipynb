{
 "cells": [
  {
   "cell_type": "markdown",
   "id": "upper-optimization",
   "metadata": {},
   "source": [
    "#### 类和对象\n",
    "一、概念\n",
    "1. 什么是类  \n",
    "    类就是拥有相同属性和功能的对象的集合  \n",
    "    动物：猫、狗、鸡  \n",
    "    人：吃饭、睡觉、工作、赚钱  \n",
    "2. 对象  \n",
    "    对象就是类的实体  \n",
    "3. 封装  \n",
    "    隐藏了对象的属性和实现细节，只是对外提供接口和或者入口\n",
    "4. 类的创建\n",
    "    class 类名称：\n",
    "    class 类名称（）：\n",
    "5. 类属性  \n",
    "    + 定义在类里面，在方法（函数）外面的属性，就叫类属性\n",
    "    + 类属性的访问：类名称.类属性名称\n",
    "               - 类属性可以直接访问，不需要实例化"
   ]
  },
  {
   "cell_type": "code",
   "execution_count": 3,
   "id": "identified-hacker",
   "metadata": {},
   "outputs": [
    {
     "name": "stdout",
     "output_type": "stream",
     "text": [
      "www\n",
      "www 吃骨头\n",
      "www 会看家\n"
     ]
    }
   ],
   "source": [
    "class Dog:\n",
    "    #类属性\n",
    "    dog_name='www'\n",
    "    \n",
    "    #实例方法\n",
    "    def eat(self):\n",
    "        print(Dog.dog_name,\"吃骨头\")\n",
    "        \n",
    "    def protect_home(self):\n",
    "        print(Dog.dog_name,\"会看家\")\n",
    "        \n",
    "if __name__==\"__main__\":\n",
    "    print(Dog.dog_name)\n",
    "    #实例化\n",
    "    first=Dog()\n",
    "    #类实例调用实例方法\n",
    "    first.eat()\n",
    "    first.protect_home()"
   ]
  },
  {
   "cell_type": "code",
   "execution_count": null,
   "id": "competitive-brother",
   "metadata": {},
   "outputs": [],
   "source": []
  }
 ],
 "metadata": {
  "kernelspec": {
   "display_name": "Python 3",
   "language": "python",
   "name": "python3"
  },
  "language_info": {
   "codemirror_mode": {
    "name": "ipython",
    "version": 3
   },
   "file_extension": ".py",
   "mimetype": "text/x-python",
   "name": "python",
   "nbconvert_exporter": "python",
   "pygments_lexer": "ipython3",
   "version": "3.8.0"
  }
 },
 "nbformat": 4,
 "nbformat_minor": 5
}
