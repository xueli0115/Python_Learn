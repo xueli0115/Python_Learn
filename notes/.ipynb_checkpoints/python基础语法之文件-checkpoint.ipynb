{
 "cells": [
  {
   "cell_type": "markdown",
   "id": "compatible-nowhere",
   "metadata": {},
   "source": [
    "#### 文件操作\n",
    "一、 open()  \n",
    "1. file:你要到开的文件\n",
    "2. mode='r'：读、写、读+写\n",
    "3. buffering= None:设置缓冲策略\n",
    "4. encoding=None: 编码格式\n",
    "5. errors=None: 指定编码错误处理的方式\n",
    "6. newLine=None:换行的控制，\\n\n",
    "7. closefd=True: 文件关闭的时候，你的文件描述要不要关闭  \n",
    "\n",
    "二、 文件读取  \n",
    "1. f.read(): 读取文件的所有数据，默认从头开始"
   ]
  },
  {
   "cell_type": "code",
   "execution_count": 2,
   "id": "underlying-fitness",
   "metadata": {},
   "outputs": [
    {
     "name": "stdout",
     "output_type": "stream",
     "text": [
      "1243\n",
      "wqwe\n",
      "<class 'str'>\n"
     ]
    }
   ],
   "source": [
    "#r表示取消转义\n",
    "f=open(file=r'E:\\LenmonDemo\\Day09\\test.txt',mode='r')\n",
    "res=f.read()\n",
    "print(res)\n",
    "print(type(res))\n",
    "f.close()"
   ]
  },
  {
   "cell_type": "markdown",
   "id": "uniform-suspension",
   "metadata": {},
   "source": [
    "2. f.readline(): 读取第一行数据"
   ]
  },
  {
   "cell_type": "code",
   "execution_count": 4,
   "id": "separated-rescue",
   "metadata": {},
   "outputs": [
    {
     "name": "stdout",
     "output_type": "stream",
     "text": [
      "1243\n",
      "\n",
      "<class 'str'>\n"
     ]
    }
   ],
   "source": [
    "f=open(file=r'E:\\LenmonDemo\\Day09\\test.txt',mode='r')\n",
    "res=f.readline()\n",
    "print(res)\n",
    "print(type(res))\n",
    "f.close()"
   ]
  },
  {
   "cell_type": "markdown",
   "id": "forced-camel",
   "metadata": {},
   "source": [
    "3. f.readlines(): 读取每一行数据，但返回类型为list,每一行是list的一个元素，换行符也会读取出来"
   ]
  },
  {
   "cell_type": "code",
   "execution_count": 14,
   "id": "hollywood-waters",
   "metadata": {},
   "outputs": [
    {
     "name": "stdout",
     "output_type": "stream",
     "text": [
      "[]\n",
      "<class 'list'>\n"
     ]
    }
   ],
   "source": [
    "f=open(file=r'E:\\LenmonDemo\\Day09\\test.txt',mode='r')\n",
    "res=f.readlines()\n",
    "print(res)\n",
    "print(type(res))\n",
    "f.close()"
   ]
  },
  {
   "cell_type": "markdown",
   "id": "exclusive-conclusion",
   "metadata": {},
   "source": [
    "三、 文件写入 （mode='w'）  \n",
    "1. f.write(\"写入的内容\"): 覆盖写入文件  \n",
    "2. f.writelines(data): 覆盖写入文件，写入的时候不会换行，所有数据都会写在一行（遇到换行符才会换行）"
   ]
  },
  {
   "cell_type": "code",
   "execution_count": 16,
   "id": "korean-adrian",
   "metadata": {
    "collapsed": true
   },
   "outputs": [
    {
     "data": {
      "text/plain": [
       "<function TextIOWrapper.close()>"
      ]
     },
     "execution_count": 16,
     "metadata": {},
     "output_type": "execute_result"
    }
   ],
   "source": [
    "f=open(file=r'E:\\LenmonDemo\\Day09\\test.txt',mode='w',encoding='UTF-8')\n",
    "res=f.write('你好呀')\n",
    "\n",
    "f.close()\n",
    "\n",
    "f=open(file=r'E:\\LenmonDemo\\Day09\\test.txt',mode='w',encoding='UTF-8')\n",
    "data=('一日\\n','俩人\\n','三餐\\n','四季')\n",
    "f.writelines(data)\n",
    "f.close"
   ]
  },
  {
   "cell_type": "markdown",
   "id": "perceived-mortgage",
   "metadata": {},
   "source": [
    "四、 mode参数  \n",
    "1. r:只读文件\n",
    "2. w:只写文件（覆盖写入）\n",
    "3. a:只写文件（追加写入）\n",
    "4. +：  \n",
    "    r+:可以读&可以写（覆盖）  \n",
    "    w+:可以读&可以写（覆盖）  \n",
    "    a+:可以读&可以写（追加写入）  "
   ]
  },
  {
   "cell_type": "code",
   "execution_count": 19,
   "id": "diagnostic-eight",
   "metadata": {
    "collapsed": true
   },
   "outputs": [
    {
     "name": "stdout",
     "output_type": "stream",
     "text": [
      "\n"
     ]
    },
    {
     "data": {
      "text/plain": [
       "<function TextIOWrapper.close()>"
      ]
     },
     "execution_count": 19,
     "metadata": {},
     "output_type": "execute_result"
    }
   ],
   "source": [
    "f=open(file=r'E:\\LenmonDemo\\Day09\\test.txt',mode='a',encoding='UTF-8')\n",
    "data=('一日\\n','俩人\\n','三餐\\n','四季')\n",
    "f.writelines(data)\n",
    "f.close\n",
    "\n",
    "#先写后读，实际无内容读出，读文件时“光标”已处于文件最后一个字符处\n",
    "f=open(file=r'E:\\LenmonDemo\\Day09\\test.txt',mode='a+',encoding='UTF-8')\n",
    "data=('一日\\n','俩人\\n','三餐\\n','四季')\n",
    "f.writelines(data)\n",
    "res=f.read()\n",
    "print(res)\n",
    "f.close"
   ]
  },
  {
   "cell_type": "markdown",
   "id": "disabled-democracy",
   "metadata": {},
   "source": [
    "五、光标操作    \n",
    "seek()  \n",
    "offset: 偏移量（字节数）  \n",
    "whence：默认是0，从哪里开始偏移 \n",
    "\n",
    "    0：从文件开始算起  \n",
    "    1：从光标当前位置开始算起  \n",
    "    2：从文件末尾开始算起"
   ]
  },
  {
   "cell_type": "code",
   "execution_count": 23,
   "id": "cordless-chuck",
   "metadata": {},
   "outputs": [
    {
     "name": "stdout",
     "output_type": "stream",
     "text": [
      "\n"
     ]
    },
    {
     "data": {
      "text/plain": [
       "<function TextIOWrapper.close()>"
      ]
     },
     "execution_count": 23,
     "metadata": {},
     "output_type": "execute_result"
    }
   ],
   "source": [
    "f=open(file=r'E:\\LenmonDemo\\Day09\\test.txt',mode='a+',encoding='UTF-8')\n",
    "data=('一日\\n','俩人\\n','三餐\\n','四季')\n",
    "f.writelines(data)\n",
    "f.seek(0,1)\n",
    "res=f.read()\n",
    "print(res)\n",
    "f.close"
   ]
  },
  {
   "cell_type": "markdown",
   "id": "decreased-theology",
   "metadata": {},
   "source": [
    "六、 文件保存  \n",
    "f.flush()  \n",
    "1. 写文件的时候都是往内存区域里面去写，等程序运行结束后，就会从内存区域写到你的文件\n",
    "2. f.flush()将内存里的缓冲区域的文件写入到文件保存\n",
    "3. 使用场景：大量写入数据时，建议一边写一边保存，防止输数据丢失"
   ]
  },
  {
   "cell_type": "code",
   "execution_count": 25,
   "id": "disciplinary-asbestos",
   "metadata": {},
   "outputs": [],
   "source": [
    "f=open(file=r'E:\\LenmonDemo\\Day09\\test.txt',mode='a+')\n",
    "num = 0\n",
    "while num<=30:\n",
    "    f.write('hello world')\n",
    "    num +=1\n",
    "    f.flush()#每循环一次，将缓冲写入一次\n",
    "    \n",
    "    \n",
    "#循环结束后才写入，必须要关闭文件\n",
    "f=open(file=r'E:\\LenmonDemo\\Day09\\test.txt',mode='a+')\n",
    "num = 0\n",
    "while num<=30:\n",
    "    f.write('hello world')\n",
    "    num +=1\n",
    "    f.flush()#每循环一次，将缓冲写入一次\n",
    "f.close()"
   ]
  },
  {
   "cell_type": "markdown",
   "id": "dynamic-commission",
   "metadata": {},
   "source": [
    "七、上下文管理器  \n",
    "1. 默认关闭文件  \n",
    "2. 语法：\n",
    "with open(file=r'E:\\LenmonDemo\\Day09\\test.txt',mode='a+') as f"
   ]
  },
  {
   "cell_type": "code",
   "execution_count": null,
   "id": "military-least",
   "metadata": {},
   "outputs": [],
   "source": []
  }
 ],
 "metadata": {
  "kernelspec": {
   "display_name": "Python 3",
   "language": "python",
   "name": "python3"
  },
  "language_info": {
   "codemirror_mode": {
    "name": "ipython",
    "version": 3
   },
   "file_extension": ".py",
   "mimetype": "text/x-python",
   "name": "python",
   "nbconvert_exporter": "python",
   "pygments_lexer": "ipython3",
   "version": "3.8.0"
  }
 },
 "nbformat": 4,
 "nbformat_minor": 5
}
