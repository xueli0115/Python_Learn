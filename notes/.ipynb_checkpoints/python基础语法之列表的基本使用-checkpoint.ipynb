{
 "cells": [
  {
   "cell_type": "markdown",
   "id": "f2763adb",
   "metadata": {},
   "source": [
    "##### 列表\n",
    "\n",
    "一、创建"
   ]
  },
  {
   "cell_type": "code",
   "execution_count": 1,
   "id": "fbc60bd4",
   "metadata": {},
   "outputs": [
    {
     "name": "stdout",
     "output_type": "stream",
     "text": [
      "[1, 2, 3, 4, 5] <class 'list'>\n"
     ]
    }
   ],
   "source": [
    "#创建\n",
    "list_1 = [1, 2, 3, 4, 5]\n",
    "print(list_1, type(list_1))"
   ]
  },
  {
   "cell_type": "markdown",
   "id": "988c1838",
   "metadata": {},
   "source": [
    "二、特点\n",
    "\n",
    "1. 索引从0开始\n",
    "2. list是有序的\n",
    "3. 可变的\n",
    "4. 元素可以重复\n",
    "5. 同一list支持任意的数据类型#list_01[1, 2, 3, 'rr',  '5sd6']\n",
    "\n",
    "三、操作\n",
    "\n",
    "（一）查\n",
    "\n",
    "1. 通过索引获取元素  list_1[index]"
   ]
  },
  {
   "cell_type": "code",
   "execution_count": 2,
   "id": "c90883f9",
   "metadata": {},
   "outputs": [
    {
     "name": "stdout",
     "output_type": "stream",
     "text": [
      "3\n"
     ]
    }
   ],
   "source": [
    "list_1 = [1, 2, 3, 4, 5]\n",
    "print(list_1[2])"
   ]
  },
  {
   "cell_type": "markdown",
   "id": "195c793c",
   "metadata": {},
   "source": [
    "2. 获取元素的索引值"
   ]
  },
  {
   "cell_type": "code",
   "execution_count": 3,
   "id": "93b30ae4",
   "metadata": {},
   "outputs": [
    {
     "name": "stdout",
     "output_type": "stream",
     "text": [
      "1\n"
     ]
    }
   ],
   "source": [
    "list_1 = [1, 2, 3, 4, 5]\n",
    "print(list_1.index(2))"
   ]
  },
  {
   "cell_type": "markdown",
   "id": "d96fa964",
   "metadata": {},
   "source": [
    "3. 获取列表长度"
   ]
  },
  {
   "cell_type": "code",
   "execution_count": 4,
   "id": "d59d8646",
   "metadata": {},
   "outputs": [
    {
     "name": "stdout",
     "output_type": "stream",
     "text": [
      "5\n"
     ]
    }
   ],
   "source": [
    "list_1 = [1, 2, 3, 4, 5]\n",
    "print(len(list_1))"
   ]
  },
  {
   "cell_type": "markdown",
   "id": "4cd7b17e",
   "metadata": {},
   "source": [
    "4. 切片"
   ]
  },
  {
   "cell_type": "code",
   "execution_count": 5,
   "id": "746a29ac",
   "metadata": {},
   "outputs": [
    {
     "name": "stdout",
     "output_type": "stream",
     "text": [
      "[1, 2, 3]\n",
      "['nnen', 'erty', 5, 4]\n"
     ]
    }
   ],
   "source": [
    "#正序切片：list[start_index : endindex : step]\n",
    "list_1 = [1, 2, 3, 4, 5, 'erty', 'nnen']\n",
    "print(list_1[0:3])\n",
    "\n",
    "#倒序切片\n",
    "list_2 = [1, 2, 3, 4, 5, 'erty', 'nnen']\n",
    "print(list_2[-1 : -5 : -1])"
   ]
  },
  {
   "cell_type": "markdown",
   "id": "f8bf3063",
   "metadata": {},
   "source": [
    "（二）改\n",
    "\n",
    "1. 修改元素的值"
   ]
  },
  {
   "cell_type": "code",
   "execution_count": 6,
   "id": "8afd09d5",
   "metadata": {},
   "outputs": [
    {
     "name": "stdout",
     "output_type": "stream",
     "text": [
      "['test', 2, 3, 4, 5, 'erty', 'nnen']\n"
     ]
    }
   ],
   "source": [
    "list_1 = [1, 2, 3, 4, 5, 'erty', 'nnen']\n",
    "list_1[0]='test'\n",
    "print(list_1)"
   ]
  },
  {
   "cell_type": "markdown",
   "id": "30a100c9",
   "metadata": {},
   "source": [
    "2. 追加元素"
   ]
  },
  {
   "cell_type": "code",
   "execution_count": 7,
   "id": "ca11abd5",
   "metadata": {},
   "outputs": [
    {
     "name": "stdout",
     "output_type": "stream",
     "text": [
      "None\n"
     ]
    }
   ],
   "source": [
    "#append在最后加入\n",
    "list_1 = [1, 2, 3, 4, 5, 'erty', 'nnen']\n",
    "print(list_1.append('zhuijia'))"
   ]
  },
  {
   "cell_type": "markdown",
   "id": "b9515736",
   "metadata": {},
   "source": [
    "3. 插入"
   ]
  },
  {
   "cell_type": "code",
   "execution_count": 8,
   "id": "fe378a22",
   "metadata": {},
   "outputs": [
    {
     "name": "stdout",
     "output_type": "stream",
     "text": [
      "None\n"
     ]
    }
   ],
   "source": [
    "#insert(插入后的索引位，插入值)\n",
    "list_1 = [1, 2, 3, 4, 5, 'erty', 'nnen']\n",
    "print(list_1.insert(1,'zhuijia'))"
   ]
  },
  {
   "cell_type": "markdown",
   "id": "5d836e14",
   "metadata": {},
   "source": [
    "（三）改\n",
    "\n",
    "1. pop"
   ]
  },
  {
   "cell_type": "code",
   "execution_count": 9,
   "id": "ec597992",
   "metadata": {},
   "outputs": [
    {
     "name": "stdout",
     "output_type": "stream",
     "text": [
      "5\n"
     ]
    }
   ],
   "source": [
    "#pop(index)\n",
    "#index默认为None，因此不填写index时，默认删除最后一位\n",
    "list_01=[1, 2, 3, 4, 5]\n",
    "print(list_01.pop(4))"
   ]
  },
  {
   "cell_type": "markdown",
   "id": "46958a45",
   "metadata": {},
   "source": [
    "2. remove：正确删除返回none"
   ]
  },
  {
   "cell_type": "code",
   "execution_count": 10,
   "id": "3ec71151",
   "metadata": {},
   "outputs": [
    {
     "name": "stdout",
     "output_type": "stream",
     "text": [
      "None\n"
     ]
    }
   ],
   "source": [
    "#remove(值)\n",
    "#当列表中有多个同样的值的时候，默认只删除第一个\n",
    "#如果没有匹配到该值，则直接报错\n",
    "list_01=[1, 2, 3, 4, 5]\n",
    "print(list_01.remove(4))"
   ]
  },
  {
   "cell_type": "markdown",
   "id": "badc59cc",
   "metadata": {},
   "source": [
    "3. del:按索引删除"
   ]
  },
  {
   "cell_type": "code",
   "execution_count": 11,
   "id": "ec6c5af2",
   "metadata": {},
   "outputs": [
    {
     "name": "stdout",
     "output_type": "stream",
     "text": [
      "[2, 3, 4, 5]\n"
     ]
    }
   ],
   "source": [
    "list_01=[1, 2, 3, 4, 5]\n",
    "del list_01[0]\n",
    "print(list_01)"
   ]
  },
  {
   "cell_type": "markdown",
   "id": "9bc3e27b",
   "metadata": {},
   "source": [
    "4. clear：删除列表:返回none"
   ]
  },
  {
   "cell_type": "code",
   "execution_count": 12,
   "id": "23223d1a",
   "metadata": {},
   "outputs": [
    {
     "name": "stdout",
     "output_type": "stream",
     "text": [
      "None\n"
     ]
    }
   ],
   "source": [
    "list_01=[1, 2, 3, 4, 5]\n",
    "print(list_01.clear())"
   ]
  },
  {
   "cell_type": "markdown",
   "id": "8c898e57",
   "metadata": {},
   "source": [
    "四、其他操作\n",
    "\n",
    "（一）成员运算\n",
    "\n",
    "1. in"
   ]
  },
  {
   "cell_type": "code",
   "execution_count": 13,
   "id": "74e5765b",
   "metadata": {},
   "outputs": [
    {
     "name": "stdout",
     "output_type": "stream",
     "text": [
      "True\n"
     ]
    }
   ],
   "source": [
    "list_01=[1,2,3,4,5]\n",
    "print(1 in list_01)\n",
    "#返回的是Ture"
   ]
  },
  {
   "cell_type": "markdown",
   "id": "3863d752",
   "metadata": {},
   "source": [
    "2. not in"
   ]
  },
  {
   "cell_type": "code",
   "execution_count": 14,
   "id": "bbb33a42",
   "metadata": {},
   "outputs": [
    {
     "name": "stdout",
     "output_type": "stream",
     "text": [
      "False\n"
     ]
    }
   ],
   "source": [
    "list_01=[1,2,3,4,5]\n",
    "print(1 not in list_01)\n",
    "#返回的是False"
   ]
  },
  {
   "cell_type": "markdown",
   "id": "8d9233a9",
   "metadata": {},
   "source": [
    "（二）排序(全部基于ASCII码表)"
   ]
  },
  {
   "cell_type": "markdown",
   "id": "52f64b24",
   "metadata": {},
   "source": [
    "#通过ASCII码获取对应字符\n",
    "print(chr(97))\n",
    "\n",
    "#通过字符获取对应ASCII码\n",
    "print(ord('A'))"
   ]
  },
  {
   "cell_type": "markdown",
   "id": "ddf8c9d5",
   "metadata": {},
   "source": [
    "1. 升序"
   ]
  },
  {
   "cell_type": "code",
   "execution_count": 15,
   "id": "0bbe5982",
   "metadata": {},
   "outputs": [
    {
     "name": "stdout",
     "output_type": "stream",
     "text": [
      "[0, 5, 21, 45, 47, 88]\n",
      "[0, 5, 21, 45, 47, 88]\n"
     ]
    }
   ],
   "source": [
    "#sort不会生成新的列表\n",
    "list_02=[0,5,88,45,21,47]\n",
    "list_02.sort()\n",
    "print(list_02)\n",
    "\n",
    "#sorted会生成新的列表\n",
    "list_03=[0,5,88,45,21,47]\n",
    "print(sorted(list_03))"
   ]
  },
  {
   "cell_type": "markdown",
   "id": "b126d49d",
   "metadata": {},
   "source": [
    "2. 降序"
   ]
  },
  {
   "cell_type": "code",
   "execution_count": 16,
   "id": "86e07e93",
   "metadata": {},
   "outputs": [
    {
     "name": "stdout",
     "output_type": "stream",
     "text": [
      "[88, 47, 45, 21, 5, 0]\n",
      "[88, 47, 45, 21, 5, 0]\n"
     ]
    }
   ],
   "source": [
    "#sort不会生成新的列表\n",
    "list_02=[0,5,88,45,21,47]\n",
    "list_02.sort(reverse=True)\n",
    "print(list_02)\n",
    "\n",
    "#sorted会生成新的列表\n",
    "list_03=[0,5,88,45,21,47]\n",
    "print(sorted(list_03,reverse=True))"
   ]
  },
  {
   "cell_type": "markdown",
   "id": "05992717",
   "metadata": {},
   "source": [
    "3. 反序/反转"
   ]
  },
  {
   "cell_type": "code",
   "execution_count": 17,
   "id": "ac828560",
   "metadata": {},
   "outputs": [
    {
     "name": "stdout",
     "output_type": "stream",
     "text": [
      "[47, 21, 45, 88, 5, 0]\n"
     ]
    }
   ],
   "source": [
    "#reverse将列表倒序输出\n",
    "list_04=[0,5,88,45,21,47]\n",
    "list_04.reverse()\n",
    "print(list_04)"
   ]
  },
  {
   "cell_type": "markdown",
   "id": "7b55acae",
   "metadata": {},
   "source": [
    "（三）内置函数使用\n",
    "\n",
    "1. max()"
   ]
  },
  {
   "cell_type": "code",
   "execution_count": 18,
   "id": "0ac45237",
   "metadata": {},
   "outputs": [
    {
     "name": "stdout",
     "output_type": "stream",
     "text": [
      "88\n"
     ]
    }
   ],
   "source": [
    "list_05=[0,5,88,45,21,47]\n",
    "print(max(list_05))"
   ]
  },
  {
   "cell_type": "markdown",
   "id": "ad7b6bea",
   "metadata": {},
   "source": [
    "2. min()"
   ]
  },
  {
   "cell_type": "code",
   "execution_count": 19,
   "id": "62a0cae7",
   "metadata": {},
   "outputs": [
    {
     "name": "stdout",
     "output_type": "stream",
     "text": [
      "0\n"
     ]
    }
   ],
   "source": [
    "list_06=[0,5,88,45,21,47]\n",
    "print(min(list_06))"
   ]
  },
  {
   "cell_type": "markdown",
   "id": "b4503174",
   "metadata": {},
   "source": [
    "3. sum()"
   ]
  },
  {
   "cell_type": "code",
   "execution_count": 20,
   "id": "5baef1fd",
   "metadata": {},
   "outputs": [
    {
     "name": "stdout",
     "output_type": "stream",
     "text": [
      "206\n"
     ]
    }
   ],
   "source": [
    "#int和str类型无法相加\n",
    "list_07=[0,5,88,45,21,47]\n",
    "print(sum(list_07))"
   ]
  },
  {
   "cell_type": "markdown",
   "id": "a4496c07",
   "metadata": {},
   "source": [
    "4. len()"
   ]
  },
  {
   "cell_type": "code",
   "execution_count": 21,
   "id": "4e1a327a",
   "metadata": {},
   "outputs": [
    {
     "name": "stdout",
     "output_type": "stream",
     "text": [
      "6\n"
     ]
    }
   ],
   "source": [
    "list_08=[0,5,88,45,21,47]\n",
    "print(len(list_08))"
   ]
  },
  {
   "cell_type": "markdown",
   "id": "a390ed0f",
   "metadata": {},
   "source": [
    "5. input"
   ]
  },
  {
   "cell_type": "code",
   "execution_count": 22,
   "id": "39280488",
   "metadata": {},
   "outputs": [
    {
     "name": "stdout",
     "output_type": "stream",
     "text": [
      "请输入：4\n",
      "4 <class 'str'>\n"
     ]
    }
   ],
   "source": [
    "#输入\n",
    "res=input('请输入：')\n",
    "print(res,type(res))\n",
    "#res类型为str"
   ]
  }
 ],
 "metadata": {
  "kernelspec": {
   "display_name": "Python 3",
   "language": "python",
   "name": "python3"
  },
  "language_info": {
   "codemirror_mode": {
    "name": "ipython",
    "version": 3
   },
   "file_extension": ".py",
   "mimetype": "text/x-python",
   "name": "python",
   "nbconvert_exporter": "python",
   "pygments_lexer": "ipython3",
   "version": "3.8.0"
  }
 },
 "nbformat": 4,
 "nbformat_minor": 5
}
