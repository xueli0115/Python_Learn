{
 "cells": [
  {
   "cell_type": "markdown",
   "id": "forbidden-standard",
   "metadata": {},
   "source": [
    "#### 类和对象\n",
    "一、概念\n",
    "1. 什么是类  \n",
    "    类就是拥有相同属性和功能的对象的集合  \n",
    "    动物：猫、狗、鸡  \n",
    "    人：吃饭、睡觉、工作、赚钱   \n",
    "    命名：大驼峰\n",
    "2. 对象  \n",
    "    对象就是类的实体  \n",
    "3. 封装  \n",
    "    隐藏了对象的属性和实现细节，只是对外提供接口和或者入口\n",
    "4. 类的创建\n",
    "    class 类名称：\n",
    "    class 类名称（）：\n",
    "5. 类属性  \n",
    "    + 定义在类里面，在方法（函数）外面的属性，就叫类属性\n",
    "    + 类属性的访问：\n",
    "               类名称.类属性名称\n",
    "               类属性可以直接访问，不需要实例化\n",
    "6. 实例属性：\n",
    "    定义在__init__(初始化方法)中，self.xxx\n",
    "    创建、访问（实例）\n",
    "    访问：\n",
    "        在类里面：self.xxx\n",
    "        在类外面：类实例.名称\n",
    "7. __init__（初始化方法）:在类实例化的时候就会自动调用\n",
    "    self是实例本身，是个占位符，习惯写法self(见名知义)\n",
    "8. 类和类实例的区别：\n",
    "    类：一类事物的抽象\n",
    "    类实例：类事物的具体"
   ]
  },
  {
   "cell_type": "code",
   "execution_count": 6,
   "id": "attended-apparatus",
   "metadata": {},
   "outputs": [
    {
     "name": "stdout",
     "output_type": "stream",
     "text": [
      "www\n",
      "www 吃骨头\n",
      "www 会看家\n"
     ]
    }
   ],
   "source": [
    "class Dog:\n",
    "    #类属性\n",
    "    dog_name='www'\n",
    "    \n",
    "    #实例方法\n",
    "    def eat(self):\n",
    "        print(Dog.dog_name,\"吃骨头\")\n",
    "        \n",
    "    def protect_home(self):\n",
    "        print(Dog.dog_name,\"会看家\")\n",
    "        \n",
    "if __name__==\"__main__\":\n",
    "    print(Dog.dog_name)\n",
    "    #实例化 \n",
    "    first=Dog()\n",
    "    #类实例调用实例方法\n",
    "    first.eat()\n",
    "    first.protect_home()"
   ]
  },
  {
   "cell_type": "code",
   "execution_count": 7,
   "id": "eastern-intent",
   "metadata": {},
   "outputs": [
    {
     "name": "stdout",
     "output_type": "stream",
     "text": [
      "www\n",
      "www\n",
      "www 吃骨头\n",
      "狗的颜色： 黄色\n",
      "www 会看家\n",
      "www 吃骨头\n",
      "狗的颜色： 黄色\n"
     ]
    }
   ],
   "source": [
    "class Dog:\n",
    "    #类属性\n",
    "    dog_name='www'\n",
    "    \n",
    "    #self表示类本身，相当于占位符\n",
    "    def __init__(self):\n",
    "        self.color='黄色'\n",
    "        \n",
    "    #实例方法\n",
    "    def eat(self):\n",
    "        print(Dog.dog_name,\"吃骨头\")\n",
    "        print(\"狗的颜色：\",self.color)\n",
    "        \n",
    "    def protect_home(self):\n",
    "        print(Dog.dog_name,\"会看家\")\n",
    "        self.eat()\n",
    "        \n",
    "if __name__==\"__main__\":\n",
    "    print(Dog.dog_name)\n",
    "    \n",
    "    #实例化 \n",
    "    first=Dog()\n",
    "    print(first.dog_name)\n",
    "    \n",
    "    #类实例调用实例方法\n",
    "    first.eat()\n",
    "    first.protect_home()"
   ]
  },
  {
   "cell_type": "markdown",
   "id": "comic-genesis",
   "metadata": {},
   "source": [
    "二、私有属性  \n",
    "1. 定义：不是所有的属性都可以被外部访问，不能被外部访问的属性叫做私有属性\n",
    "2. 创建：双下划线开头\n",
    "\n",
    "\n",
    "函数调用拓展：\n",
    "1. 函数名称（）\n",
    "2. 在类的内部，self.函数名称（）\n",
    "3. 在类的外面，类实例.函数名称（）==类（）.函数名称（）"
   ]
  },
  {
   "cell_type": "code",
   "execution_count": 8,
   "id": "consecutive-recycling",
   "metadata": {},
   "outputs": [
    {
     "name": "stdout",
     "output_type": "stream",
     "text": [
      "www\n",
      "www\n",
      "www 吃骨头\n",
      "狗的颜色： 黄色\n",
      "类的私有属性： 公\n",
      "www 会看家\n",
      "www 吃骨头\n",
      "狗的颜色： 黄色\n",
      "类的私有属性： 公\n"
     ]
    }
   ],
   "source": [
    "class Dog:\n",
    "    #类的私有属性\n",
    "    __dog_sex='公'\n",
    "    \n",
    "    dog_name='www'\n",
    "    \n",
    "    #self表示类本身，相当于占位符\n",
    "    def __init__(self):\n",
    "        self.color='黄色'\n",
    "        \n",
    "        #实例的私有属性\n",
    "        self.__kind=\"柯基\"\n",
    "        \n",
    "    #实例方法\n",
    "    def eat(self):\n",
    "        print(Dog.dog_name,\"吃骨头\")\n",
    "        print(\"狗的颜色：\",self.color)\n",
    "        print(\"类的私有属性：\",Dog.__dog_sex)\n",
    "        \n",
    "    def protect_home(self):\n",
    "        print(Dog.dog_name,\"会看家\")\n",
    "        self.eat()\n",
    "        \n",
    "if __name__==\"__main__\":\n",
    "    print(Dog.dog_name)\n",
    "    \n",
    "    #实例化 \n",
    "    first=Dog()\n",
    "    print(first.dog_name)\n",
    "    \n",
    "    #类实例调用实例方法\n",
    "    first.eat()\n",
    "    first.protect_home()"
   ]
  },
  {
   "cell_type": "markdown",
   "id": "separated-thompson",
   "metadata": {},
   "source": [
    "三、类的特性\n",
    "1. 继承：  \n",
    "    概念：子类继承父类之后，就会拥有父类的属性和方法（私有属性和私有方法不可以被继承）\n",
    "    语法：class test02(Test01):\n",
    "        Test01是父类\n",
    "        test02是子类\n",
    "     调用父类方法：\n",
    "     \n",
    "         1. self.方法名称（）\n",
    "         \n",
    "         2. super():用来调用父类的方法\n",
    "             不管子类有没有实现，他都是直接从父类开始查找\n",
    "         3. 类实例.方法名称（）【在子类外面】\n",
    "             如果子类和父类有相同名称的属性或者方法，优先使用子类自己的属性或者方法\n",
    "     私有属性和私有方法：不想被其他类访问的方法和属性，通过双下划线开头来定义（__eat()）\n"
   ]
  },
  {
   "cell_type": "code",
   "execution_count": 6,
   "id": "trying-municipality",
   "metadata": {},
   "outputs": [
    {
     "name": "stdout",
     "output_type": "stream",
     "text": [
      "小狗正常情况下： 活着\n",
      "喜欢跑步\n",
      "喜欢跑步\n"
     ]
    }
   ],
   "source": [
    "# 父类\n",
    "class animal:\n",
    "\n",
    "    def __init__(self):\n",
    "        self.life = '活着'\n",
    "        print('正常情况下：', self.life)\n",
    "\n",
    "    def __eat(self):\n",
    "        print(\"恰饭\")\n",
    "\n",
    "    def run(self):\n",
    "        print(\"喜欢跑步\")\n",
    "\n",
    "# 子类\n",
    "class dog(animal):\n",
    "\n",
    "    def __init__(self):\n",
    "        self.name = '小狗'\n",
    "        print(self.name, end='')\n",
    "        super().__init__()\n",
    "        #eat方法是私有化的，所以不能被继承\n",
    "        #self.eat()\n",
    "        self.run()\n",
    "\n",
    "\n",
    "if __name__ == \"__main__\":\n",
    "    amy=dog()\n",
    "    amy.run()\n",
    "    "
   ]
  },
  {
   "cell_type": "markdown",
   "id": "golden-continent",
   "metadata": {},
   "source": [
    "2. 多继承\n",
    "    1. 含义：一个类继承了多个类就叫多继承，此时他会拥有他继承的所有的类的方法和属性（私有方法和属性不会被继承）\n",
    "    2. 建议：不要使用多用继承"
   ]
  },
  {
   "cell_type": "code",
   "execution_count": 11,
   "id": "grateful-pakistan",
   "metadata": {},
   "outputs": [
    {
     "name": "stdout",
     "output_type": "stream",
     "text": [
      "Test01>>>test01\n",
      "Test03>>>test06\n"
     ]
    }
   ],
   "source": [
    "class Test01:\n",
    "    def test01(self):\n",
    "        print('Test01>>>test01')\n",
    "    \n",
    "    def test02(self):\n",
    "        print('Test01>>>test02')\n",
    "        \n",
    "class Test02:\n",
    "    def test01(self):\n",
    "        print('Test02>>>test03')\n",
    "    \n",
    "    def test02(self):\n",
    "        print('Test02>>>test04')\n",
    "\n",
    "#继承的父类先继承Test01，再继承Test02(两个类中都有test01和test02方法)\n",
    "class Test03(Test01,Test02):\n",
    "    def test05(self):\n",
    "        print('Test03>>>test05')\n",
    "        \n",
    "    def test06(self):\n",
    "        print('Test03>>>test06')\n",
    "        \n",
    "if __name__==\"__main__\":\n",
    "    a=Test03()\n",
    "    a.test01()\n",
    "    a.test06()"
   ]
  },
  {
   "cell_type": "code",
   "execution_count": 12,
   "id": "practical-measure",
   "metadata": {},
   "outputs": [
    {
     "name": "stdout",
     "output_type": "stream",
     "text": [
      "Test02>>>test03\n",
      "Test03>>>test06\n"
     ]
    }
   ],
   "source": [
    "class Test01:\n",
    "    def test01(self):\n",
    "        print('Test01>>>test01')\n",
    "    \n",
    "    def test02(self):\n",
    "        print('Test01>>>test02')\n",
    "        \n",
    "class Test02:\n",
    "    def test01(self):\n",
    "        print('Test02>>>test03')\n",
    "    \n",
    "    def test02(self):\n",
    "        print('Test02>>>test04')\n",
    "\n",
    "#继承的父类先继承Test02，再继承Test01(两个类中都有test01和test02方法)\n",
    "class Test03(Test02,Test01):\n",
    "    def test05(self):\n",
    "        print('Test03>>>test05')\n",
    "        \n",
    "    def test06(self):\n",
    "        print('Test03>>>test06')\n",
    "        \n",
    "if __name__==\"__main__\":\n",
    "    a=Test03()\n",
    "    a.test01()\n",
    "    a.test06()"
   ]
  },
  {
   "cell_type": "markdown",
   "id": "exotic-string",
   "metadata": {},
   "source": [
    "四、封装  \n",
    "1. 含义：实现细节不会暴露出来，只是告诉你一个接口，然后你使用这个接口就能实现响应的操作  \n",
    "\n",
    "五、实例方法  \n",
    "1. 含义：定义在类中，第一个参数【实例对象】，习惯用self来表示  \n",
    "    self:类实例  \n",
    "2. 调用：  \n",
    "    实例.方法名（）  \n",
    "    \n",
    "六、类方法  \n",
    "1. 含义：定义在类中，通过@classmathod修饰之后，他就是类方法，第一个参数是类本身，习惯使用cls来占位，注意与self的区别  \n",
    "    cls:类本身  \n",
    "2. 调用  \n",
    "    类名称.类方法  \n",
    "    类实例.类方法  \n",
    "     \n",
    "七、静态方法  \n",
    "1. 含义：定义在类中，通过@staticmethod修饰后，他就是静态方法，参数可以随便，没有self,cls(类和类实例)  \n",
    "2. 调用：  \n",
    "    类名称.类方法Test01.test03()  \n",
    "    类实例.类方法Test01().test03()  "
   ]
  },
  {
   "cell_type": "code",
   "execution_count": 21,
   "id": "egyptian-break",
   "metadata": {},
   "outputs": [
    {
     "name": "stdout",
     "output_type": "stream",
     "text": [
      "wang\n",
      "test01\n",
      "test01\n",
      "test03\n",
      "test03\n"
     ]
    }
   ],
   "source": [
    "class Test01:\n",
    "    #类属性\n",
    "    name=\"wang\"\n",
    "    \n",
    "    #实例方法\n",
    "    def test01(self):\n",
    "        pass\n",
    "    \n",
    "    #类方法\n",
    "    @classmethod\n",
    "    def test02(cls):\n",
    "        print('test01')\n",
    "        \n",
    "    #静态方法\n",
    "    @staticmethod\n",
    "    #self可以不写\n",
    "    def test03():\n",
    "        print('test03')\n",
    "        \n",
    "if __name__==\"__main__\":\n",
    "    print(Test01.name)\n",
    "    #l类调用.类方法\n",
    "    Test01.test02()\n",
    "    #类方法.类方法\n",
    "    a=Test01()\n",
    "    a.test02()#等同于Test01().test02()\n",
    "    \n",
    "    Test01.test03()\n",
    "    Test01().test03()\n",
    "    "
   ]
  },
  {
   "cell_type": "markdown",
   "id": "impressive-visibility",
   "metadata": {},
   "source": [
    "类方法和静态方法的区别  \n",
    "\n",
    "相同点：  \n",
    "    1.  都是挂在类下，可以通过类直接调用  \n",
    "    2. 他们都可以被实例调用 \n",
    "\n",
    "不同点：  \n",
    "    1. 类方法可以使用类的属性、和静态方法  \n",
    "    2. 静态方法：不可以使用类的属性和 方法  \n",
    "    \n",
    "使用场景：  \n",
    "    当你的类不能重复初始化的时候，就可以使用类方法或者实例方法  "
   ]
  },
  {
   "cell_type": "markdown",
   "id": "worthy-thought",
   "metadata": {},
   "source": []
  }
 ],
 "metadata": {
  "kernelspec": {
   "display_name": "Python 3",
   "language": "python",
   "name": "python3"
  },
  "language_info": {
   "codemirror_mode": {
    "name": "ipython",
    "version": 3
   },
   "file_extension": ".py",
   "mimetype": "text/x-python",
   "name": "python",
   "nbconvert_exporter": "python",
   "pygments_lexer": "ipython3",
   "version": "3.8.0"
  }
 },
 "nbformat": 4,
 "nbformat_minor": 5
}
