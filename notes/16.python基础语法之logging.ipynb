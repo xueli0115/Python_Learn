{
 "cells": [
  {
   "cell_type": "markdown",
   "id": "controlled-patient",
   "metadata": {},
   "source": [
    "#### logging模块\n",
    "一、项目日志：从代码里面收集过来的，用来还原用户行为  \n",
    "二、日志打印原则：只打印关键信息（能够换原用户行为的关键信息）  \n",
    "三、自动化测试关键信息：  \n",
    "1. 请求地址\n",
    "2. 请求参数\n",
    "3. 断言\n",
    "4. 请求时间\n",
    "5. 请求方式\n",
    "6. 日志级别\n",
    "7. 响应结果\n",
    "\n",
    "四、日志级别：\n",
    "debug < info < warning < error < dritical\n",
    "\n"
   ]
  },
  {
   "cell_type": "code",
   "execution_count": 2,
   "id": "found-rubber",
   "metadata": {},
   "outputs": [
    {
     "name": "stderr",
     "output_type": "stream",
     "text": [
      "INFO:root:python\n"
     ]
    }
   ],
   "source": [
    "import logging\n",
    "#将日志最低级别设置为debug\n",
    "logging.basicConfig(level=logging.DEBUG)\n",
    "logging.info('python')"
   ]
  },
  {
   "cell_type": "markdown",
   "id": "political-citation",
   "metadata": {},
   "source": [
    "五、 需求：将日志收集到文件\n",
    "1. 创建日志收集器\n",
    "2. 创建日志收集渠道\n",
    "    1. 收集器 与 渠道的关系：收集器只负责收集日志信息，渠道负责输出/展示日志信息\n",
    "    2. 日志格式 与 渠道的关系：日志格式相当于渠道的一个属性\n",
    "3. 创建日志格式\n",
    "六、 日志收集器概念\n",
    "1. 输出渠道:文件、控制台\n",
    "2. 日志级别\n",
    "    1. CRITICAL = 50\n",
    "    2. FATAL = CRITICAL\n",
    "    3. ERROR = 40\n",
    "    4. WARNNING =30\n",
    "    5. WARN = WARNING\n",
    "    6. INFO = 20\n",
    "    7. DEBUG = 10\n",
    "    8. NOTSET = 0\n",
    "3. 日志格式\n",
    "    1. %(name)s                Name of the logger (logging channel)\n",
    "    2. %(levelno)s              Numeric logging level for the message (DEBUG, INFO,\n",
    "                           WARNING, ERROR, CRITICAL)\n",
    "    3. %(levelname)s            Text logging level for the message (\"DEBUG\", \"INFO\",\n",
    "                           \"WARNING\", \"ERROR\", \"CRITICAL\")\n",
    "    4. %(pathname)s             Full pathname of the source file where the logging\n",
    "                           call was issued (if available)\n",
    "    5. %(filename)s             Filename portion of pathname\n",
    "    6. %(module)s               Module (name portion of filename)\n",
    "    7. %(lineno)d              Source line number where the logging call was issued\n",
    "                           (if available)\n",
    "    8. %(funcName)s             Function name\n",
    "    9. %(created)f              Time when the LogRecord was created (time.time()\n",
    "                            return value)\n",
    "    10. %(asctime)s              Textual time when the LogRecord was created\n",
    "    11. %(msecs)d              Millisecond portion of the creation time\n",
    "    12. %(relativeCreated)d       Time in milliseconds when the LogRecord was created,\n",
    "                          relative to the time the logging module was loaded\n",
    "                          (typically at application startup time)\n",
    "    13. %(thread)d             Thread ID (if available)\n",
    "    14. %(threadName)s           Thread name (if available)\n",
    "    15. %(process)d             Process ID (if available)\n",
    "    16. %(message)s             The result of record.getMessage(), computed just as\n",
    "                           the record is emitted\n"
   ]
  },
  {
   "cell_type": "code",
   "execution_count": 3,
   "id": "respiratory-nebraska",
   "metadata": {},
   "outputs": [
    {
     "ename": "FileNotFoundError",
     "evalue": "[Errno 2] No such file or directory: 'D:\\\\lemon\\\\Python_Learn\\\\Day18\\\\log.log'",
     "output_type": "error",
     "traceback": [
      "\u001b[1;31m---------------------------------------------------------------------------\u001b[0m",
      "\u001b[1;31mFileNotFoundError\u001b[0m                         Traceback (most recent call last)",
      "\u001b[1;32m<ipython-input-3-ada7ce531fb4>\u001b[0m in \u001b[0;36m<module>\u001b[1;34m\u001b[0m\n\u001b[0;32m     53\u001b[0m     \u001b[1;32mreturn\u001b[0m \u001b[0mpy_39\u001b[0m\u001b[1;33m\u001b[0m\u001b[1;33m\u001b[0m\u001b[0m\n\u001b[0;32m     54\u001b[0m \u001b[1;33m\u001b[0m\u001b[0m\n\u001b[1;32m---> 55\u001b[1;33m \u001b[0mmy_logger\u001b[0m\u001b[1;33m=\u001b[0m\u001b[0mhandle_log\u001b[0m\u001b[1;33m(\u001b[0m\u001b[1;33m)\u001b[0m\u001b[1;33m\u001b[0m\u001b[1;33m\u001b[0m\u001b[0m\n\u001b[0m",
      "\u001b[1;32m<ipython-input-3-ada7ce531fb4>\u001b[0m in \u001b[0;36mhandle_log\u001b[1;34m()\u001b[0m\n\u001b[0;32m     21\u001b[0m \u001b[1;33m\u001b[0m\u001b[0m\n\u001b[0;32m     22\u001b[0m     \u001b[1;31m#设置文件大小进行日志拆分\u001b[0m\u001b[1;33m\u001b[0m\u001b[1;33m\u001b[0m\u001b[1;33m\u001b[0m\u001b[0m\n\u001b[1;32m---> 23\u001b[1;33m     \u001b[0mfile\u001b[0m \u001b[1;33m=\u001b[0m \u001b[0mhandlers\u001b[0m\u001b[1;33m.\u001b[0m\u001b[0mRotatingFileHandler\u001b[0m\u001b[1;33m(\u001b[0m\u001b[0mfilename\u001b[0m\u001b[1;33m=\u001b[0m\u001b[1;34m\"../Day18/log.log\"\u001b[0m\u001b[1;33m,\u001b[0m \u001b[0mmaxBytes\u001b[0m\u001b[1;33m=\u001b[0m\u001b[1;36m5\u001b[0m\u001b[1;33m,\u001b[0m \u001b[0mbackupCount\u001b[0m\u001b[1;33m=\u001b[0m\u001b[1;36m5\u001b[0m\u001b[1;33m)\u001b[0m\u001b[1;33m\u001b[0m\u001b[1;33m\u001b[0m\u001b[0m\n\u001b[0m\u001b[0;32m     24\u001b[0m     \u001b[1;31m#根据时间来拆分日志\u001b[0m\u001b[1;33m\u001b[0m\u001b[1;33m\u001b[0m\u001b[1;33m\u001b[0m\u001b[0m\n\u001b[0;32m     25\u001b[0m     \u001b[1;31m#when='M',interval=1,两者组合起来就意味着一分钟拆分一个\u001b[0m\u001b[1;33m\u001b[0m\u001b[1;33m\u001b[0m\u001b[1;33m\u001b[0m\u001b[0m\n",
      "\u001b[1;32mc:\\users\\xueli\\appdata\\local\\programs\\python\\python38\\lib\\logging\\handlers.py\u001b[0m in \u001b[0;36m__init__\u001b[1;34m(self, filename, mode, maxBytes, backupCount, encoding, delay)\u001b[0m\n\u001b[0;32m    146\u001b[0m         \u001b[1;32mif\u001b[0m \u001b[0mmaxBytes\u001b[0m \u001b[1;33m>\u001b[0m \u001b[1;36m0\u001b[0m\u001b[1;33m:\u001b[0m\u001b[1;33m\u001b[0m\u001b[1;33m\u001b[0m\u001b[0m\n\u001b[0;32m    147\u001b[0m             \u001b[0mmode\u001b[0m \u001b[1;33m=\u001b[0m \u001b[1;34m'a'\u001b[0m\u001b[1;33m\u001b[0m\u001b[1;33m\u001b[0m\u001b[0m\n\u001b[1;32m--> 148\u001b[1;33m         \u001b[0mBaseRotatingHandler\u001b[0m\u001b[1;33m.\u001b[0m\u001b[0m__init__\u001b[0m\u001b[1;33m(\u001b[0m\u001b[0mself\u001b[0m\u001b[1;33m,\u001b[0m \u001b[0mfilename\u001b[0m\u001b[1;33m,\u001b[0m \u001b[0mmode\u001b[0m\u001b[1;33m,\u001b[0m \u001b[0mencoding\u001b[0m\u001b[1;33m,\u001b[0m \u001b[0mdelay\u001b[0m\u001b[1;33m)\u001b[0m\u001b[1;33m\u001b[0m\u001b[1;33m\u001b[0m\u001b[0m\n\u001b[0m\u001b[0;32m    149\u001b[0m         \u001b[0mself\u001b[0m\u001b[1;33m.\u001b[0m\u001b[0mmaxBytes\u001b[0m \u001b[1;33m=\u001b[0m \u001b[0mmaxBytes\u001b[0m\u001b[1;33m\u001b[0m\u001b[1;33m\u001b[0m\u001b[0m\n\u001b[0;32m    150\u001b[0m         \u001b[0mself\u001b[0m\u001b[1;33m.\u001b[0m\u001b[0mbackupCount\u001b[0m \u001b[1;33m=\u001b[0m \u001b[0mbackupCount\u001b[0m\u001b[1;33m\u001b[0m\u001b[1;33m\u001b[0m\u001b[0m\n",
      "\u001b[1;32mc:\\users\\xueli\\appdata\\local\\programs\\python\\python38\\lib\\logging\\handlers.py\u001b[0m in \u001b[0;36m__init__\u001b[1;34m(self, filename, mode, encoding, delay)\u001b[0m\n\u001b[0;32m     53\u001b[0m         \u001b[0mUse\u001b[0m \u001b[0mthe\u001b[0m \u001b[0mspecified\u001b[0m \u001b[0mfilename\u001b[0m \u001b[1;32mfor\u001b[0m \u001b[0mstreamed\u001b[0m \u001b[0mlogging\u001b[0m\u001b[1;33m\u001b[0m\u001b[1;33m\u001b[0m\u001b[0m\n\u001b[0;32m     54\u001b[0m         \"\"\"\n\u001b[1;32m---> 55\u001b[1;33m         \u001b[0mlogging\u001b[0m\u001b[1;33m.\u001b[0m\u001b[0mFileHandler\u001b[0m\u001b[1;33m.\u001b[0m\u001b[0m__init__\u001b[0m\u001b[1;33m(\u001b[0m\u001b[0mself\u001b[0m\u001b[1;33m,\u001b[0m \u001b[0mfilename\u001b[0m\u001b[1;33m,\u001b[0m \u001b[0mmode\u001b[0m\u001b[1;33m,\u001b[0m \u001b[0mencoding\u001b[0m\u001b[1;33m,\u001b[0m \u001b[0mdelay\u001b[0m\u001b[1;33m)\u001b[0m\u001b[1;33m\u001b[0m\u001b[1;33m\u001b[0m\u001b[0m\n\u001b[0m\u001b[0;32m     56\u001b[0m         \u001b[0mself\u001b[0m\u001b[1;33m.\u001b[0m\u001b[0mmode\u001b[0m \u001b[1;33m=\u001b[0m \u001b[0mmode\u001b[0m\u001b[1;33m\u001b[0m\u001b[1;33m\u001b[0m\u001b[0m\n\u001b[0;32m     57\u001b[0m         \u001b[0mself\u001b[0m\u001b[1;33m.\u001b[0m\u001b[0mencoding\u001b[0m \u001b[1;33m=\u001b[0m \u001b[0mencoding\u001b[0m\u001b[1;33m\u001b[0m\u001b[1;33m\u001b[0m\u001b[0m\n",
      "\u001b[1;32mc:\\users\\xueli\\appdata\\local\\programs\\python\\python38\\lib\\logging\\__init__.py\u001b[0m in \u001b[0;36m__init__\u001b[1;34m(self, filename, mode, encoding, delay)\u001b[0m\n\u001b[0;32m   1141\u001b[0m             \u001b[0mself\u001b[0m\u001b[1;33m.\u001b[0m\u001b[0mstream\u001b[0m \u001b[1;33m=\u001b[0m \u001b[1;32mNone\u001b[0m\u001b[1;33m\u001b[0m\u001b[1;33m\u001b[0m\u001b[0m\n\u001b[0;32m   1142\u001b[0m         \u001b[1;32melse\u001b[0m\u001b[1;33m:\u001b[0m\u001b[1;33m\u001b[0m\u001b[1;33m\u001b[0m\u001b[0m\n\u001b[1;32m-> 1143\u001b[1;33m             \u001b[0mStreamHandler\u001b[0m\u001b[1;33m.\u001b[0m\u001b[0m__init__\u001b[0m\u001b[1;33m(\u001b[0m\u001b[0mself\u001b[0m\u001b[1;33m,\u001b[0m \u001b[0mself\u001b[0m\u001b[1;33m.\u001b[0m\u001b[0m_open\u001b[0m\u001b[1;33m(\u001b[0m\u001b[1;33m)\u001b[0m\u001b[1;33m)\u001b[0m\u001b[1;33m\u001b[0m\u001b[1;33m\u001b[0m\u001b[0m\n\u001b[0m\u001b[0;32m   1144\u001b[0m \u001b[1;33m\u001b[0m\u001b[0m\n\u001b[0;32m   1145\u001b[0m     \u001b[1;32mdef\u001b[0m \u001b[0mclose\u001b[0m\u001b[1;33m(\u001b[0m\u001b[0mself\u001b[0m\u001b[1;33m)\u001b[0m\u001b[1;33m:\u001b[0m\u001b[1;33m\u001b[0m\u001b[1;33m\u001b[0m\u001b[0m\n",
      "\u001b[1;32mc:\\users\\xueli\\appdata\\local\\programs\\python\\python38\\lib\\logging\\__init__.py\u001b[0m in \u001b[0;36m_open\u001b[1;34m(self)\u001b[0m\n\u001b[0;32m   1170\u001b[0m         \u001b[0mReturn\u001b[0m \u001b[0mthe\u001b[0m \u001b[0mresulting\u001b[0m \u001b[0mstream\u001b[0m\u001b[1;33m.\u001b[0m\u001b[1;33m\u001b[0m\u001b[1;33m\u001b[0m\u001b[0m\n\u001b[0;32m   1171\u001b[0m         \"\"\"\n\u001b[1;32m-> 1172\u001b[1;33m         \u001b[1;32mreturn\u001b[0m \u001b[0mopen\u001b[0m\u001b[1;33m(\u001b[0m\u001b[0mself\u001b[0m\u001b[1;33m.\u001b[0m\u001b[0mbaseFilename\u001b[0m\u001b[1;33m,\u001b[0m \u001b[0mself\u001b[0m\u001b[1;33m.\u001b[0m\u001b[0mmode\u001b[0m\u001b[1;33m,\u001b[0m \u001b[0mencoding\u001b[0m\u001b[1;33m=\u001b[0m\u001b[0mself\u001b[0m\u001b[1;33m.\u001b[0m\u001b[0mencoding\u001b[0m\u001b[1;33m)\u001b[0m\u001b[1;33m\u001b[0m\u001b[1;33m\u001b[0m\u001b[0m\n\u001b[0m\u001b[0;32m   1173\u001b[0m \u001b[1;33m\u001b[0m\u001b[0m\n\u001b[0;32m   1174\u001b[0m     \u001b[1;32mdef\u001b[0m \u001b[0memit\u001b[0m\u001b[1;33m(\u001b[0m\u001b[0mself\u001b[0m\u001b[1;33m,\u001b[0m \u001b[0mrecord\u001b[0m\u001b[1;33m)\u001b[0m\u001b[1;33m:\u001b[0m\u001b[1;33m\u001b[0m\u001b[1;33m\u001b[0m\u001b[0m\n",
      "\u001b[1;31mFileNotFoundError\u001b[0m: [Errno 2] No such file or directory: 'D:\\\\lemon\\\\Python_Learn\\\\Day18\\\\log.log'"
     ]
    }
   ],
   "source": [
    "# -*- coding: utf-8 -*-\n",
    "# @Time: 2021/7/6 10:02\n",
    "# @Author: xueli\n",
    "# @File: logdemo01.py\n",
    "# 记录日志\n",
    "\n",
    "import logging\n",
    "from logging import handlers\n",
    "#logging.info('python')\n",
    "\n",
    "def handle_log():\n",
    "\n",
    "    #创建日志收集器\n",
    "    py_39=logging.getLogger(name='py39')\n",
    "\n",
    "    #创建日志收集渠道\n",
    "    #StreamHandle:放在控制台 FileHandle:文件\n",
    "    pycharm = logging.StreamHandler()\n",
    "    #filename可以传入绝对路径，确定日志文件存放地址\n",
    "    #file = logging.FileHandler(filename='py39.log',encoding='utf-8')\n",
    "\n",
    "    #设置文件大小进行日志拆分\n",
    "    file = handlers.RotatingFileHandler(filename=\"../Day18/log.log\", maxBytes=5, backupCount=5)\n",
    "    #根据时间来拆分日志\n",
    "    #when='M',interval=1,两者组合起来就意味着一分钟拆分一个\n",
    "    file2 = handlers.TimedRotatingFileHandler(filename='../Day18/wuhu.log', when='M', interval=1, encoding='utf-8')\n",
    "\n",
    "\n",
    "    #日志格式\n",
    "    formatter = '%(asctime)s %(name)s %(levelname)s %(filename)s %(funcName)s -[line:%(lineno)d]: %(message)s'\n",
    "    log_fmt = logging.Formatter(fmt = formatter)\n",
    "\n",
    "    #日志级别:收集器、渠道，可以不同的渠道输出日志级别不一样\n",
    "    py_39.setLevel(logging.DEBUG)\n",
    "    file.setLevel(logging.DEBUG)\n",
    "    file2.setLevel(logging.DEBUG)\n",
    "\n",
    "\n",
    "    # 给渠道添加日志格式\n",
    "    pycharm.setFormatter(fmt=log_fmt)\n",
    "    file.setFormatter(fmt=log_fmt)\n",
    "    file2.setFormatter(fmt=log_fmt)\n",
    "\n",
    "    #渠道\n",
    "    py_39.addHandler(pycharm)\n",
    "    py_39.addHandler(file)\n",
    "    py_39.addHandler(file2)\n",
    "\n",
    "\n",
    "    # py_39.info('output')\n",
    "    # py_39.debug(msg='output2')\n",
    "\n",
    "    return py_39\n",
    "\n",
    "my_logger=handle_log()"
   ]
  },
  {
   "cell_type": "code",
   "execution_count": 4,
   "id": "chinese-capacity",
   "metadata": {},
   "outputs": [
    {
     "ename": "ModuleNotFoundError",
     "evalue": "No module named 'Day19'",
     "output_type": "error",
     "traceback": [
      "\u001b[1;31m---------------------------------------------------------------------------\u001b[0m",
      "\u001b[1;31mModuleNotFoundError\u001b[0m                       Traceback (most recent call last)",
      "\u001b[1;32m<ipython-input-4-8bd45bbc5323>\u001b[0m in \u001b[0;36m<module>\u001b[1;34m\u001b[0m\n\u001b[0;32m      4\u001b[0m \u001b[1;31m# @File: logdemo02.py\u001b[0m\u001b[1;33m\u001b[0m\u001b[1;33m\u001b[0m\u001b[1;33m\u001b[0m\u001b[0m\n\u001b[0;32m      5\u001b[0m \u001b[1;33m\u001b[0m\u001b[0m\n\u001b[1;32m----> 6\u001b[1;33m \u001b[1;32mfrom\u001b[0m \u001b[0mDay19\u001b[0m\u001b[1;33m.\u001b[0m\u001b[0mlogdemo01\u001b[0m \u001b[1;32mimport\u001b[0m \u001b[0mmy_logger\u001b[0m\u001b[1;33m\u001b[0m\u001b[1;33m\u001b[0m\u001b[0m\n\u001b[0m\u001b[0;32m      7\u001b[0m \u001b[1;33m\u001b[0m\u001b[0m\n\u001b[0;32m      8\u001b[0m \u001b[0mmy_logger\u001b[0m\u001b[1;33m.\u001b[0m\u001b[0minfo\u001b[0m\u001b[1;33m(\u001b[0m\u001b[0mmsg\u001b[0m\u001b[1;33m=\u001b[0m\u001b[1;34m'haha'\u001b[0m\u001b[1;33m)\u001b[0m\u001b[1;33m\u001b[0m\u001b[1;33m\u001b[0m\u001b[0m\n",
      "\u001b[1;31mModuleNotFoundError\u001b[0m: No module named 'Day19'"
     ]
    }
   ],
   "source": [
    "# -*- coding: utf-8 -*-\n",
    "# @Time: 2021/7/8 17:22\n",
    "# @Author: xueli\n",
    "# @File: logdemo02.py\n",
    "\n",
    "from Day19.logdemo01 import my_logger\n",
    "\n",
    "my_logger.info(msg='haha')"
   ]
  },
  {
   "cell_type": "markdown",
   "id": "sacred-gathering",
   "metadata": {},
   "source": [
    "六、日志级别选择   \n",
    "一般程序正常运行产生的日志，info：给使用者看  \n",
    "调试、打断点，debug:给程序员自己看  \n",
    "七、日志使用\n"
   ]
  },
  {
   "cell_type": "code",
   "execution_count": null,
   "id": "weird-mandate",
   "metadata": {},
   "outputs": [],
   "source": [
    "#方法一：\n",
    "my_logger.info(msg='用例文件名称：{}'.format(file_path))  \n",
    "\n",
    "#方法二：\n",
    "my_logger.info(msg='用例文件名：')\n",
    "my_logger.info(msg=file_path)"
   ]
  }
 ],
 "metadata": {
  "kernelspec": {
   "display_name": "Python 3",
   "language": "python",
   "name": "python3"
  },
  "language_info": {
   "codemirror_mode": {
    "name": "ipython",
    "version": 3
   },
   "file_extension": ".py",
   "mimetype": "text/x-python",
   "name": "python",
   "nbconvert_exporter": "python",
   "pygments_lexer": "ipython3",
   "version": "3.8.0"
  }
 },
 "nbformat": 4,
 "nbformat_minor": 5
}
