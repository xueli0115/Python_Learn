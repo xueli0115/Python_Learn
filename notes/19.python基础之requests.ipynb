{
 "cells": [
  {
   "cell_type": "markdown",
   "id": "231d6537",
   "metadata": {},
   "source": [
    "#### requests\n",
    "\n",
    "一、接口概念理解\n",
    "1. 什么是接口：USB\n",
    "2. 作用：传递数据的通道\n",
    "\n",
    "二、鉴权\n",
    "1. session（cookie）\n",
    "2. token\n",
    "\n",
    "三、requests\n",
    "1. 安装：pip install requests\n",
    "2. 使用\n",
    "    1. http请求方法，request都支持\n",
    "    \n",
    "3. Content-Type\n",
    "    1. Content-Type:application/json;json格式编码\n",
    "    2. Content-Type:application/x-www-form-urlencode；表单\n",
    "    3. Content-Type：multipart/from-data  图片、文件\n",
    "    4. Content-Type;text/xml xml文本\n",
    "4. get请求"
   ]
  },
  {
   "cell_type": "code",
   "execution_count": null,
   "id": "a8b5970f",
   "metadata": {},
   "outputs": [],
   "source": [
    "#get请求方式一\n",
    "url_01 = 'http://httpbin.org/get?key1=val1&key2=val2'\n",
    "res_01 = requests.get(url = url_01)\n",
    "pprint(res_01.json())\n",
    "\n",
    "#get请求方式二\n",
    "url_02 = 'http://httpbin.org/get'\n",
    "data_02 = {'key1':'val1','key2':'val2'}\n",
    "res_02 = requests.get(url = url_02,params=data_02)\n",
    "pprint(res_02.json())\n"
   ]
  },
  {
   "cell_type": "markdown",
   "id": "fda24dd1",
   "metadata": {},
   "source": [
    "5. post请求\n",
    "    1. data\n",
    "        1. 默认使用'Content-Type':'application/x-www-form-urlencode'\n",
    "        2. 请求头指定了Content-Type类型，就会使用指定的类型\n",
    "    2. json\n",
    "        1. 默认使用'Content-Type':'application/json'\n",
    "        2. 请求头指定了Content-Type类型，就会使用指定的类型 "
   ]
  },
  {
   "cell_type": "code",
   "execution_count": null,
   "id": "d2cb974b",
   "metadata": {},
   "outputs": [],
   "source": [
    "#post请求方法一\n",
    "url_03 = 'http://httpbin.org/post'\n",
    "data_03 = {'key1':'val1','key2':'val2'}\n",
    "res_03 = requests.post (url = url_03,json=data_03)\n",
    "pprint(res_03.json())\n",
    "\n",
    "#post请求方法二\n",
    "header_03 ={'Content-Type':'application/form-data'}\n",
    "url_03 = 'http://httpbin.org/post'\n",
    "data_03 = {'key1':'val1','key2':'val2'}\n",
    "res_03 = requests.post (url = url_03,json=data_03,headers =header_03)\n",
    "pprint(res_03.json())"
   ]
  },
  {
   "cell_type": "markdown",
   "id": "49e5afe6",
   "metadata": {},
   "source": [
    "四、鉴权（第二个接口需要用到第一个接口中的cookie值）\n",
    "1. 方法一"
   ]
  },
  {
   "cell_type": "code",
   "execution_count": 1,
   "id": "b420eabe",
   "metadata": {},
   "outputs": [
    {
     "name": "stdout",
     "output_type": "stream",
     "text": [
      "{'isenterprise': 0,\n",
      " 'status': 1,\n",
      " 'token': 'MDAwMDAwMDAwMMurrpWavLehhs1-lrO5kZKEzXeUepuomcWmmqaMiHtnr5ylzYWosKKZq6HQxtOK0ZCme5p-haiZu2yrn4uNhJ3KedDYk7ivboS4jt2y34XYhM1_ln-gYW0',\n",
      " 'uid': 'MDAwMDAwMDAwMLScz5aHub-whaVyoQ',\n",
      " 'url': '/Main/index.html'}\n",
      "{'data': {'attestInfo': [],\n",
      "          'atteststate': 0,\n",
      "          'avatar': 'http://v4.ketangpai.com/Public/Common/img/40/40.png',\n",
      "          'email': '1605118090@qq.com',\n",
      "          'id': 'MDAwMDAwMDAwMLScz5aHub-whaVyoQ',\n",
      "          'stno': '10086',\n",
      "          'username': '海励',\n",
      "          'usertype': '0'},\n",
      " 'status': 1}\n"
     ]
    }
   ],
   "source": [
    "import requests\n",
    "import pprint\n",
    "\n",
    "#用session来鉴权\n",
    "login_url =\"https://v4.ketangpai.com/UserApi/login\"\n",
    "login_data = {'email':'1605118090@qq.com',\n",
    "              'password':'Aa123456',\n",
    "              'remember':0}\n",
    "response_login = requests.post(url = login_url,data = login_data)\n",
    "pprint.pprint(response_login.json())\n",
    "\n",
    "#获取cookie，session_id\n",
    "cookie = response_login.headers['Set-Cookie']\n",
    "\n",
    "user_url = 'https://v4.ketangpai.com/UserApi/getUserInfo'\n",
    "response_user = requests.get(url = user_url,headers = {'cookie':cookie})\n",
    "pprint.pprint(response_user.json())"
   ]
  },
  {
   "cell_type": "markdown",
   "id": "3d122d67",
   "metadata": {},
   "source": [
    "2. 方法二"
   ]
  },
  {
   "cell_type": "code",
   "execution_count": null,
   "id": "71dd254b",
   "metadata": {},
   "outputs": [],
   "source": [
    "import requests\n",
    "import pprint\n",
    "\n",
    "#先初始化一个session\n",
    "session = requests.session()\n",
    "\n",
    "\n",
    "login_url =\"https://v4.ketangpai.com/UserApi/login\"\n",
    "login_data = {'email':'1605118090@qq.com',\n",
    "              'password':'Aa123456',\n",
    "              'remember':0}\n",
    "response_login = session.post(url = login_url,data = login_data)\n",
    "pprint.pprint(response_login.json())\n",
    "\n",
    "user_url = 'https://v4.ketangpai.com/UserApi/getUserInfo'\n",
    "response_user = session.get(url = user_url)\n",
    "pprint.pprint(response_user.json())"
   ]
  },
  {
   "cell_type": "markdown",
   "id": "6ff720bb",
   "metadata": {},
   "source": [
    "五、获取信息\n",
    "1. 获取请求头：resopnse_user.request.headers\n",
    "2. 获取响应头：response_user.headers\n",
    "3. 获取响应码：response_user.status_code\n",
    "4. 获取cookie：response_user.cookies"
   ]
  },
  {
   "cell_type": "code",
   "execution_count": null,
   "id": "484dc9a6",
   "metadata": {},
   "outputs": [],
   "source": []
  },
  {
   "cell_type": "code",
   "execution_count": null,
   "id": "8aa3a0c1",
   "metadata": {},
   "outputs": [],
   "source": []
  }
 ],
 "metadata": {
  "kernelspec": {
   "display_name": "Python 3 (ipykernel)",
   "language": "python",
   "name": "python3"
  },
  "language_info": {
   "codemirror_mode": {
    "name": "ipython",
    "version": 3
   },
   "file_extension": ".py",
   "mimetype": "text/x-python",
   "name": "python",
   "nbconvert_exporter": "python",
   "pygments_lexer": "ipython3",
   "version": "3.8.10"
  }
 },
 "nbformat": 4,
 "nbformat_minor": 5
}
