{
 "cells": [
  {
   "cell_type": "markdown",
   "id": "forbidden-standard",
   "metadata": {},
   "source": [
    "#### 类和对象\n",
    "一、概念\n",
    "1. 什么是类  \n",
    "    类就是拥有相同属性和功能的对象的集合  \n",
    "    动物：猫、狗、鸡  \n",
    "    人：吃饭、睡觉、工作、赚钱   \n",
    "    命名：大驼峰\n",
    "2. 对象  \n",
    "    对象就是类的实体  \n",
    "3. 封装  \n",
    "    隐藏了对象的属性和实现细节，只是对外提供接口和或者入口\n",
    "4. 类的创建\n",
    "    class 类名称：\n",
    "    class 类名称（）：\n",
    "5. 类属性  \n",
    "    + 定义在类里面，在方法（函数）外面的属性，就叫类属性\n",
    "    + 类属性的访问：\n",
    "               类名称.类属性名称\n",
    "               类属性可以直接访问，不需要实例化\n",
    "6. 实例属性：\n",
    "    定义在__init__(初始化方法)中，self.xxx\n",
    "    创建、访问（实例）\n",
    "    访问：\n",
    "        在类里面：self.xxx\n",
    "        在类外面：类实例.名称\n",
    "7. __init__（初始化方法）:在类实例化的时候就会自动调用\n",
    "    self是实例本身，是个占位符，习惯写法self(见名知义)\n",
    "8. 类和类实例的区别：\n",
    "    类：一类事物的抽象\n",
    "    类实例：类事物的具体"
   ]
  },
  {
   "cell_type": "code",
   "execution_count": 6,
   "id": "attended-apparatus",
   "metadata": {},
   "outputs": [
    {
     "name": "stdout",
     "output_type": "stream",
     "text": [
      "www\n",
      "www 吃骨头\n",
      "www 会看家\n"
     ]
    }
   ],
   "source": [
    "class Dog:\n",
    "    #类属性\n",
    "    dog_name='www'\n",
    "    \n",
    "    #实例方法\n",
    "    def eat(self):\n",
    "        print(Dog.dog_name,\"吃骨头\")\n",
    "        \n",
    "    def protect_home(self):\n",
    "        print(Dog.dog_name,\"会看家\")\n",
    "        \n",
    "if __name__==\"__main__\":\n",
    "    print(Dog.dog_name)\n",
    "    #实例化 \n",
    "    first=Dog()\n",
    "    #类实例调用实例方法\n",
    "    first.eat()\n",
    "    first.protect_home()"
   ]
  },
  {
   "cell_type": "code",
   "execution_count": 7,
   "id": "eastern-intent",
   "metadata": {},
   "outputs": [
    {
     "name": "stdout",
     "output_type": "stream",
     "text": [
      "www\n",
      "www\n",
      "www 吃骨头\n",
      "狗的颜色： 黄色\n",
      "www 会看家\n",
      "www 吃骨头\n",
      "狗的颜色： 黄色\n"
     ]
    }
   ],
   "source": [
    "class Dog:\n",
    "    #类属性\n",
    "    dog_name='www'\n",
    "    \n",
    "    #self表示类本身，相当于占位符\n",
    "    def __init__(self):\n",
    "        self.color='黄色'\n",
    "        \n",
    "    #实例方法\n",
    "    def eat(self):\n",
    "        print(Dog.dog_name,\"吃骨头\")\n",
    "        print(\"狗的颜色：\",self.color)\n",
    "        \n",
    "    def protect_home(self):\n",
    "        print(Dog.dog_name,\"会看家\")\n",
    "        self.eat()\n",
    "        \n",
    "if __name__==\"__main__\":\n",
    "    print(Dog.dog_name)\n",
    "    \n",
    "    #实例化 \n",
    "    first=Dog()\n",
    "    print(first.dog_name)\n",
    "    \n",
    "    #类实例调用实例方法\n",
    "    first.eat()\n",
    "    first.protect_home()"
   ]
  },
  {
   "cell_type": "markdown",
   "id": "comic-genesis",
   "metadata": {},
   "source": [
    "二、私有属性  \n",
    "1. 定义：不是所有的属性都可以被外部访问，不能被外部访问的属性叫做私有属性\n",
    "2. 创建：双下划线开头\n",
    "\n",
    "\n",
    "函数调用拓展：\n",
    "1. 函数名称（）\n",
    "2. 在类的内部，self.函数名称（）\n",
    "3. 在类的外面，类实例.函数名称（）==类（）.函数名称（）"
   ]
  },
  {
   "cell_type": "code",
   "execution_count": 8,
   "id": "consecutive-recycling",
   "metadata": {},
   "outputs": [
    {
     "name": "stdout",
     "output_type": "stream",
     "text": [
      "www\n",
      "www\n",
      "www 吃骨头\n",
      "狗的颜色： 黄色\n",
      "类的私有属性： 公\n",
      "www 会看家\n",
      "www 吃骨头\n",
      "狗的颜色： 黄色\n",
      "类的私有属性： 公\n"
     ]
    }
   ],
   "source": [
    "class Dog:\n",
    "    #类的私有属性\n",
    "    __dog_sex='公'\n",
    "    \n",
    "    dog_name='www'\n",
    "    \n",
    "    #self表示类本身，相当于占位符\n",
    "    def __init__(self):\n",
    "        self.color='黄色'\n",
    "        \n",
    "        #实例的私有属性\n",
    "        self.__kind=\"柯基\"\n",
    "        \n",
    "    #实例方法\n",
    "    def eat(self):\n",
    "        print(Dog.dog_name,\"吃骨头\")\n",
    "        print(\"狗的颜色：\",self.color)\n",
    "        print(\"类的私有属性：\",Dog.__dog_sex)\n",
    "        \n",
    "    def protect_home(self):\n",
    "        print(Dog.dog_name,\"会看家\")\n",
    "        self.eat()\n",
    "        \n",
    "if __name__==\"__main__\":\n",
    "    print(Dog.dog_name)\n",
    "    \n",
    "    #实例化 \n",
    "    first=Dog()\n",
    "    print(first.dog_name)\n",
    "    \n",
    "    #类实例调用实例方法\n",
    "    first.eat()\n",
    "    first.protect_home()"
   ]
  },
  {
   "cell_type": "markdown",
   "id": "separated-thompson",
   "metadata": {},
   "source": [
    "三、类的特性\n",
    "1. 继承：  \n",
    "    概念：子类继承父类之后，就会拥有父类的属性和方法（私有属性和私有方法不可以被继承）\n",
    "    语法：class test02(Test01):\n",
    "        Test01是父类\n",
    "        test02是子类\n",
    "     调用父类方法：\n",
    "         1. self.方法名称（）\n",
    "         2. super():用来调用父类的方法\n",
    "2. 多继承"
   ]
  },
  {
   "cell_type": "code",
   "execution_count": 9,
   "id": "trying-municipality",
   "metadata": {},
   "outputs": [
    {
     "name": "stdout",
     "output_type": "stream",
     "text": [
      "小狗正常情况下： 活着\n",
      "恰饭\n"
     ]
    }
   ],
   "source": [
    "# 父类\n",
    "class animal:\n",
    "\n",
    "    def __init__(self):\n",
    "        self.life = '活着'\n",
    "        print('正常情况下：', self.life)\n",
    "\n",
    "    def eat(self):\n",
    "        print(\"恰饭\")\n",
    "\n",
    "\n",
    "# 子类\n",
    "class dog(animal):\n",
    "\n",
    "    def __init__(self):\n",
    "        self.name = '小狗'\n",
    "        print(self.name, end='')\n",
    "        super().__init__()\n",
    "        self.eat()\n",
    "\n",
    "\n",
    "if __name__ == \"__main__\":\n",
    "    dog()"
   ]
  },
  {
   "cell_type": "code",
   "execution_count": null,
   "id": "piano-farming",
   "metadata": {},
   "outputs": [],
   "source": []
  }
 ],
 "metadata": {
  "kernelspec": {
   "display_name": "Python 3",
   "language": "python",
   "name": "python3"
  },
  "language_info": {
   "codemirror_mode": {
    "name": "ipython",
    "version": 3
   },
   "file_extension": ".py",
   "mimetype": "text/x-python",
   "name": "python",
   "nbconvert_exporter": "python",
   "pygments_lexer": "ipython3",
   "version": "3.8.0"
  }
 },
 "nbformat": 4,
 "nbformat_minor": 5
}
