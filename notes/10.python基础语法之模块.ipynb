{
 "cells": [
  {
   "cell_type": "markdown",
   "id": "brief-intermediate",
   "metadata": {},
   "source": [
    "#### 模块\n",
    "一、 概念\n",
    "1. 模块  \n",
    "    .py文件， .pyc文件\n",
    "2. 包    \n",
    "    __init__.py \n",
    "    \n",
    "二、模块导入  \n",
    "1. 分类  \n",
    "    自定义的、第三方库、python自带\n",
    "2. 导入方式  \n",
    "    + import 模块名\n",
    "        - 导入的是py文件\n",
    "        \n",
    "    + from 模块名 import 类、变量、函数\n",
    "    + from 模块名 import *\n",
    "    + from 项目名.包.py文件名称 import类、变量、函数\n",
    "3. 查看python默认找包的目录  \n",
    "```\n",
    "import sys\n",
    "print(sys.path)\n",
    "```\n",
    "\n",
    "三、 os模块 路径处理  \n",
    "(一）、路径的获取  \n",
    "1. res_path=os.path.dirname(__file__):返回当前文件所在的路径（绝对路径）\n",
    "2. res_path=os.path.abspath('demo1002.py'):返回指定文件的绝对路径\n",
    "3. res_path=os.getcwd:返回当前进程的工作目录（相当于Linux中的pwd）"
   ]
  },
  {
   "cell_type": "code",
   "execution_count": 3,
   "id": "valuable-advocate",
   "metadata": {
    "collapsed": true
   },
   "outputs": [
    {
     "ename": "NameError",
     "evalue": "name '__file__' is not defined",
     "output_type": "error",
     "traceback": [
      "\u001b[1;31m---------------------------------------------------------------------------\u001b[0m",
      "\u001b[1;31mNameError\u001b[0m                                 Traceback (most recent call last)",
      "\u001b[1;32m<ipython-input-3-6cc34c9527fa>\u001b[0m in \u001b[0;36m<module>\u001b[1;34m\u001b[0m\n\u001b[0;32m      3\u001b[0m \u001b[1;33m\u001b[0m\u001b[0m\n\u001b[0;32m      4\u001b[0m \u001b[1;31m# 返回当前文件所在的路径（绝对路径）\u001b[0m\u001b[1;33m\u001b[0m\u001b[1;33m\u001b[0m\u001b[1;33m\u001b[0m\u001b[0m\n\u001b[1;32m----> 5\u001b[1;33m \u001b[0mres_path\u001b[0m\u001b[1;33m=\u001b[0m\u001b[0mos\u001b[0m\u001b[1;33m.\u001b[0m\u001b[0mpath\u001b[0m\u001b[1;33m.\u001b[0m\u001b[0mdirname\u001b[0m\u001b[1;33m(\u001b[0m\u001b[0m__file__\u001b[0m\u001b[1;33m)\u001b[0m\u001b[1;33m\u001b[0m\u001b[1;33m\u001b[0m\u001b[0m\n\u001b[0m\u001b[0;32m      6\u001b[0m \u001b[0mprint\u001b[0m\u001b[1;33m(\u001b[0m\u001b[0mres_path\u001b[0m\u001b[1;33m)\u001b[0m\u001b[1;33m\u001b[0m\u001b[1;33m\u001b[0m\u001b[0m\n",
      "\u001b[1;31mNameError\u001b[0m: name '__file__' is not defined"
     ]
    }
   ],
   "source": [
    "import os\n",
    "res_path=os.path.abspath('demo1002.py')\n",
    "print(res_path)\n",
    "\n",
    "# 返回当前文件所在的路径（绝对路径）\n",
    "res_path=os.path.dirname(__file__)\n",
    "print(res_path)\n",
    "\n",
    "#返回当前进程的工作目录（相当于Linux中的pwd）\n",
    "res_path=os.getcwd()\n",
    "print(res_path)"
   ]
  },
  {
   "cell_type": "markdown",
   "id": "minus-gather",
   "metadata": {},
   "source": [
    "（二）、路径的拼接\n",
    "1. 不加斜杠，会自动生成的拼接：os.path.join(path1,path2,path3)\n",
    "2. 手动加斜杠（\\）,需要转义\n",
    "3. 手动加斜杠在路径前面，会找到\\开始的路径开始拼接，前面的路径会丢弃,如果有多个斜杠，会从最后一个斜杠开始拼接"
   ]
  },
  {
   "cell_type": "code",
   "execution_count": 7,
   "id": "further-dating",
   "metadata": {},
   "outputs": [
    {
     "name": "stdout",
     "output_type": "stream",
     "text": [
      "api\\test\\login.html\n",
      "api\\test\\login.html\n",
      "\\test\\login.html\n"
     ]
    }
   ],
   "source": [
    "import os\n",
    "path1='api'\n",
    "path2='test'\n",
    "path3='login.html'\n",
    "res_path=os.path.join(path1,path2,path3)\n",
    "print(res_path)\n",
    "\n",
    "#手动加斜杠\n",
    "path1='api\\\\'\n",
    "path2='test\\\\'\n",
    "path3='login.html'\n",
    "res_path=os.path.join(path1,path2,path3)\n",
    "print(res_path)\n",
    "\n",
    "\n",
    "#手动加斜杠在路径前面，会找到\\开始的路径开始拼接，前面的路径会丢弃\n",
    "path1='api'\n",
    "path2=r'\\test'\n",
    "path3='login.html'\n",
    "res_path=os.path.join(path1,path2,path3)\n",
    "print(res_path)"
   ]
  },
  {
   "cell_type": "markdown",
   "id": "intensive-sandwich",
   "metadata": {},
   "source": [
    "（三）、目录切换\n",
    "1. os.chdir(path)\n",
    "2. os.redir(path)  \n",
    "(四）、魔术方法  \n",
    "1. /__file__: 获取运行方法或文件的绝对路径\n",
    "2. __name__：获取函数名称\n",
    "3. __doc__:获取函数的注释（多行注释）\n",
    "4. __dict__:获取对象的所有属性"
   ]
  },
  {
   "cell_type": "code",
   "execution_count": 3,
   "id": "short-scenario",
   "metadata": {
    "collapsed": true
   },
   "outputs": [
    {
     "name": "stdout",
     "output_type": "stream",
     "text": [
      "c:\\users\\xueli\\appdata\\local\\programs\\python\\python38\\lib\\os.py\n",
      "os\n",
      "OS routines for NT or Posix depending on what system we're on.\n",
      "\n",
      "This exports:\n",
      "  - all functions from posix or nt, e.g. unlink, stat, etc.\n",
      "  - os.path is either posixpath or ntpath\n",
      "  - os.name is either 'posix' or 'nt'\n",
      "  - os.curdir is a string representing the current directory (always '.')\n",
      "  - os.pardir is a string representing the parent directory (always '..')\n",
      "  - os.sep is the (or a most common) pathname separator ('/' or '\\\\')\n",
      "  - os.extsep is the extension separator (always '.')\n",
      "  - os.altsep is the alternate pathname separator (None or '/')\n",
      "  - os.pathsep is the component separator used in $PATH etc\n",
      "  - os.linesep is the line separator in text files ('\\r' or '\\n' or '\\r\\n')\n",
      "  - os.defpath is the default search path for executables\n",
      "  - os.devnull is the file path of the null device ('/dev/null', etc.)\n",
      "\n",
      "Programs that import and use 'os' stand a better chance of being\n",
      "portable between different platforms.  Of course, they must then\n",
      "only use functions that are defined by all platforms (e.g., unlink\n",
      "and opendir), and leave all pathname manipulation to os.path\n",
      "(e.g., split and join).\n",
      "\n",
      "{'__name__': 'os', '__doc__': \"OS routines for NT or Posix depending on what system we're on.\\n\\nThis exports:\\n  - all functions from posix or nt, e.g. unlink, stat, etc.\\n  - os.path is either posixpath or ntpath\\n  - os.name is either 'posix' or 'nt'\\n  - os.curdir is a string representing the current directory (always '.')\\n  - os.pardir is a string representing the parent directory (always '..')\\n  - os.sep is the (or a most common) pathname separator ('/' or '\\\\\\\\')\\n  - os.extsep is the extension separator (always '.')\\n  - os.altsep is the alternate pathname separator (None or '/')\\n  - os.pathsep is the component separator used in $PATH etc\\n  - os.linesep is the line separator in text files ('\\\\r' or '\\\\n' or '\\\\r\\\\n')\\n  - os.defpath is the default search path for executables\\n  - os.devnull is the file path of the null device ('/dev/null', etc.)\\n\\nPrograms that import and use 'os' stand a better chance of being\\nportable between different platforms.  Of course, they must then\\nonly use functions that are defined by all platforms (e.g., unlink\\nand opendir), and leave all pathname manipulation to os.path\\n(e.g., split and join).\\n\", '__package__': '', '__loader__': <_frozen_importlib_external.SourceFileLoader object at 0x0000028F0E014880>, '__spec__': ModuleSpec(name='os', loader=<_frozen_importlib_external.SourceFileLoader object at 0x0000028F0E014880>, origin='c:\\\\users\\\\xueli\\\\appdata\\\\local\\\\programs\\\\python\\\\python38\\\\lib\\\\os.py'), '__file__': 'c:\\\\users\\\\xueli\\\\appdata\\\\local\\\\programs\\\\python\\\\python38\\\\lib\\\\os.py', '__cached__': 'c:\\\\users\\\\xueli\\\\appdata\\\\local\\\\programs\\\\python\\\\python38\\\\lib\\\\__pycache__\\\\os.cpython-38.pyc', '__builtins__': {'__name__': 'builtins', '__doc__': \"Built-in functions, exceptions, and other objects.\\n\\nNoteworthy: None is the `nil' object; Ellipsis represents `...' in slices.\", '__package__': '', '__loader__': <class '_frozen_importlib.BuiltinImporter'>, '__spec__': ModuleSpec(name='builtins', loader=<class '_frozen_importlib.BuiltinImporter'>), '__build_class__': <built-in function __build_class__>, '__import__': <built-in function __import__>, 'abs': <built-in function abs>, 'all': <built-in function all>, 'any': <built-in function any>, 'ascii': <built-in function ascii>, 'bin': <built-in function bin>, 'breakpoint': <built-in function breakpoint>, 'callable': <built-in function callable>, 'chr': <built-in function chr>, 'compile': <built-in function compile>, 'delattr': <built-in function delattr>, 'dir': <built-in function dir>, 'divmod': <built-in function divmod>, 'eval': <built-in function eval>, 'exec': <built-in function exec>, 'format': <built-in function format>, 'getattr': <built-in function getattr>, 'globals': <built-in function globals>, 'hasattr': <built-in function hasattr>, 'hash': <built-in function hash>, 'hex': <built-in function hex>, 'id': <built-in function id>, 'input': <bound method Kernel.raw_input of <ipykernel.ipkernel.IPythonKernel object at 0x0000028F122FA6A0>>, 'isinstance': <built-in function isinstance>, 'issubclass': <built-in function issubclass>, 'iter': <built-in function iter>, 'len': <built-in function len>, 'locals': <built-in function locals>, 'max': <built-in function max>, 'min': <built-in function min>, 'next': <built-in function next>, 'oct': <built-in function oct>, 'ord': <built-in function ord>, 'pow': <built-in function pow>, 'print': <built-in function print>, 'repr': <built-in function repr>, 'round': <built-in function round>, 'setattr': <built-in function setattr>, 'sorted': <built-in function sorted>, 'sum': <built-in function sum>, 'vars': <built-in function vars>, 'None': None, 'Ellipsis': Ellipsis, 'NotImplemented': NotImplemented, 'False': False, 'True': True, 'bool': <class 'bool'>, 'memoryview': <class 'memoryview'>, 'bytearray': <class 'bytearray'>, 'bytes': <class 'bytes'>, 'classmethod': <class 'classmethod'>, 'complex': <class 'complex'>, 'dict': <class 'dict'>, 'enumerate': <class 'enumerate'>, 'filter': <class 'filter'>, 'float': <class 'float'>, 'frozenset': <class 'frozenset'>, 'property': <class 'property'>, 'int': <class 'int'>, 'list': <class 'list'>, 'map': <class 'map'>, 'object': <class 'object'>, 'range': <class 'range'>, 'reversed': <class 'reversed'>, 'set': <class 'set'>, 'slice': <class 'slice'>, 'staticmethod': <class 'staticmethod'>, 'str': <class 'str'>, 'super': <class 'super'>, 'tuple': <class 'tuple'>, 'type': <class 'type'>, 'zip': <class 'zip'>, '__debug__': True, 'BaseException': <class 'BaseException'>, 'Exception': <class 'Exception'>, 'TypeError': <class 'TypeError'>, 'StopAsyncIteration': <class 'StopAsyncIteration'>, 'StopIteration': <class 'StopIteration'>, 'GeneratorExit': <class 'GeneratorExit'>, 'SystemExit': <class 'SystemExit'>, 'KeyboardInterrupt': <class 'KeyboardInterrupt'>, 'ImportError': <class 'ImportError'>, 'ModuleNotFoundError': <class 'ModuleNotFoundError'>, 'OSError': <class 'OSError'>, 'EnvironmentError': <class 'OSError'>, 'IOError': <class 'OSError'>, 'WindowsError': <class 'OSError'>, 'EOFError': <class 'EOFError'>, 'RuntimeError': <class 'RuntimeError'>, 'RecursionError': <class 'RecursionError'>, 'NotImplementedError': <class 'NotImplementedError'>, 'NameError': <class 'NameError'>, 'UnboundLocalError': <class 'UnboundLocalError'>, 'AttributeError': <class 'AttributeError'>, 'SyntaxError': <class 'SyntaxError'>, 'IndentationError': <class 'IndentationError'>, 'TabError': <class 'TabError'>, 'LookupError': <class 'LookupError'>, 'IndexError': <class 'IndexError'>, 'KeyError': <class 'KeyError'>, 'ValueError': <class 'ValueError'>, 'UnicodeError': <class 'UnicodeError'>, 'UnicodeEncodeError': <class 'UnicodeEncodeError'>, 'UnicodeDecodeError': <class 'UnicodeDecodeError'>, 'UnicodeTranslateError': <class 'UnicodeTranslateError'>, 'AssertionError': <class 'AssertionError'>, 'ArithmeticError': <class 'ArithmeticError'>, 'FloatingPointError': <class 'FloatingPointError'>, 'OverflowError': <class 'OverflowError'>, 'ZeroDivisionError': <class 'ZeroDivisionError'>, 'SystemError': <class 'SystemError'>, 'ReferenceError': <class 'ReferenceError'>, 'MemoryError': <class 'MemoryError'>, 'BufferError': <class 'BufferError'>, 'Warning': <class 'Warning'>, 'UserWarning': <class 'UserWarning'>, 'DeprecationWarning': <class 'DeprecationWarning'>, 'PendingDeprecationWarning': <class 'PendingDeprecationWarning'>, 'SyntaxWarning': <class 'SyntaxWarning'>, 'RuntimeWarning': <class 'RuntimeWarning'>, 'FutureWarning': <class 'FutureWarning'>, 'ImportWarning': <class 'ImportWarning'>, 'UnicodeWarning': <class 'UnicodeWarning'>, 'BytesWarning': <class 'BytesWarning'>, 'ResourceWarning': <class 'ResourceWarning'>, 'ConnectionError': <class 'ConnectionError'>, 'BlockingIOError': <class 'BlockingIOError'>, 'BrokenPipeError': <class 'BrokenPipeError'>, 'ChildProcessError': <class 'ChildProcessError'>, 'ConnectionAbortedError': <class 'ConnectionAbortedError'>, 'ConnectionRefusedError': <class 'ConnectionRefusedError'>, 'ConnectionResetError': <class 'ConnectionResetError'>, 'FileExistsError': <class 'FileExistsError'>, 'FileNotFoundError': <class 'FileNotFoundError'>, 'IsADirectoryError': <class 'IsADirectoryError'>, 'NotADirectoryError': <class 'NotADirectoryError'>, 'InterruptedError': <class 'InterruptedError'>, 'PermissionError': <class 'PermissionError'>, 'ProcessLookupError': <class 'ProcessLookupError'>, 'TimeoutError': <class 'TimeoutError'>, 'open': <built-in function open>, 'copyright': Copyright (c) 2001-2019 Python Software Foundation.\n",
      "All Rights Reserved.\n",
      "\n",
      "Copyright (c) 2000 BeOpen.com.\n",
      "All Rights Reserved.\n",
      "\n",
      "Copyright (c) 1995-2001 Corporation for National Research Initiatives.\n",
      "All Rights Reserved.\n",
      "\n",
      "Copyright (c) 1991-1995 Stichting Mathematisch Centrum, Amsterdam.\n",
      "All Rights Reserved., 'credits':     Thanks to CWI, CNRI, BeOpen.com, Zope Corporation and a cast of thousands\n",
      "    for supporting Python development.  See www.python.org for more information., 'license': Type license() to see the full license text, 'help': Type help() for interactive help, or help(object) for help about object., '__IPYTHON__': True, 'display': <function display at 0x0000028F10523550>, 'get_ipython': <bound method InteractiveShell.get_ipython of <ipykernel.zmqshell.ZMQInteractiveShell object at 0x0000028F122FA220>>}, 'abc': <module 'abc' from 'c:\\\\users\\\\xueli\\\\appdata\\\\local\\\\programs\\\\python\\\\python38\\\\lib\\\\abc.py'>, 'sys': <module 'sys' (built-in)>, 'st': <module 'stat' from 'c:\\\\users\\\\xueli\\\\appdata\\\\local\\\\programs\\\\python\\\\python38\\\\lib\\\\stat.py'>, '__all__': ['altsep', 'curdir', 'pardir', 'sep', 'pathsep', 'linesep', 'defpath', 'name', 'path', 'devnull', 'SEEK_SET', 'SEEK_CUR', 'SEEK_END', 'fsencode', 'fsdecode', 'get_exec_path', 'fdopen', 'popen', 'extsep', '_exit', 'DirEntry', 'F_OK', 'O_APPEND', 'O_BINARY', 'O_CREAT', 'O_EXCL', 'O_NOINHERIT', 'O_RANDOM', 'O_RDONLY', 'O_RDWR', 'O_SEQUENTIAL', 'O_SHORT_LIVED', 'O_TEMPORARY', 'O_TEXT', 'O_TRUNC', 'O_WRONLY', 'P_DETACH', 'P_NOWAIT', 'P_NOWAITO', 'P_OVERLAY', 'P_WAIT', 'R_OK', 'TMP_MAX', 'W_OK', 'X_OK', 'abort', 'access', 'chdir', 'chmod', 'close', 'closerange', 'cpu_count', 'device_encoding', 'dup', 'dup2', 'environ', 'error', 'execv', 'execve', 'fspath', 'fstat', 'fsync', 'ftruncate', 'get_handle_inheritable', 'get_inheritable', 'get_terminal_size', 'getcwd', 'getcwdb', 'getlogin', 'getpid', 'getppid', 'isatty', 'kill', 'link', 'listdir', 'lseek', 'lstat', 'mkdir', 'open', 'pipe', 'putenv', 'read', 'readlink', 'remove', 'rename', 'replace', 'rmdir', 'scandir', 'set_handle_inheritable', 'set_inheritable', 'spawnv', 'spawnve', 'startfile', 'stat', 'stat_result', 'statvfs_result', 'strerror', 'symlink', 'system', 'terminal_size', 'times', 'times_result', 'truncate', 'umask', 'uname_result', 'unlink', 'urandom', 'utime', 'waitpid', 'write', 'makedirs', 'removedirs', 'renames', 'walk', 'execl', 'execle', 'execlp', 'execlpe', 'execvp', 'execvpe', 'getenv', 'supports_bytes_environ', 'spawnl', 'spawnle'], '_exists': <function _exists at 0x0000028F0E00FE50>, '_get_exports_list': <function _get_exports_list at 0x0000028F0E025AF0>, 'name': 'nt', 'linesep': '\\r\\n', 'stat': <built-in function stat>, 'access': <built-in function access>, 'chdir': <built-in function chdir>, 'chmod': <built-in function chmod>, 'getcwd': <built-in function getcwd>, 'getcwdb': <built-in function getcwdb>, 'link': <built-in function link>, 'listdir': <built-in function listdir>, 'lstat': <built-in function lstat>, 'mkdir': <built-in function mkdir>, 'readlink': <built-in function readlink>, 'rename': <built-in function rename>, 'replace': <built-in function replace>, 'rmdir': <built-in function rmdir>, 'symlink': <built-in function symlink>, 'system': <built-in function system>, 'umask': <built-in function umask>, 'unlink': <built-in function unlink>, 'remove': <built-in function remove>, 'utime': <built-in function utime>, 'times': <built-in function times>, 'execv': <built-in function execv>, 'execve': <built-in function execve>, 'spawnv': <built-in function spawnv>, 'spawnve': <built-in function spawnve>, 'getpid': <built-in function getpid>, 'getppid': <built-in function getppid>, 'getlogin': <built-in function getlogin>, 'kill': <built-in function kill>, 'startfile': <built-in function startfile>, 'waitpid': <built-in function waitpid>, 'open': <built-in function open>, 'close': <built-in function close>, 'closerange': <built-in function closerange>, 'device_encoding': <built-in function device_encoding>, 'dup': <built-in function dup>, 'dup2': <built-in function dup2>, 'lseek': <built-in function lseek>, 'read': <built-in function read>, 'write': <built-in function write>, 'fstat': <built-in function fstat>, 'isatty': <built-in function isatty>, 'pipe': <built-in function pipe>, 'ftruncate': <built-in function ftruncate>, 'truncate': <built-in function truncate>, 'putenv': <built-in function putenv>, 'strerror': <built-in function strerror>, 'fsync': <built-in function fsync>, 'abort': <built-in function abort>, 'urandom': <built-in function urandom>, 'get_terminal_size': <built-in function get_terminal_size>, 'cpu_count': <built-in function cpu_count>, 'get_inheritable': <built-in function get_inheritable>, 'set_inheritable': <built-in function set_inheritable>, 'get_handle_inheritable': <built-in function get_handle_inheritable>, 'set_handle_inheritable': <built-in function set_handle_inheritable>, 'scandir': <built-in function scandir>, 'fspath': <built-in function fspath>, 'environ': environ({'ALLUSERSPROFILE': 'C:\\\\ProgramData', 'APPDATA': 'C:\\\\Users\\\\Xueli\\\\AppData\\\\Roaming', 'CLASSPATH': '.;C:\\\\Program Files\\\\Java\\\\jdk1.8.0_112\\\\\\\\lib\\\\dt.jar;', 'COMMONPROGRAMFILES': 'C:\\\\Program Files\\\\Common Files', 'COMMONPROGRAMFILES(X86)': 'C:\\\\Program Files (x86)\\\\Common Files', 'COMMONPROGRAMW6432': 'C:\\\\Program Files\\\\Common Files', 'COMPUTERNAME': 'XUELIPC', 'COMSPEC': 'C:\\\\Windows\\\\system32\\\\cmd.exe', 'DRIVERDATA': 'C:\\\\Windows\\\\System32\\\\Drivers\\\\DriverData', 'FPS_BROWSER_APP_PROFILE_STRING': 'Internet Explorer', 'FPS_BROWSER_USER_PROFILE_STRING': 'Default', 'HOMEDRIVE': 'C:', 'HOMEPATH': '\\\\Users\\\\Xueli', 'INTELLIJ IDEA': 'D:\\\\program\\\\IntelliJ IDEA 2019.3\\\\bin;', 'JAVA_HOME': 'C:\\\\Program Files\\\\Java\\\\jdk1.8.0_112\\\\', 'JMETER_HOME': 'D:\\\\program file\\\\apache-jmeter-3.3', 'LOCALAPPDATA': 'C:\\\\Users\\\\Xueli\\\\AppData\\\\Local', 'LOGONSERVER': '\\\\\\\\XUELIPC', 'NUMBER_OF_PROCESSORS': '16', 'ONEDRIVE': 'C:\\\\Users\\\\Xueli\\\\OneDrive', 'ONEDRIVECONSUMER': 'C:\\\\Users\\\\Xueli\\\\OneDrive', 'OS': 'Windows_NT', 'PATH': 'C:\\\\Program Files (x86)\\\\Common Files\\\\Oracle\\\\Java\\\\javapath;C:\\\\Program Files\\\\Common Files\\\\Oracle\\\\Java\\\\javapath;C:\\\\Windows\\\\system32;C:\\\\Windows;C:\\\\Windows\\\\System32\\\\Wbem;C:\\\\Windows\\\\System32\\\\WindowsPowerShell\\\\v1.0\\\\;C:\\\\Windows\\\\System32\\\\OpenSSH\\\\;\"C:\\\\Program Files\\\\Java\\\\jdk1.8.0_112\\\\\\\\bin;\";\"C:\\\\Program Files\\\\Java\\\\jdk1.8.0_112\\\\\\\\jre\\\\bin;\";D:\\\\program\\\\Git\\\\cmd;C:\\\\Users\\\\Xueli\\\\AppData\\\\Local\\\\Programs\\\\Python\\\\Python38\\\\Scripts\\\\;C:\\\\Users\\\\Xueli\\\\AppData\\\\Local\\\\Programs\\\\Python\\\\Python38\\\\;C:\\\\Users\\\\Xueli\\\\AppData\\\\Local\\\\Microsoft\\\\WindowsApps;\"C:\\\\Program Files\\\\Java\\\\jdk1.8.0_112\\\\\\\\lib\\\\dt.jar;\";\"D:\\\\program file\\\\apache-jmeter-3.3\\\\lib\\\\logkit-2.0.jar;\";\"D:\\\\program file\\\\apache-jmeter-3.3\\\\lib\\\\jorphan.jar;\";\"D:\\\\program file\\\\apache-jmeter-3.3\\\\lib\\\\ext\\\\ApacheJMeter_core.jar;\";D:\\\\program\\\\PyCharm Community Edition 2020.2.3\\\\bin;;D:\\\\program file\\\\mysql-5.7.30-winx64\\\\bin;;D:\\\\program\\\\IntelliJ IDEA 2019.3\\\\bin;;D:\\\\program\\\\Fiddler', 'PATHEXT': '.COM;.EXE;.BAT;.CMD;.VBS;.VBE;.JS;.JSE;.WSF;.WSH;.MSC', 'PROCESSOR_ARCHITECTURE': 'AMD64', 'PROCESSOR_IDENTIFIER': 'AMD64 Family 23 Model 96 Stepping 1, AuthenticAMD', 'PROCESSOR_LEVEL': '23', 'PROCESSOR_REVISION': '6001', 'PROGRAMDATA': 'C:\\\\ProgramData', 'PROGRAMFILES': 'C:\\\\Program Files', 'PROGRAMFILES(X86)': 'C:\\\\Program Files (x86)', 'PROGRAMW6432': 'C:\\\\Program Files', 'PROMPT': '$P$G', 'PSMODULEPATH': 'C:\\\\Program Files\\\\WindowsPowerShell\\\\Modules;C:\\\\Windows\\\\system32\\\\WindowsPowerShell\\\\v1.0\\\\Modules', 'PUBLIC': 'C:\\\\Users\\\\Public', 'PYCHARM COMMUNITY EDITION': 'D:\\\\program\\\\PyCharm Community Edition 2020.2.3\\\\bin;', 'SESSIONNAME': 'Console', 'SYSTEMDRIVE': 'C:', 'SYSTEMROOT': 'C:\\\\Windows', 'TEMP': 'C:\\\\Users\\\\Xueli\\\\AppData\\\\Local\\\\Temp', 'TMP': 'C:\\\\Users\\\\Xueli\\\\AppData\\\\Local\\\\Temp', 'USERDOMAIN': 'XUELIPC', 'USERDOMAIN_ROAMINGPROFILE': 'XUELIPC', 'USERNAME': 'Xueli', 'USERPROFILE': 'C:\\\\Users\\\\Xueli', 'WINDIR': 'C:\\\\Windows', 'WXDRIVE_START_ARGS': '--wxdrive-setting=0 --disable-gpu --disable-software-rasterizer --enable-features=NetworkServiceInProcess', 'JPY_INTERRUPT_EVENT': '2240', 'IPY_INTERRUPT_EVENT': '2240', 'JPY_PARENT_PID': '2244', 'TERM': 'xterm-color', 'CLICOLOR': '1', 'PAGER': 'cat', 'GIT_PAGER': 'cat', 'MPLBACKEND': 'module://ipykernel.pylab.backend_inline'}), 'F_OK': 0, 'R_OK': 4, 'W_OK': 2, 'X_OK': 1, 'TMP_MAX': 2147483647, 'O_RDONLY': 0, 'O_WRONLY': 1, 'O_RDWR': 2, 'O_APPEND': 8, 'O_CREAT': 256, 'O_EXCL': 1024, 'O_TRUNC': 512, 'O_BINARY': 32768, 'O_TEXT': 16384, 'O_NOINHERIT': 128, 'O_SHORT_LIVED': 4096, 'O_TEMPORARY': 64, 'O_RANDOM': 16, 'O_SEQUENTIAL': 32, 'P_WAIT': 0, 'P_NOWAIT': 1, 'P_NOWAITO': 3, 'P_OVERLAY': 2, 'P_DETACH': 4, 'error': <class 'OSError'>, 'stat_result': <class 'os.stat_result'>, 'statvfs_result': <class 'os.statvfs_result'>, 'times_result': <class 'nt.times_result'>, 'uname_result': <class 'nt.uname_result'>, 'terminal_size': <class 'os.terminal_size'>, 'DirEntry': <class 'nt.DirEntry'>, '_exit': <built-in function _exit>, 'path': <module 'ntpath' from 'c:\\\\users\\\\xueli\\\\appdata\\\\local\\\\programs\\\\python\\\\python38\\\\lib\\\\ntpath.py'>, 'curdir': '.', 'pardir': '..', 'sep': '\\\\', 'pathsep': ';', 'defpath': '.;C:\\\\bin', 'extsep': '.', 'altsep': '/', 'devnull': 'nul', 'supports_dir_fd': set(), 'supports_effective_ids': set(), 'supports_fd': {<built-in function stat>, <built-in function truncate>}, 'supports_follow_symlinks': {<built-in function stat>}, 'SEEK_SET': 0, 'SEEK_CUR': 1, 'SEEK_END': 2, 'makedirs': <function makedirs at 0x0000028F0E0254C0>, 'removedirs': <function removedirs at 0x0000028F0E042040>, 'renames': <function renames at 0x0000028F0E0420D0>, 'walk': <function walk at 0x0000028F0E042160>, 'execl': <function execl at 0x0000028F0E0421F0>, 'execle': <function execle at 0x0000028F0E042280>, 'execlp': <function execlp at 0x0000028F0E042310>, 'execlpe': <function execlpe at 0x0000028F0E0423A0>, 'execvp': <function execvp at 0x0000028F0E042430>, 'execvpe': <function execvpe at 0x0000028F0E0424C0>, '_execvpe': <function _execvpe at 0x0000028F0E042550>, 'get_exec_path': <function get_exec_path at 0x0000028F0E0425E0>, 'MutableMapping': <class 'collections.abc.MutableMapping'>, '_Environ': <class 'os._Environ'>, '_putenv': <built-in function putenv>, '_unsetenv': <function <lambda> at 0x0000028F0E042670>, 'getenv': <function getenv at 0x0000028F0E4DC8B0>, 'supports_bytes_environ': False, 'fsencode': <function _fscodec.<locals>.fsencode at 0x0000028F0E4DCAF0>, 'fsdecode': <function _fscodec.<locals>.fsdecode at 0x0000028F0E4DCB80>, 'spawnl': <function spawnl at 0x0000028F0E4DCA60>, 'spawnle': <function spawnle at 0x0000028F0E4DCC10>, 'popen': <function popen at 0x0000028F0E4DCCA0>, '_wrap_close': <class 'os._wrap_close'>, 'fdopen': <function fdopen at 0x0000028F0E4DCD30>, '_fspath': <function _fspath at 0x0000028F0E4D4160>, 'PathLike': <class 'os.PathLike'>, '_AddedDllDirectory': <class 'os._AddedDllDirectory'>, 'add_dll_directory': <function add_dll_directory at 0x0000028F0E4D41F0>}\n"
     ]
    }
   ],
   "source": [
    "import os\n",
    "print(os.__file__)\n",
    "print(os.__name__)\n",
    "print(os.__doc__)\n",
    "print(os.__dict__)"
   ]
  },
  {
   "cell_type": "markdown",
   "id": "rural-transportation",
   "metadata": {},
   "source": [
    "四、异常处理  \n",
    "（一）、什么是异常  \n",
    "程序执行过程中遇到了错误，无法继续执行了，会出现一些错误提示，这就是异常\n",
    "\n",
    "（二）、python常见的异常类型\n",
    "1. 属性不存在：AttributeError: module 'os' has no attribute '_file__'\n",
    "2. 找不到变量：NameError: name 'pritn' is not defined\n",
    "3. 下标越界：IndexError: string index out of range\n",
    "4. 语法错误：SyntaxError: invalid syntax\n",
    "5. key不存在：KeyError: 'key2'"
   ]
  }
 ],
 "metadata": {
  "kernelspec": {
   "display_name": "Python 3",
   "language": "python",
   "name": "python3"
  },
  "language_info": {
   "codemirror_mode": {
    "name": "ipython",
    "version": 3
   },
   "file_extension": ".py",
   "mimetype": "text/x-python",
   "name": "python",
   "nbconvert_exporter": "python",
   "pygments_lexer": "ipython3",
   "version": "3.8.0"
  }
 },
 "nbformat": 4,
 "nbformat_minor": 5
}
