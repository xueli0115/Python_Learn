{
 "cells": [
  {
   "cell_type": "markdown",
   "id": "a0c6ba03",
   "metadata": {},
   "source": [
    "##### 一、python和pycharm的区别\n",
    "\n",
    "1.编程语言：解释型（python）、编译（Java）\n",
    "\n",
    "2.pycharm：用来写python代码的工具\n",
    "##### 二、pycharm的使用\n",
    "\n",
    "1.字体设置：File>>>settings>>>Editor>>>Font>>>size\n",
    "\n",
    "2.主题设置：File>>>settings>>>Editor>>>ColorScheme>>>General>>>选择主题\n",
    "\n",
    "3.选择解释器：File>>>settings>>>Project>>>选择解释器\n",
    "\n",
    "4.添加注释：File>>>settings>>>Editor>>>File and Code  Templates\n",
    "\n",
    "##### 三、python文件执行"
   ]
  },
  {
   "cell_type": "code",
   "execution_count": null,
   "id": "7b3e439e",
   "metadata": {},
   "outputs": [],
   "source": [
    "print(\"hello python\")"
   ]
  },
  {
   "cell_type": "markdown",
   "id": "ad129bd0",
   "metadata": {},
   "source": [
    "##### 四、项目创建\n",
    "\n",
    "1、项目创建：File>>>new project\n",
    "\n",
    "2、创建包：在项目文件夹上右键，Python Package\n",
    "\n",
    "3、创建文件：在项目包上右键new python File\n",
    "\n",
    "##### 五、python包管理\n",
    "\n",
    "pip用来管理第三方包\n",
    "\n",
    "1.在Terminal中输入pip list，查看已经安装的python包\n",
    "\n",
    "2.安装一个包：pip install package_name\n",
    "\n",
    "​\t\t\t\t\t\t\tpip install -i  https://pypi.tuna.tsinghua.edu.cn/simple package_name\n",
    "\n",
    "3.卸载包：pip uninstall package_name \n",
    "\n",
    "4.更新包：pip install -U package_name\n",
    "\n",
    "5.虚拟环境相关（了解）：\n",
    "\n",
    "- 导出依赖包：pip freeze>requirement.txt\n",
    "- 安装依赖包：pip install -r requirement.txt\n",
    "\n",
    "##### 六、python基本语法\n",
    "\n",
    "1.缩进来区分代码块\n",
    "\n",
    "tab键==4个空格键\n",
    "\n",
    "2.换行：表示一行代码执行结束\n",
    "\n",
    "3.注释：#（快捷键：ctrl+/）\n",
    "\n",
    "   三个单引号，三个双引号也是注释\n",
    "\n",
    "4.输出：print\n",
    "\n",
    "  \\:续航符\n",
    "\n",
    "##### 七、python变量和标识符\n",
    "\n",
    "1.什么是变量：计算机当中用来存储值得抽象概念\n",
    "\n",
    "2.变量命名规则：\n",
    "\n",
    "- 由字母、数字、下划线组成\n",
    "\n",
    "- 不能以数字开头\n",
    "\n",
    "- 区分大小写\n",
    "\n",
    "- 不能使用关键字"
   ]
  },
  {
   "cell_type": "code",
   "execution_count": null,
   "id": "8a56bd53",
   "metadata": {},
   "outputs": [],
   "source": [
    "#展示python中所有的关键字\n",
    "import keyword\n",
    "print(keyword.kwlist)"
   ]
  },
  {
   "cell_type": "markdown",
   "id": "50c8c445",
   "metadata": {},
   "source": [
    "- 可读性要强，见名知义\n",
    "\n",
    "3.标识符：用来指定某个实体的符号\n",
    "\n",
    "- 变量名、包名称、文件名称、函数名称、类名称都是标识符\n",
    "\n",
    "- 命名风格：\n",
    "\n",
    "  大驼峰（FirstName）、小驼峰（firstName）、下划线连接（first_name）\n",
    "\n",
    "- 建议命名规则\n",
    "\n",
    "  - 类名：大驼峰\n",
    "  - 函数名：下划线连接\n",
    "  - 变量名：下划线连接\n",
    "\n",
    "##### 八、python常用数据类型\n",
    "\n",
    "1. 数值：1，10，int ，float\n",
    "\n",
    "2. 字符串\n",
    "\n",
    "3. 布尔值\n",
    "\n",
    "4. 元组\n",
    "\n",
    "5. 列表\n",
    "\n",
    "6. 字典\n",
    "\n",
    "7. 集合\n",
    "\n",
    "8. None"
   ]
  },
  {
   "cell_type": "code",
   "execution_count": null,
   "id": "abf546f6",
   "metadata": {},
   "outputs": [],
   "source": [
    "#怎么判断一个变量的数据类型\n",
    "#type(object)\n",
    "#isinstance(object,type)"
   ]
  }
 ],
 "metadata": {
  "kernelspec": {
   "display_name": "Python 3",
   "language": "python",
   "name": "python3"
  },
  "language_info": {
   "codemirror_mode": {
    "name": "ipython",
    "version": 3
   },
   "file_extension": ".py",
   "mimetype": "text/x-python",
   "name": "python",
   "nbconvert_exporter": "python",
   "pygments_lexer": "ipython3",
   "version": "3.8.0"
  }
 },
 "nbformat": 4,
 "nbformat_minor": 5
}
