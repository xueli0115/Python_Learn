{
 "cells": [
  {
   "cell_type": "markdown",
   "id": "4d7aaff9",
   "metadata": {},
   "source": [
    "##### 一、运算符\n",
    "\n",
    "（一）算术运算"
   ]
  },
  {
   "cell_type": "code",
   "execution_count": 2,
   "id": "260a7960",
   "metadata": {},
   "outputs": [
    {
     "name": "stdout",
     "output_type": "stream",
     "text": [
      "12\n",
      "8\n",
      "20\n",
      "3.3333333333333335\n",
      "3\n",
      "1\n",
      "8\n"
     ]
    }
   ],
   "source": [
    "#加减乘除\n",
    "print(10+2)\n",
    "print(10-2)\n",
    "print(10*2)\n",
    "print(10/3)#结果为3.33333333335\n",
    "#取整\n",
    "print(10//3)#结果为3\n",
    "#取余（或称取模）\n",
    "print(10%3)#结果为1\n",
    "#幂运算\n",
    "print(2**3)#结果为8"
   ]
  },
  {
   "cell_type": "markdown",
   "id": "c4ca20c2",
   "metadata": {},
   "source": [
    "（二）赋值运算"
   ]
  },
  {
   "cell_type": "code",
   "execution_count": 1,
   "id": "23cc72c2",
   "metadata": {},
   "outputs": [
    {
     "name": "stdout",
     "output_type": "stream",
     "text": [
      "hello\n",
      "--------------------\n",
      "12\n",
      "8\n",
      "20\n",
      "5.0\n"
     ]
    }
   ],
   "source": [
    "#赋值\n",
    "str_01='hello'\n",
    "print(str_01)\n",
    "print(\"-\"*20)\n",
    "\n",
    "#以下常用于for循环和while循环，当计数器\n",
    "#+=\n",
    "num1=2\n",
    "num2=10\n",
    "num2=num1+num2#等同于num2+=num1\n",
    "print(num2)\n",
    "\n",
    "#-=\n",
    "num3=10\n",
    "num3=num3-num1\n",
    "#等同于num3-=num1\n",
    "print(num3)\n",
    "\n",
    "#*=\n",
    "num4=10\n",
    "num4=num4*num1\n",
    "#等同于num3*=num1\n",
    "print(num4)\n",
    "\n",
    "#/=\n",
    "num5=10\n",
    "num5=num5/num1\n",
    "#等同于num5/=num1\n",
    "print(num5)"
   ]
  },
  {
   "cell_type": "markdown",
   "id": "854b86df",
   "metadata": {},
   "source": [
    "（三）比较运算\n",
    "\n",
    "<font color='red'>返回的是布尔值:true,false</font>"
   ]
  },
  {
   "cell_type": "code",
   "execution_count": 1,
   "id": "12c47e10",
   "metadata": {},
   "outputs": [
    {
     "name": "stdout",
     "output_type": "stream",
     "text": [
      "False\n",
      "True\n",
      "False\n",
      "True\n",
      "True\n",
      "False\n"
     ]
    }
   ],
   "source": [
    "print(1>2)\n",
    "print(1<2)\n",
    "print(1>=2)\n",
    "print(1<=2)\n",
    "print(1!=2)\n",
    "print(1==2)"
   ]
  },
  {
   "cell_type": "markdown",
   "id": "f6b9c495",
   "metadata": {},
   "source": [
    "（四）逻辑运算"
   ]
  },
  {
   "cell_type": "code",
   "execution_count": 2,
   "id": "f3d7598a",
   "metadata": {},
   "outputs": [
    {
     "name": "stdout",
     "output_type": "stream",
     "text": [
      "False\n",
      "True\n",
      "False\n",
      "True\n"
     ]
    }
   ],
   "source": [
    "num1=10\n",
    "num2=20\n",
    "\n",
    "#与：and  \n",
    "#判断num1是否等于10，判断num2是否等于10，当两个条件都为真，表达式返回真（True），否则返回假（False）\n",
    "print(num1==10 and num2==10)\n",
    "\n",
    "#或：or   \n",
    "#判断num1是否等于10，判断num2是否等于10，当两个条件都为假，表达式返回假（False），否则返回真（True）\n",
    "print(num1==10 or num2==10)\n",
    "\n",
    "#非：！\n",
    "print(num1!=10)\n",
    "\n",
    "#相同：==\n",
    "print(num1==10)"
   ]
  },
  {
   "cell_type": "markdown",
   "id": "826f2104",
   "metadata": {},
   "source": [
    "（五）三目运算符"
   ]
  },
  {
   "cell_type": "code",
   "execution_count": 3,
   "id": "3edc5ccd",
   "metadata": {},
   "outputs": [],
   "source": [
    "a=10\n",
    "b=5\n",
    "max=a if a>b else b"
   ]
  },
  {
   "cell_type": "markdown",
   "id": "79bc6279",
   "metadata": {},
   "source": [
    "##### 二、字符串\n",
    "\n",
    "（一）字符串的定义\n",
    "\n",
    "​\t定义：单引号、双引号、三个单引号、三个双引号\n",
    "\n",
    "​\t\t\t\t加上引号类型就是字符串（“10”）"
   ]
  },
  {
   "cell_type": "code",
   "execution_count": 4,
   "id": "ab383397",
   "metadata": {},
   "outputs": [
    {
     "name": "stdout",
     "output_type": "stream",
     "text": [
      "hello <class 'str'>\n",
      "python <class 'str'>\n",
      "中国 <class 'str'>\n",
      "\n",
      "hello world!\n",
      " <class 'str'>\n",
      "嗯哼\n"
     ]
    }
   ],
   "source": [
    "#单引号、双引号\n",
    "str_01='hello'\n",
    "str_02=\"python\"\n",
    "str_03=\"中国\"\n",
    "print(str_01,type(str_01))\n",
    "print(str_02,type(str_02))\n",
    "print(str_03,type(str_03))\n",
    "\n",
    "#三个单引号、三个双引号\n",
    "str_04='''\n",
    "hello world!\n",
    "'''\n",
    "str_05=\"\"\"嗯哼\"\"\"\n",
    "print(str_04,type(str_04))\n",
    "print(str_05)"
   ]
  },
  {
   "cell_type": "markdown",
   "id": "734b7317",
   "metadata": {},
   "source": [
    "（二）字符串操作\n",
    "\n",
    "1.字符串访问"
   ]
  },
  {
   "cell_type": "code",
   "execution_count": 5,
   "id": "e210f8b1",
   "metadata": {},
   "outputs": [
    {
     "name": "stdout",
     "output_type": "stream",
     "text": [
      "<class 'int'>\n",
      "<class 'str'>\n",
      "h\n"
     ]
    }
   ],
   "source": [
    "#类型转换\n",
    "num1=10\n",
    "print(type(num1))\n",
    "str(num1)\n",
    "print(type(str(num1)))\n",
    "\n",
    "#通过索引访问，索引从0开始\n",
    "str1=\"hello python\"\n",
    "print(str1[0])"
   ]
  },
  {
   "cell_type": "markdown",
   "id": "d4dcb5fe",
   "metadata": {},
   "source": [
    "2.字符串切片\n",
    "\n",
    "<font color='red'>左闭右开，只包含左边，不包含右边</font>\n",
    "\n",
    "print(str[起始索引：结束索引：步长])\n",
    "\n",
    "注意点：\n",
    "\n",
    "1. 默认起始位置从0开始，步长是1\n",
    "2. 左闭右开\n",
    "3. 如果结束索引不屑，则默认结束为字符串长度\n",
    "4. 空格也占一个索引位\n",
    "5. 倒序：步长为负数\n",
    "6. 起始索引必须小于结束索引\n",
    "\n",
    "无论是正序切片还是倒序切片，都有两种写法：\n",
    "\n",
    "1. 索引从0开始正序取值\n",
    "2. 索引从-1开始倒序取值\n",
    "\n",
    "原则：需要的取值必须在这个范围内\n",
    "\n",
    "注意：正序：索引取值从0开始\n",
    "\n",
    "​\t\t   倒序：索引从-1开始"
   ]
  },
  {
   "cell_type": "code",
   "execution_count": 6,
   "id": "5f6544d7",
   "metadata": {},
   "outputs": [
    {
     "name": "stdout",
     "output_type": "stream",
     "text": [
      "hello\n",
      "hlopt\n",
      "hlopto\n",
      "hello python\n"
     ]
    }
   ],
   "source": [
    "#切片左闭右开\n",
    "str1=\"hello python\"\n",
    "#实际取到str[0]到str[4]\n",
    "print(str1[0:5])\n",
    "\n",
    "#步长\n",
    "#使用过程中大部分步长是1，默认步长1，可以省略不写\n",
    "#起始索引：0\n",
    "#结束索引：10\n",
    "#步长：2\n",
    "print(str1[0:10:2])\n",
    "\n",
    "#起始索引：0\n",
    "#结束索引：最后一位,len(str1)表示str1的长度\n",
    "#步长：2\n",
    "print(str1[0:len(str1):2])\n",
    "\n",
    "#默认起始位置从0开始，步长是1\n",
    "print(str1[:len(str1)])\n",
    "\n",
    "#倒叙切片\n",
    "#起始索引是：-1\n",
    "#结束索引是：-字符串长度\n"
   ]
  },
  {
   "cell_type": "markdown",
   "id": "9f744544",
   "metadata": {},
   "source": [
    "3.字符串运算\n",
    "\n",
    "1. 字符串拼接：\"+\""
   ]
  },
  {
   "cell_type": "code",
   "execution_count": 7,
   "id": "94ec945a",
   "metadata": {},
   "outputs": [
    {
     "name": "stdout",
     "output_type": "stream",
     "text": [
      "hellopython\n"
     ]
    }
   ],
   "source": [
    "str_01=\"hello\"\n",
    "str_02=\"python\"\n",
    "print(str_01+str_02)"
   ]
  },
  {
   "cell_type": "markdown",
   "id": "14c1a8dc",
   "metadata": {},
   "source": [
    "\t2.重复输出：“*”"
   ]
  },
  {
   "cell_type": "code",
   "execution_count": 8,
   "id": "b5a33fdd",
   "metadata": {},
   "outputs": [
    {
     "name": "stdout",
     "output_type": "stream",
     "text": [
      "aaa\n"
     ]
    }
   ],
   "source": [
    "print(\"a\"*3)"
   ]
  },
  {
   "cell_type": "markdown",
   "id": "e6afc45c",
   "metadata": {},
   "source": [
    "\t3.字符转义"
   ]
  },
  {
   "cell_type": "code",
   "execution_count": 9,
   "id": "646c558f",
   "metadata": {},
   "outputs": [
    {
     "name": "stdout",
     "output_type": "stream",
     "text": [
      "hello\n",
      "python\n",
      "hello\\npython\n",
      "hello\\npython\n",
      "\\\n"
     ]
    }
   ],
   "source": [
    "#\\n换行\n",
    "#输出hello\n",
    "#    python\n",
    "print('hello\\npython')\n",
    "\n",
    "#r:路径处理\n",
    "#\\:关闭转义\n",
    "#输出hello\\npython\n",
    "print(r'hello\\npython')\n",
    "print('hello\\\\npython')\n",
    "\n",
    "#\\\n",
    "print('\\\\')"
   ]
  },
  {
   "cell_type": "markdown",
   "id": "f4f6e5e0",
   "metadata": {},
   "source": [
    "4.字符串常用方法\n",
    "\n",
    "1. 大小写\n",
    "\n",
    "   全部大写：upper()\n",
    "\n",
    "   全部小写：lower()\n",
    "\n",
    "   首字母大写:capitalize()\n",
    "\n",
    "   每一个首字母大写：title()\n",
    "\n",
    "   大小写互换:swapcase()"
   ]
  },
  {
   "cell_type": "code",
   "execution_count": 10,
   "id": "d26fb137",
   "metadata": {},
   "outputs": [
    {
     "name": "stdout",
     "output_type": "stream",
     "text": [
      "python\n",
      "python\n",
      "Python\n",
      "Hello Python\n",
      "pYTHON\n"
     ]
    }
   ],
   "source": [
    "#验证码，不区分大小写\n",
    "#快捷键：在代码中间换行 ctrl+shift+enter\n",
    "code='python'\n",
    "#变成大写\n",
    "new_code=code.upper()\n",
    "print(code)\n",
    "\n",
    "#全部小写\n",
    "code2='PYTHON'\n",
    "new_code2=code2.lower()\n",
    "print(new_code2)\n",
    "\n",
    "#首字母大写\n",
    "code3='python'\n",
    "new_code3=code3.capitalize()\n",
    "print(new_code3)\n",
    "\n",
    "#每一个首字母大写\n",
    "code4='hello python'\n",
    "new_code4=code4.title()\n",
    "print(new_code4)\n",
    "\n",
    "#大小写互换\n",
    "code5='Python'\n",
    "new_code5=code5.swapcase()\n",
    "print(new_code5)"
   ]
  },
  {
   "cell_type": "markdown",
   "id": "ba84f9d2",
   "metadata": {},
   "source": [
    " 2.统计相关的\n",
    "\n",
    "​\t\tcount():统计字符在字符串中出现的次数\n",
    "\n",
    "​\t\t\tstr_1.count('h',0,3)\n",
    "\n",
    "​\t\t\t\tsub:需要统计的字符\n",
    "\n",
    "​\t\t\t\tstart:统计范围的开始索引值\n",
    "\n",
    "​\t\t\t\tend:统计范围的结束索引值\n",
    "\n",
    "​\t\t\t\t返回：sub在字符串中出现的次数\n",
    "\n",
    "​\t\tfind():查找字符在字符串中的索引位置 \n",
    "\n",
    "​\t\t\t\tsub:需要统计的字符\n",
    "\n",
    "​\t\t\t\tstart:统计范围的开始索引值\n",
    "\n",
    "​\t\t\t\tend:统计范围的结束索引值\n",
    "\n",
    "​\t\t\t\t默认只查询第一次找到的字符，然后返回索引值"
   ]
  },
  {
   "cell_type": "code",
   "execution_count": 11,
   "id": "88d9513c",
   "metadata": {},
   "outputs": [
    {
     "name": "stdout",
     "output_type": "stream",
     "text": [
      "0\n",
      "0\n"
     ]
    }
   ],
   "source": [
    "#代码格式话快捷键：ctrl+alt+l\n",
    "#查看源码:ctrl+鼠标选中左键点击\n",
    "#count\n",
    "str_01='hello python'\n",
    "times=str_01.count(\"0\")\n",
    "print(times)\n",
    "\n",
    "#find\n",
    "str_02='hello python'\n",
    "index=str_02.find('h')\n",
    "print(index)\n"
   ]
  },
  {
   "cell_type": "markdown",
   "id": "5f03bc5e",
   "metadata": {},
   "source": [
    "3.拆分&替换\n",
    "\n",
    "- split():字符拆分，默认是通过空格键拆分，可以自己指定拆分字符\n",
    "\n",
    "  拆分过程会把指定的拆分字符丢掉\n",
    "\n",
    "  maxsplit此参数作用控制拆分次数，默认(-1)不限制拆分次数"
   ]
  },
  {
   "cell_type": "code",
   "execution_count": 1,
   "id": "023b2cd4",
   "metadata": {},
   "outputs": [
    {
     "name": "stdout",
     "output_type": "stream",
     "text": [
      "['hello', 'python']\n",
      "2\n",
      "['hell', ' python']\n"
     ]
    }
   ],
   "source": [
    "str_01=\"hello python\"\n",
    "new_str=str_01.split()\n",
    "print(new_str)\n",
    "print(len(new_str))\n",
    "\n",
    "#不加maxsplit参数，默认不限制拆分次数\n",
    "new_str01=str_01.split('o',1)\n",
    "print(new_str01)"
   ]
  },
  {
   "cell_type": "markdown",
   "id": "b2fe43fc",
   "metadata": {},
   "source": [
    "replace()：字符串的替换\n",
    "\n",
    "第一个参数：需要替换的字符\n",
    "\n",
    "第二个参数：替换后的字符\n",
    "\n",
    "第三个字符：替换次数（可以不填）\n",
    "\n",
    "返回：替换后的字符串"
   ]
  },
  {
   "cell_type": "code",
   "execution_count": 13,
   "id": "81b94fc4",
   "metadata": {},
   "outputs": [
    {
     "name": "stdout",
     "output_type": "stream",
     "text": [
      "hell8 python\n"
     ]
    }
   ],
   "source": [
    "str_01='hello python'\n",
    "new_str01=str_01.replace('o','8',1)\n",
    "print(new_str01)"
   ]
  },
  {
   "cell_type": "markdown",
   "id": "2d316226",
   "metadata": {},
   "source": [
    "join:字符串拼接"
   ]
  },
  {
   "cell_type": "code",
   "execution_count": 14,
   "id": "d82ca317",
   "metadata": {},
   "outputs": [
    {
     "name": "stdout",
     "output_type": "stream",
     "text": [
      "h-e-l-l-o-p-y-t-h-o-n\n"
     ]
    }
   ],
   "source": [
    "str_01='hellopython'\n",
    "new_str='-'.join(str_01)\n",
    "print(new_str)\n",
    "#输出：h-e-l-l-o-p-y-t-h-o-n"
   ]
  },
  {
   "cell_type": "markdown",
   "id": "e93ae1ca",
   "metadata": {},
   "source": [
    "字符串格式化\n",
    "\n",
    "1. %\n",
    "\n",
    "   %s:字符串占位符，如果传的不是字符串，会发生强制类型转换\n",
    "\n",
    "   %d: int类型的占位符、float（会抹掉小数部分）\n",
    "\n",
    "   %f: float类型的占位符"
   ]
  },
  {
   "cell_type": "code",
   "execution_count": 15,
   "id": "b8b3a127",
   "metadata": {},
   "outputs": [
    {
     "name": "stdout",
     "output_type": "stream",
     "text": [
      "this is test py39\n",
      "this is an number 100\n",
      "this is an number 100\n"
     ]
    }
   ],
   "source": [
    "#%s 字符串占位符\n",
    "test_str='this is test %s'%('py39')\n",
    "print(test_str)  \n",
    "\n",
    "#%d int类型占位符\n",
    "test_str01='this is an number %d'%(100)\n",
    "print(test_str01)\n",
    "#输出：this is an number 100\n",
    "\n",
    "test_str02='this is an number %d'%(-100)\n",
    "print(test_str01)\n",
    "#输出：this is an number -100\n",
    "\n",
    "test_str03='the price is %d'%(9.9)\n",
    "#输出：the price is 9\n",
    "\n",
    "#%f: float类型的占位符\n",
    "test_str04='the price is %f'%(9.9)\n",
    "#输出：the price is 9.9\n",
    "\n",
    "#保留两位小数\n",
    "test_str05='the price is %.2f'%(9.9)\n",
    "#输出：the price is 9.90"
   ]
  },
  {
   "cell_type": "markdown",
   "id": "5b57c409",
   "metadata": {},
   "source": [
    "format\n",
    "\n",
    "- 按照顺序取值\n",
    "\n",
    "  参数的个数要大于等于占位符格式，只能多不能少\n",
    "\n",
    "- 按照索引取值（从0开始）\n",
    "\n",
    "- 按关键字取值\n",
    "\n",
    "补充：\n",
    "\n",
    "- 调整精度"
   ]
  },
  {
   "cell_type": "code",
   "execution_count": 16,
   "id": "b0fd1d36",
   "metadata": {},
   "outputs": [
    {
     "name": "stdout",
     "output_type": "stream",
     "text": [
      "the price is 10.99 100 200\n",
      "the price is 200 100 10.99\n",
      "the price is 10.99 100 200\n"
     ]
    }
   ],
   "source": [
    " #按顺序取值\n",
    "price_01='the price is {} {} {}'.format(10.99, 100, 200, -9)\n",
    "print(price_01)\n",
    "#输出：the price is 10.99 100 200\n",
    "\n",
    "#按索引取值（0开始）\n",
    "price_02='the price is {2} {1} {0}'.format(10.99, 100, 200, -9)\n",
    "print(price_02)\n",
    "#输出：the price is  200 100 10.99\n",
    "\n",
    "#按关键字取值\n",
    "price_03='the price is {price1} {price2} {price3}'.format(price1 = 10.99, price2 = 100, price3 = 200, price4 = -9)\n",
    "print(price_03)\n",
    "#输出：the price is  10.99 100 200"
   ]
  },
  {
   "cell_type": "code",
   "execution_count": 17,
   "id": "234fd984",
   "metadata": {},
   "outputs": [
    {
     "name": "stdout",
     "output_type": "stream",
     "text": [
      "the price is 11.00\n",
      "the price is 1100.00%\n",
      "the price is 1099.99%\n"
     ]
    }
   ],
   "source": [
    " #调整精度\n",
    "price_01='the price is {:.2f}'.format(10.99999)\n",
    "print(price_01)\n",
    "#输出：the price is  11.00\n",
    "\n",
    "#百分比的格式化\n",
    "price_02='the price is {:.2%}'.format(10.99999)\n",
    "print(price_02)\n",
    "#输出：the price is  1100.00%\n",
    "\n",
    "price_03='the price is {:.2%}'.format(10.9999)\n",
    "print(price_03)\n",
    "#输出：the price is  1099.99%"
   ]
  },
  {
   "cell_type": "markdown",
   "id": "4a48addb",
   "metadata": {},
   "source": [
    "f表达式"
   ]
  },
  {
   "cell_type": "code",
   "execution_count": 18,
   "id": "8a348405",
   "metadata": {},
   "outputs": [
    {
     "name": "stdout",
     "output_type": "stream",
     "text": [
      "the price is 100\n"
     ]
    }
   ],
   "source": [
    " #f表达式\n",
    "price_01='100'\n",
    "price=f'the price is {price_01}'\n",
    "print(price)"
   ]
  }
 ],
 "metadata": {
  "kernelspec": {
   "display_name": "Python 3",
   "language": "python",
   "name": "python3"
  },
  "language_info": {
   "codemirror_mode": {
    "name": "ipython",
    "version": 3
   },
   "file_extension": ".py",
   "mimetype": "text/x-python",
   "name": "python",
   "nbconvert_exporter": "python",
   "pygments_lexer": "ipython3",
   "version": "3.8.0"
  }
 },
 "nbformat": 4,
 "nbformat_minor": 5
}
