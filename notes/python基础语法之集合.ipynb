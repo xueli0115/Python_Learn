{
 "cells": [
  {
   "cell_type": "markdown",
   "id": "38e4f429",
   "metadata": {},
   "source": [
    "#### 集合\n",
    "\n",
    "一、特点\n",
    "\n",
    "1. 无序\n",
    "2. 元素不可以重复\n",
    "3. 不支持索引取值\n",
    "\n",
    "二、相关操作\n",
    "\n",
    "1. 创建\n",
    "\n",
    "   set1={1,2,3}\n",
    "\n",
    "2. 添加元素\n",
    "\n",
    "   set1.add()\n",
    "\n",
    "3. 删除\n",
    "\n",
    "   pop,  remove,   clear\n",
    "\n",
    "三、去重"
   ]
  },
  {
   "cell_type": "code",
   "execution_count": 1,
   "id": "11dbba45",
   "metadata": {},
   "outputs": [
    {
     "name": "stdout",
     "output_type": "stream",
     "text": [
      "[1, 2, 3, 4, 5, 6, 7]\n"
     ]
    }
   ],
   "source": [
    "list1=[1,2,3,3,3,4,5,5,6,7]\n",
    "new_list=list(set(list1))\n",
    "print(new_list)"
   ]
  },
  {
   "cell_type": "markdown",
   "id": "7e64fe5e",
   "metadata": {},
   "source": [
    "四、数据类型转换\n",
    "\n",
    "​\t语法：关键字（对象）\n",
    "\n",
    "​\t数据类型：int, list, tuple, set\n",
    "\n",
    "1. int\t\tstr       相互转换\n",
    "2. list    tuple      相互转换\n",
    "3. list    set       相互转换\n",
    "4. tuple   set       相互转换"
   ]
  },
  {
   "cell_type": "code",
   "execution_count": null,
   "id": "6f3ea080",
   "metadata": {},
   "outputs": [],
   "source": []
  }
 ],
 "metadata": {
  "kernelspec": {
   "display_name": "Python 3",
   "language": "python",
   "name": "python3"
  },
  "language_info": {
   "codemirror_mode": {
    "name": "ipython",
    "version": 3
   },
   "file_extension": ".py",
   "mimetype": "text/x-python",
   "name": "python",
   "nbconvert_exporter": "python",
   "pygments_lexer": "ipython3",
   "version": "3.8.0"
  }
 },
 "nbformat": 4,
 "nbformat_minor": 5
}
